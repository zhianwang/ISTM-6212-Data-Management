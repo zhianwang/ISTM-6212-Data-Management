{
 "cells": [
  {
   "cell_type": "markdown",
   "metadata": {},
   "source": [
    "# Exercise 04 - Due Friday, October 21 at 12pm\n",
    "\n",
    "*Objectives*: Gain experience loading a CSV dataset into a database model you define yourself and using SQL to explore its contents. Explore the data by writing and executing a number of SQL queries using common syntax and functions and describing your findings.\n",
    "\n",
    "*Grading criteria*: The tasks should all be completed, and questions should all be answered with SQL queries in the space provided, unless a text answer is requested. Results should be correct, according to the embedded tests. The notebook itself should be completely reproducible; from start to finish, another person should be able to use the same code to obtain the same results as yours.  Note that you will receive no more than partial credit if you do not add text/markdown cells explaining your thinking at each major step in each problem.\n",
    "\n",
    "*Deadline*: Friday, October 21, 12pm. Submit your notebook to Blackboard and push it to your GitHub repository.\n",
    "\n",
    "## Setup - obtain data and create database\n",
    "\n",
    "The US City Open Data Census has data on [restaurant inspections from all over the country](http://us-city.census.okfn.org/dataset/food-safety).  Let's take a look at data from Albuquerque.  *Note*: metadata and other details for this dataset are available at http://data.cabq.gov/business/foodinspections/.\n",
    "\n",
    "Fyi, to save you a step, I've converted this file into a clean CSV file by using the `dos2unix` command to change its line endings and to switch it to use commas instead of tabs using `csvformat -t inputfile.csv > outputfile.csv`.\n",
    "\n",
    "First we download the dataset:"
   ]
  },
  {
   "cell_type": "code",
   "execution_count": 1,
   "metadata": {
    "collapsed": false,
    "scrolled": true
   },
   "outputs": [
    {
     "name": "stdout",
     "output_type": "stream",
     "text": [
      "--2016-10-24 15:15:55--  https://raw.githubusercontent.com/gwsb-istm-6212-fall-2016/syllabus-and-schedule/master/exercises/abq-food-inspections-fy2010.csv\n",
      "Resolving raw.githubusercontent.com (raw.githubusercontent.com)... 151.101.32.133\n",
      "Connecting to raw.githubusercontent.com (raw.githubusercontent.com)|151.101.32.133|:443... connected.\n",
      "HTTP request sent, awaiting response... 200 OK\n",
      "Length: 5025226 (4.8M) [text/plain]\n",
      "Saving to: ‘abq-food-inspections-fy2010.csv’\n",
      "\n",
      "abq-food-inspection 100%[=====================>]   4.79M  --.-KB/s   in 0.09s  \n",
      "\n",
      "2016-10-24 15:15:55 (50.6 MB/s) - ‘abq-food-inspections-fy2010.csv’ saved [5025226/5025226]\n",
      "\n"
     ]
    }
   ],
   "source": [
    "!wget https://raw.githubusercontent.com/gwsb-istm-6212-fall-2016/syllabus-and-schedule/master/exercises/abq-food-inspections-fy2010.csv"
   ]
  },
  {
   "cell_type": "markdown",
   "metadata": {},
   "source": [
    "## Problem 1 - examine the data (35 points)\n",
    "\n",
    "Use `csvstat` and other tools as you see fit and observe its contents.  Review the metadata definitions linked to above.  Describe what you see:  What do all the columns mean?  Are there null values?  Which columns interest you the most?  Which columns present some complications or questions you would like to ask?"
   ]
  },
  {
   "cell_type": "markdown",
   "metadata": {},
   "source": [
    "Insert a combination of code and text/markdown cells here to review the data and describe what you find."
   ]
  },
  {
   "cell_type": "code",
   "execution_count": 2,
   "metadata": {
    "collapsed": true
   },
   "outputs": [],
   "source": [
    "!mv abq-food-inspections-fy2010.csv fy2010.csv"
   ]
  },
  {
   "cell_type": "code",
   "execution_count": 3,
   "metadata": {
    "collapsed": false
   },
   "outputs": [
    {
     "name": "stdout",
     "output_type": "stream",
     "text": [
      "17557 fy2010.csv\r\n"
     ]
    }
   ],
   "source": [
    "!wc -l fy2010.csv"
   ]
  },
  {
   "cell_type": "markdown",
   "metadata": {},
   "source": [
    "**By using 'wc -l', we could know that there are 17557 records in the file.**"
   ]
  },
  {
   "cell_type": "code",
   "execution_count": 4,
   "metadata": {
    "collapsed": false,
    "scrolled": true
   },
   "outputs": [
    {
     "name": "stdout",
     "output_type": "stream",
     "text": [
      "  1: FACILITY_NAME\r\n",
      "  2: FACILITY_KEY\r\n",
      "  3: SITE_ADDRESS\r\n",
      "  4: CITY\r\n",
      "  5: STATE\r\n",
      "  6: ZIP\r\n",
      "  7: OWNER_KEY\r\n",
      "  8: OWNER_NAME\r\n",
      "  9: NATURE_OF_BUSINESS\r\n",
      " 10: STREET_NUMBER\r\n",
      " 11: STREET_NAME\r\n",
      " 12: STREET_TYPE\r\n",
      " 13: POST_DIRECTIONAL\r\n",
      " 14: PHONE\r\n",
      " 15: PROGRAM_CATEGORY\r\n",
      " 16: PROGRAM_CATEGORY_DESCRIPTION\r\n",
      " 17: INSPECTION_DATE\r\n",
      " 18: INSPECTION_TYPE\r\n",
      " 19: INSPECTION_DESC\r\n",
      " 20: SERIAL_NUM\r\n",
      " 21: ACTION_CODE\r\n",
      " 22: ACTION_DESC\r\n",
      " 23: RESULT_CODE\r\n",
      " 24: RESULT_DESC\r\n",
      " 25: VIOLATION_CODE\r\n",
      " 26: VIOLATION_DESC\r\n",
      " 27: INSPECTION_MEMO\r\n"
     ]
    }
   ],
   "source": [
    "!csvcut -n fy2010.csv"
   ]
  },
  {
   "cell_type": "markdown",
   "metadata": {},
   "source": [
    "** What do all the columns mean? **"
   ]
  },
  {
   "cell_type": "markdown",
   "metadata": {},
   "source": [
    " 1: FACILITY_NAME is the name of inspection facility\n",
    "\n",
    " 2: FACILITY_KEY is the unique identification key of the inspection facility\n",
    "\n",
    " 3: SITE_ADDRESS is the stress address of the inspection facility\n",
    "\n",
    " 4: CITY is the city of the inspection facility\n",
    "\n",
    " 5: STATE is the state of the inspection facility\n",
    "\n",
    " 6: ZIP is the zip of the inspection facility\n",
    "\n",
    " 7: OWNER_KEY is the unique identification key of the owner of inspection facility\n",
    "\n",
    " 8: OWNER_NAME is the name of the owner of the inspection facility\n",
    " \n",
    " 9: NATURE_OF_BUSINESS is the type of business\n",
    "\n",
    "10: STREET_NUMBER is the stress number of the inspection facility\n",
    "\n",
    "11: STREET_NAME is the stress name of the inspection facility\n",
    "\n",
    "12: STREET_TYPE is the stress type of the inspection facility\n",
    "\n",
    "13: POST_DIRECTIONAL is the postical direction of the inspection facility\n",
    "\n",
    "14: PHONE is the phone of the inspection facility\n",
    "\n",
    "15: PROGRAM_CATEGORY is the id that indicate the type of facility inspection\n",
    "\n",
    "16: PROGRAM_CATEGORY_DESCRIPTION is the description of the id that indicate the type of facility inspection\n",
    "\n",
    "17: INSPECTION_DATE is the date of inspection\n",
    "\n",
    "18: INSPECTION_TYPE is code for type of inspection\n",
    "\n",
    "19: INSPECTION_DESC is the description of inspection type\n",
    "\n",
    "20: SERIAL_NUM is the unique id for the inspection activity\n",
    "\n",
    "21: ACTION_CODE is the code of taken action\n",
    "\n",
    "22: ACTION_DESC is the description of take action\n",
    "\n",
    "23: RESULT_CODE is the code of inspection result\n",
    "\n",
    "24: RESULT_DESC is the description of inspection result\n",
    "\n",
    "25: VIOLATION_CODE is the code for the violation\n",
    "\n",
    "26: VIOLATION_DESC is the escription of the violation\n",
    "\n",
    "27: INSPECTION_MEMO is the note from the inspection"
   ]
  },
  {
   "cell_type": "code",
   "execution_count": 5,
   "metadata": {
    "collapsed": false,
    "scrolled": true
   },
   "outputs": [
    {
     "name": "stdout",
     "output_type": "stream",
     "text": [
      "  1. CANTEEN OF NM @ HOPE CHRISTIAN MS\n",
      "\t<class 'str'>\n",
      "\tNulls: False\n",
      "\tUnique values: 2475\n",
      "\t5 most frequent values:\n",
      "\t\tSMITHS FOOD AND DRUG CENTERS INC:\t82\n",
      "\t\tISOTOPES PARK - OVATIONS:\t57\n",
      "\t\tPER EHSII CECELIA GARCIA OOB LA REYNA DEL SUR:\t50\n",
      "\t\tECHO INC:\t41\n",
      "\t\tISLETA AMPHITHEATER:\t41\n",
      "\tMax length: 77\n",
      "  2. 76683\n",
      "\t<class 'int'>\n",
      "\tNulls: False\n",
      "\tMin: 13\n",
      "\tMax: 94039\n",
      "\tSum: 468431877\n",
      "\tMean: 46847.87248724872\n",
      "\tMedian: 51179\n",
      "\tStandard Deviation: 32564.954564802094\n",
      "\tUnique values: 2676\n",
      "\t5 most frequent values:\n",
      "\t\t46323:\t57\n",
      "\t\t65863:\t50\n",
      "\t\t80949:\t41\n",
      "\t\t32817:\t41\n",
      "\t\t54654:\t38\n",
      "  3. 8001 LOUISIANA BLVD NE \n",
      "\t<class 'str'>\n",
      "\tNulls: True\n",
      "\tUnique values: 2347\n",
      "\t5 most frequent values:\n",
      "\t\t1601 AVENIDA CESAR CHAVEZ SE:\t57\n",
      "\t\t644 OLD COORS BLVD SW:\t50\n",
      "\t\t5601 UNIVERSITY BLVD SE:\t41\n",
      "\t\t300 MENAUL NW:\t41\n",
      "\t\t88 LOUISIANA BLVD SE:\t40\n",
      "\tMax length: 35\n",
      "  4. ALBUQUERQUE\n",
      "\t<class 'str'>\n",
      "\tNulls: False\n",
      "\tValues: ALBUQUERQUE\n",
      "  5. NM\n",
      "\t<class 'str'>\n",
      "\tNulls: False\n",
      "\tValues: 87, NM\n",
      "  6. 87109\n",
      "\t<class 'str'>\n",
      "\tNulls: False\n",
      "\tUnique values: 45\n",
      "\t5 most frequent values:\n",
      "\t\t87110:\t1126\n",
      "\t\t87108:\t1124\n",
      "\t\t87102:\t915\n",
      "\t\t87109:\t915\n",
      "\t\t87106:\t862\n",
      "\tMax length: 10\n",
      "  7. 3185\n",
      "\t<class 'int'>\n",
      "\tNulls: False\n",
      "\tMin: 11\n",
      "\tMax: 85002\n",
      "\tSum: 369165898\n",
      "\tMean: 36920.281828182815\n",
      "\tMedian: 35012\n",
      "\tStandard Deviation: 29338.673044590443\n",
      "\tUnique values: 1787\n",
      "\t5 most frequent values:\n",
      "\t\t1838:\t443\n",
      "\t\t3537:\t186\n",
      "\t\t1272:\t126\n",
      "\t\t36280:\t101\n",
      "\t\t19642:\t83\n",
      "  8. CANTEEN SNACK BAR\n",
      "\t<class 'str'>\n",
      "\tNulls: False\n",
      "\tUnique values: 1752\n",
      "\t5 most frequent values:\n",
      "\t\tAPS:\t443\n",
      "\t\tSMITHS FOOD AND DRUG CENTERS INC:\t186\n",
      "\t\tCIRCLE K STORES INC:\t149\n",
      "\t\tALBERTSONS:\t126\n",
      "\t\tWAL MART STORES EAST  LP:\t101\n",
      "\tMax length: 82\n",
      "  9. FOOD SERVICES\n",
      "\t<class 'str'>\n",
      "\tNulls: True\n",
      "\tUnique values: 564\n",
      "\t5 most frequent values:\n",
      "\t\tRESTAURANT:\t2817\n",
      "\t\tFOOD SERVICE:\t393\n",
      "\t\tGROCERY:\t349\n",
      "\t\tBAR/RESTAURANT:\t292\n",
      "\t\tAPS SCHOOL FOOD SERVICE:\t253\n",
      "\tMax length: 25\n",
      " 10. 8001\n",
      "\t<class 'str'>\n",
      "\tNulls: True\n",
      "\tUnique values: 1308\n",
      "\t5 most frequent values:\n",
      "\t\t6600:\t110\n",
      "\t\t10000:\t97\n",
      "\t\t300:\t84\n",
      "\t\t8100:\t78\n",
      "\t\t1601:\t68\n",
      "\tMax length: 7\n",
      " 11. LOUISIANA\n",
      "\t<class 'str'>\n",
      "\tNulls: True\n",
      "\tUnique values: 391\n",
      "\t5 most frequent values:\n",
      "\t\tCENTRAL:\t1057\n",
      "\t\tCOORS:\t518\n",
      "\t\tMENAUL:\t517\n",
      "\t\tMONTGOMERY:\t427\n",
      "\t\tSAN MATEO:\t406\n",
      "\tMax length: 24\n",
      " 12. BLVD\n",
      "\t<class 'str'>\n",
      "\tNulls: True\n",
      "\tUnique values: 13\n",
      "\t5 most frequent values:\n",
      "\t\tBLVD:\t4339\n",
      "\t\tAV:\t1675\n",
      "\t\tST:\t1197\n",
      "\t\tRD:\t1096\n",
      "\t\tDR:\t560\n",
      "\tMax length: 4\n",
      " 13. NE\n",
      "\t<class 'str'>\n",
      "\tNulls: True\n",
      "\tValues: NW, SW, NE, SE, N\n",
      " 14. 5052597223\n",
      "\t<class 'int'>\n",
      "\tNulls: True\n",
      "\tMin: 2471094\n",
      "\tMax: 505345566137310\n",
      "\tSum: 2068053548658018\n",
      "\tMean: 224861753686.85635\n",
      "\tMedian: 5053453942\n",
      "\tStandard Deviation: 10536504016504.826\n",
      "\tUnique values: 2152\n",
      "\t5 most frequent values:\n",
      "\t\t9153321301:\t58\n",
      "\t\t5052224033:\t57\n",
      "\t\t3037929467:\t55\n",
      "\t\t3109680646:\t50\n",
      "\t\t2122383000:\t41\n",
      " 15. 0409\n",
      "\t<class 'str'>\n",
      "\tNulls: False\n",
      "\tUnique values: 25\n",
      "\t5 most frequent values:\n",
      "\t\t0406:\t4525\n",
      "\t\t0601:\t665\n",
      "\t\t0607:\t500\n",
      "\t\t0606:\t490\n",
      "\t\t0501:\t484\n",
      "\tMax length: 4\n",
      " 16. Non School\n",
      "\t<class 'str'>\n",
      "\tNulls: True\n",
      "\tUnique values: 24\n",
      "\t5 most frequent values:\n",
      "\t\tFood Service Establishment:\t4525\n",
      "\t\tRetail -Grocery:\t665\n",
      "\t\tRetail - Self Service & Prepackage Foods:\t500\n",
      "\t\tRetail - Prepackage Only:\t490\n",
      "\t\tBar:\t484\n",
      "\tMax length: 40\n",
      " 17. 2009-10-27 00:00:00\n",
      "\t<class 'datetime.date'>\n",
      "\tNulls: False\n",
      "\tMin: 2009-07-01\n",
      "\tMax: 2010-06-30\n",
      "\tUnique values: 255\n",
      "\t5 most frequent values:\n",
      "\t\t2009-12-16:\t94\n",
      "\t\t2009-09-10:\t86\n",
      "\t\t2009-09-01:\t80\n",
      "\t\t2009-10-01:\t77\n",
      "\t\t2009-09-15:\t75\n",
      " 18. _unnamed\n",
      "\t<class 'NoneType'>\n",
      "\tNulls: True\n",
      "\tValues: \n",
      " 19. ROUTINE FOOD INSPECTION\n",
      "\t<class 'str'>\n",
      "\tNulls: False\n",
      "\tUnique values: 15\n",
      "\t5 most frequent values:\n",
      "\t\tROUTINE FOOD INSPECTION:\t7075\n",
      "\t\tEMERGENCY RESPONSE:\t1140\n",
      "\t\tNew Business Inspection:\t561\n",
      "\t\tPRE-OPENING FOOD INSPECTION:\t442\n",
      "\t\tADDITIONAL SERVICE PROVIDED:\t254\n",
      "\tMax length: 32\n",
      " 20. DA7506773\n",
      "\t<class 'str'>\n",
      "\tNulls: False\n",
      "\tUnique values: 6721\n",
      "\t5 most frequent values:\n",
      "\t\tDA0047720:\t37\n",
      "\t\tDA0045731:\t36\n",
      "\t\tDA0059230:\t33\n",
      "\t\tDA0045676:\t31\n",
      "\t\tDA0047290:\t31\n",
      "\tMax length: 9\n",
      " 21. 11\n",
      "\t<class 'str'>\n",
      "\tNulls: False\n",
      "\tUnique values: 7\n",
      "\t5 most frequent values:\n",
      "\t\t11:\t8030\n",
      "\t\t00:\t1595\n",
      "\t\t09:\t211\n",
      "\t\t06:\t143\n",
      "\t\t10:\t16\n",
      "\tMax length: 2\n",
      " 22. APPROVED\n",
      "\t<class 'str'>\n",
      "\tNulls: False\n",
      "\tUnique values: 7\n",
      "\t5 most frequent values:\n",
      "\t\tAPPROVED:\t8030\n",
      "\t\tNON-GRADED:\t1595\n",
      "\t\tANNUAL STICKER ISSUED:\t211\n",
      "\t\tUNSATISFACTORY:\t143\n",
      "\t\tANNUAL STICKER NOT ISSUED:\t16\n",
      "\tMax length: 28\n",
      " 23. 03\n",
      "\t<class 'str'>\n",
      "\tNulls: False\n",
      "\tUnique values: 18\n",
      "\t5 most frequent values:\n",
      "\t\t03:\t8198\n",
      "\t\t00:\t1382\n",
      "\t\t05:\t113\n",
      "\t\t22:\t76\n",
      "\t\t13:\t52\n",
      "\tMax length: 2\n",
      " 24. IN COMPLIANCE\n",
      "\t<class 'str'>\n",
      "\tNulls: False\n",
      "\tUnique values: 18\n",
      "\t5 most frequent values:\n",
      "\t\tIN COMPLIANCE:\t8198\n",
      "\t\tNOT APPLICABLE:\t1382\n",
      "\t\tDOWNGRADE:\t113\n",
      "\t\tOUT OF BUSINESS:\t76\n",
      "\t\tPHONE CALL:\t52\n",
      "\tMax length: 37\n",
      " 25.     55    \n",
      "\t<class 'str'>\n",
      "\tNulls: True\n",
      "\tUnique values: 120\n",
      "\t5 most frequent values:\n",
      "\t\t55:\t3668\n",
      "\t\t00:\t1891\n",
      "\t\t68:\t953\n",
      "\t\t42:\t272\n",
      "\t\t35:\t249\n",
      "\tMax length: 6\n",
      " 26. Additional Comments\n",
      "\t<class 'str'>\n",
      "\tNulls: True\n",
      "\tUnique values: 66\n",
      "\t5 most frequent values:\n",
      "\t\tAdditional Comments:\t3671\n",
      "\t\tNo Violations Found:\t1894\n",
      "\t\tDelivered Informational Brochure:\t953\n",
      "\t\tPlumbing: Improperly installed/maintained/supplied:\t275\n",
      "\t\tNon-Food contact surfaces:\t254\n",
      "\tMax length: 50\n",
      " 27. _unnamed\n",
      "\t<class 'NoneType'>\n",
      "\tNulls: True\n",
      "\tValues: \n",
      "\n",
      "Row count: 9999\n"
     ]
    }
   ],
   "source": [
    "!shuf -n 10000 fy2010.csv | csvstat"
   ]
  },
  {
   "cell_type": "markdown",
   "metadata": {},
   "source": [
    "**Are there null values? **"
   ]
  },
  {
   "cell_type": "markdown",
   "metadata": {},
   "source": [
    "There are 12 columns have null values:\n",
    "1. Site Address\n",
    "2. Nature Of_Business\n",
    "3. Street Number\n",
    "4. Street Name\n",
    "5. Street Type\n",
    "6. Post Directional\n",
    "7. Phone\n",
    "8. Program Category Description\n",
    "9. Inspection Type\n",
    "10. Violation Code\n",
    "11. Violation Desc\n",
    "12. Inspection Memo"
   ]
  },
  {
   "cell_type": "markdown",
   "metadata": {},
   "source": [
    "**Which columns interest you the most? Which columns present some complications or questions you would like to ask?**"
   ]
  },
  {
   "cell_type": "markdown",
   "metadata": {},
   "source": [
    "The columns that interest me most are facility name, nature of business, inspection date, inspection description, action description, result description, and violation description. \n",
    "\n",
    "Below are the questions I would like to ask.\n",
    "1. Which restaurant owner had the most violations?\n",
    "2. Do the facilities in nearby areas have the similar inspection results?\n",
    "3. Does the inspection result vary by business type?\n",
    "4. Which business types were constantly being inspected?\n",
    "5. How many inspections are there in each quarter? Which quarter had the most one?"
   ]
  },
  {
   "cell_type": "markdown",
   "metadata": {},
   "source": [
    "## Problem 2 - define a database model and load the data (35 points)\n",
    "\n",
    "Based on what you found above, create and connect to a new database, define a database table in it, and load this dataset into it.  You may use either of the methods for this step you have seen in earlier class notebooks.  You may choose to eliminate variables/columns if they are not relevant or interesting to you - explain your reasoning if you do.  Either way, you should load a majority of the columns present in the source dataset into the database and all of its rows.\n",
    "\n",
    "Once your data has loaded successfully, run a `COUNT(*)` query to verify that all the data has loaded correctly.\n",
    "\n",
    "Insert a combination of code and text/markdown cells here to connect to your database, define your table, load its data, and verify the loaded records."
   ]
  },
  {
   "cell_type": "markdown",
   "metadata": {},
   "source": [
    "** Connect to database**"
   ]
  },
  {
   "cell_type": "code",
   "execution_count": 6,
   "metadata": {
    "collapsed": false
   },
   "outputs": [
    {
     "name": "stderr",
     "output_type": "stream",
     "text": [
      "/opt/conda/lib/python3.5/site-packages/IPython/config.py:13: ShimWarning: The `IPython.config` package has been deprecated. You should import from traitlets.config instead.\n",
      "  \"You should import from traitlets.config instead.\", ShimWarning)\n",
      "/opt/conda/lib/python3.5/site-packages/IPython/utils/traitlets.py:5: UserWarning: IPython.utils.traitlets has moved to a top-level traitlets package.\n",
      "  warn(\"IPython.utils.traitlets has moved to a top-level traitlets package.\")\n"
     ]
    }
   ],
   "source": [
    "%load_ext sql"
   ]
  },
  {
   "cell_type": "code",
   "execution_count": 7,
   "metadata": {
    "collapsed": false
   },
   "outputs": [
    {
     "name": "stdout",
     "output_type": "stream",
     "text": [
      "[sudo] password for jovyan: Restarting PostgreSQL 9.5 database server: main.\n"
     ]
    }
   ],
   "source": [
    "!echo 'redspot' | sudo -S service postgresql restart"
   ]
  },
  {
   "cell_type": "markdown",
   "metadata": {},
   "source": [
    "The following cells create the database 'exercise4'and make a connection to it."
   ]
  },
  {
   "cell_type": "code",
   "execution_count": 8,
   "metadata": {
    "collapsed": true
   },
   "outputs": [],
   "source": [
    "!createdb -U dbuser exercise4"
   ]
  },
  {
   "cell_type": "code",
   "execution_count": 9,
   "metadata": {
    "collapsed": false
   },
   "outputs": [
    {
     "data": {
      "text/plain": [
       "'Connected: dbuser@exercise4'"
      ]
     },
     "execution_count": 9,
     "metadata": {},
     "output_type": "execute_result"
    }
   ],
   "source": [
    "%sql postgresql://dbuser@localhost:5432/exercise4"
   ]
  },
  {
   "cell_type": "markdown",
   "metadata": {},
   "source": [
    "** Create table **"
   ]
  },
  {
   "cell_type": "code",
   "execution_count": 10,
   "metadata": {
    "collapsed": false
   },
   "outputs": [
    {
     "name": "stdout",
     "output_type": "stream",
     "text": [
      "Done.\n",
      "Done.\n"
     ]
    },
    {
     "data": {
      "text/plain": [
       "[]"
      ]
     },
     "execution_count": 10,
     "metadata": {},
     "output_type": "execute_result"
    }
   ],
   "source": [
    "%%sql\n",
    "DROP TABLE IF EXISTS inspection;\n",
    "CREATE TABLE inspection \n",
    "(\n",
    "    FACILITY_NAME VARCHAR(80),\n",
    "    FACILITY_KEY INTEGER,\n",
    "    SITE_ADDRESS VARCHAR(40),\n",
    "    CITY VARCHAR(12),\n",
    "    STATE CHAR(2),\n",
    "    ZIP CHAR(10),\n",
    "    OWNER_KEY INTEGER,\n",
    "    OWNER_NAME VARCHAR(85),\n",
    "    NATURE_OF_BUSINESS VARCHAR(25),\n",
    "    STREET_NUMBER  VARCHAR(7),\n",
    "    STREET_NAME VARCHAR(24),\n",
    "    STREET_TYPE VARCHAR(4),\n",
    "    POST_DIRECTIONAL VARCHAR(3),\n",
    "    PHONE CHAR(15),\n",
    "    PROGRAM_CATEGORY VARCHAR(4),\n",
    "    PROGRAM_CATEGORY_DESCRIPTION VARCHAR(40),\n",
    "    INSPECTION_DATE TIMESTAMP,\n",
    "    INSPECTION_TYPE VARCHAR(4),\n",
    "    INSPECTION_DESC VARCHAR(32),\n",
    "    SERIAL_NUM VARCHAR(9),\n",
    "    ACTION_CODE VARCHAR(2),\n",
    "    ACTION_DESC VARCHAR(40),\n",
    "    RESULT_CODE VARCHAR(2),\n",
    "    RESULT_DESC VARCHAR(40),\n",
    "    VIOLATION_CODE VARCHAR(10),\n",
    "    VIOLATION_DESC VARCHAR(50),\n",
    "    INSPECTION_MEMO VARCHAR(50)\n",
    ")"
   ]
  },
  {
   "cell_type": "markdown",
   "metadata": {},
   "source": [
    "**Load the data**"
   ]
  },
  {
   "cell_type": "code",
   "execution_count": 11,
   "metadata": {
    "collapsed": false
   },
   "outputs": [
    {
     "name": "stdout",
     "output_type": "stream",
     "text": [
      "/home/jovyan/work\r\n"
     ]
    }
   ],
   "source": [
    "!pwd"
   ]
  },
  {
   "cell_type": "code",
   "execution_count": 12,
   "metadata": {
    "collapsed": false
   },
   "outputs": [
    {
     "name": "stdout",
     "output_type": "stream",
     "text": [
      "17556 rows affected.\n"
     ]
    },
    {
     "data": {
      "text/plain": [
       "[]"
      ]
     },
     "execution_count": 12,
     "metadata": {},
     "output_type": "execute_result"
    }
   ],
   "source": [
    "%%sql\n",
    "COPY inspection FROM '/home/jovyan/work/fy2010.csv'\n",
    "CSV\n",
    "HEADER\n",
    "QUOTE '\"'\n",
    "DELIMITER ',';"
   ]
  },
  {
   "cell_type": "markdown",
   "metadata": {},
   "source": [
    "**Verify the loaded records**"
   ]
  },
  {
   "cell_type": "markdown",
   "metadata": {},
   "source": [
    "Below cell shows that the records number loaded to database is correct."
   ]
  },
  {
   "cell_type": "code",
   "execution_count": 13,
   "metadata": {
    "collapsed": false
   },
   "outputs": [
    {
     "name": "stdout",
     "output_type": "stream",
     "text": [
      "1 rows affected.\n"
     ]
    },
    {
     "data": {
      "text/html": [
       "<table>\n",
       "    <tr>\n",
       "        <th>count</th>\n",
       "    </tr>\n",
       "    <tr>\n",
       "        <td>17556</td>\n",
       "    </tr>\n",
       "</table>"
      ],
      "text/plain": [
       "[(17556,)]"
      ]
     },
     "execution_count": 13,
     "metadata": {},
     "output_type": "execute_result"
    }
   ],
   "source": [
    "%%sql\n",
    "SELECT COUNT(*) FROM inspection;"
   ]
  },
  {
   "cell_type": "markdown",
   "metadata": {},
   "source": [
    "Now, let's see the first 5 rows in the database."
   ]
  },
  {
   "cell_type": "code",
   "execution_count": 14,
   "metadata": {
    "collapsed": false
   },
   "outputs": [
    {
     "name": "stdout",
     "output_type": "stream",
     "text": [
      "5 rows affected.\n"
     ]
    },
    {
     "data": {
      "text/html": [
       "<table>\n",
       "    <tr>\n",
       "        <th>facility_name</th>\n",
       "        <th>facility_key</th>\n",
       "        <th>site_address</th>\n",
       "        <th>city</th>\n",
       "        <th>state</th>\n",
       "        <th>zip</th>\n",
       "        <th>owner_key</th>\n",
       "        <th>owner_name</th>\n",
       "        <th>nature_of_business</th>\n",
       "        <th>street_number</th>\n",
       "        <th>street_name</th>\n",
       "        <th>street_type</th>\n",
       "        <th>post_directional</th>\n",
       "        <th>phone</th>\n",
       "        <th>program_category</th>\n",
       "        <th>program_category_description</th>\n",
       "        <th>inspection_date</th>\n",
       "        <th>inspection_type</th>\n",
       "        <th>inspection_desc</th>\n",
       "        <th>serial_num</th>\n",
       "        <th>action_code</th>\n",
       "        <th>action_desc</th>\n",
       "        <th>result_code</th>\n",
       "        <th>result_desc</th>\n",
       "        <th>violation_code</th>\n",
       "        <th>violation_desc</th>\n",
       "        <th>inspection_memo</th>\n",
       "    </tr>\n",
       "    <tr>\n",
       "        <td>00BSAY IT WITH CAKE</td>\n",
       "        <td>50534</td>\n",
       "        <td>10200 GOLF COURSE RD NW STE B</td>\n",
       "        <td>ALBUQUERQUE</td>\n",
       "        <td>NM</td>\n",
       "        <td>87114     </td>\n",
       "        <td>47341</td>\n",
       "        <td>OOBSAY IT WITH CAKE</td>\n",
       "        <td>CAKE DECORATING</td>\n",
       "        <td>10200</td>\n",
       "        <td>GOLF COURSE</td>\n",
       "        <td>RD</td>\n",
       "        <td>NW</td>\n",
       "        <td>5058339563     </td>\n",
       "        <td>0405</td>\n",
       "        <td>Food Processor</td>\n",
       "        <td>2009-10-21 00:00:00</td>\n",
       "        <td>None</td>\n",
       "        <td>EMERGENCY RESPONSE</td>\n",
       "        <td>DA8009125</td>\n",
       "        <td>00</td>\n",
       "        <td>NON-GRADED</td>\n",
       "        <td>00</td>\n",
       "        <td>NOT APPLICABLE</td>\n",
       "        <td>&nbsp;&nbsp;&nbsp;&nbsp;68    </td>\n",
       "        <td>Delivered Informational Brochure</td>\n",
       "        <td>None</td>\n",
       "    </tr>\n",
       "    <tr>\n",
       "        <td>00BSAY IT WITH CAKE</td>\n",
       "        <td>50534</td>\n",
       "        <td>10200 GOLF COURSE RD NW STE B</td>\n",
       "        <td>ALBUQUERQUE</td>\n",
       "        <td>NM</td>\n",
       "        <td>87114     </td>\n",
       "        <td>47341</td>\n",
       "        <td>OOBSAY IT WITH CAKE</td>\n",
       "        <td>CAKE DECORATING</td>\n",
       "        <td>10200</td>\n",
       "        <td>GOLF COURSE</td>\n",
       "        <td>RD</td>\n",
       "        <td>NW</td>\n",
       "        <td>5058339563     </td>\n",
       "        <td>0405</td>\n",
       "        <td>Food Processor</td>\n",
       "        <td>2009-10-21 00:00:00</td>\n",
       "        <td>None</td>\n",
       "        <td>ROUTINE FOOD INSPECTION</td>\n",
       "        <td>DA8009123</td>\n",
       "        <td>11</td>\n",
       "        <td>APPROVED</td>\n",
       "        <td>03</td>\n",
       "        <td>IN COMPLIANCE</td>\n",
       "        <td>&nbsp;&nbsp;&nbsp;&nbsp;00    </td>\n",
       "        <td>No Violations Found</td>\n",
       "        <td>None</td>\n",
       "    </tr>\n",
       "    <tr>\n",
       "        <td>00BSAY IT WITH CAKE</td>\n",
       "        <td>50534</td>\n",
       "        <td>10200 GOLF COURSE RD NW STE B</td>\n",
       "        <td>ALBUQUERQUE</td>\n",
       "        <td>NM</td>\n",
       "        <td>87114     </td>\n",
       "        <td>47341</td>\n",
       "        <td>OOBSAY IT WITH CAKE</td>\n",
       "        <td>CAKE DECORATING</td>\n",
       "        <td>10200</td>\n",
       "        <td>GOLF COURSE</td>\n",
       "        <td>RD</td>\n",
       "        <td>NW</td>\n",
       "        <td>5058339563     </td>\n",
       "        <td>0405</td>\n",
       "        <td>Food Processor</td>\n",
       "        <td>2009-10-21 00:00:00</td>\n",
       "        <td>None</td>\n",
       "        <td>ROUTINE FOOD INSPECTION</td>\n",
       "        <td>DA8009123</td>\n",
       "        <td>11</td>\n",
       "        <td>APPROVED</td>\n",
       "        <td>03</td>\n",
       "        <td>IN COMPLIANCE</td>\n",
       "        <td>&nbsp;&nbsp;&nbsp;&nbsp;55    </td>\n",
       "        <td>Additional Comments</td>\n",
       "        <td>None</td>\n",
       "    </tr>\n",
       "    <tr>\n",
       "        <td>00BSAY IT WITH CAKE</td>\n",
       "        <td>50534</td>\n",
       "        <td>10200 GOLF COURSE RD NW STE B</td>\n",
       "        <td>ALBUQUERQUE</td>\n",
       "        <td>NM</td>\n",
       "        <td>87114     </td>\n",
       "        <td>47341</td>\n",
       "        <td>OOBSAY IT WITH CAKE</td>\n",
       "        <td>CAKE DECORATING</td>\n",
       "        <td>10200</td>\n",
       "        <td>GOLF COURSE</td>\n",
       "        <td>RD</td>\n",
       "        <td>NW</td>\n",
       "        <td>5058339563     </td>\n",
       "        <td>0405</td>\n",
       "        <td>Food Processor</td>\n",
       "        <td>2010-04-14 00:00:00</td>\n",
       "        <td>None</td>\n",
       "        <td>ROUTINE FOOD INSPECTION</td>\n",
       "        <td>DA8010205</td>\n",
       "        <td>11</td>\n",
       "        <td>APPROVED</td>\n",
       "        <td>03</td>\n",
       "        <td>IN COMPLIANCE</td>\n",
       "        <td>&nbsp;&nbsp;&nbsp;&nbsp;00    </td>\n",
       "        <td>No Violations Found</td>\n",
       "        <td>None</td>\n",
       "    </tr>\n",
       "    <tr>\n",
       "        <td>00BSAY IT WITH CAKE</td>\n",
       "        <td>50534</td>\n",
       "        <td>10200 GOLF COURSE RD NW STE B</td>\n",
       "        <td>ALBUQUERQUE</td>\n",
       "        <td>NM</td>\n",
       "        <td>87114     </td>\n",
       "        <td>47341</td>\n",
       "        <td>OOBSAY IT WITH CAKE</td>\n",
       "        <td>CAKE DECORATING</td>\n",
       "        <td>10200</td>\n",
       "        <td>GOLF COURSE</td>\n",
       "        <td>RD</td>\n",
       "        <td>NW</td>\n",
       "        <td>5058339563     </td>\n",
       "        <td>0405</td>\n",
       "        <td>Food Processor</td>\n",
       "        <td>2010-04-14 00:00:00</td>\n",
       "        <td>None</td>\n",
       "        <td>ROUTINE FOOD INSPECTION</td>\n",
       "        <td>DA8010205</td>\n",
       "        <td>11</td>\n",
       "        <td>APPROVED</td>\n",
       "        <td>03</td>\n",
       "        <td>IN COMPLIANCE</td>\n",
       "        <td>&nbsp;&nbsp;&nbsp;&nbsp;55    </td>\n",
       "        <td>Additional Comments</td>\n",
       "        <td>None</td>\n",
       "    </tr>\n",
       "</table>"
      ],
      "text/plain": [
       "[('00BSAY IT WITH CAKE', 50534, '10200 GOLF COURSE RD NW STE B', 'ALBUQUERQUE', 'NM', '87114     ', 47341, 'OOBSAY IT WITH CAKE', 'CAKE DECORATING', '10200', 'GOLF COURSE', 'RD', 'NW', '5058339563     ', '0405', 'Food Processor', datetime.datetime(2009, 10, 21, 0, 0), None, 'EMERGENCY RESPONSE', 'DA8009125', '00', 'NON-GRADED', '00', 'NOT APPLICABLE', '    68    ', 'Delivered Informational Brochure', None),\n",
       " ('00BSAY IT WITH CAKE', 50534, '10200 GOLF COURSE RD NW STE B', 'ALBUQUERQUE', 'NM', '87114     ', 47341, 'OOBSAY IT WITH CAKE', 'CAKE DECORATING', '10200', 'GOLF COURSE', 'RD', 'NW', '5058339563     ', '0405', 'Food Processor', datetime.datetime(2009, 10, 21, 0, 0), None, 'ROUTINE FOOD INSPECTION', 'DA8009123', '11', 'APPROVED', '03', 'IN COMPLIANCE', '    00    ', 'No Violations Found', None),\n",
       " ('00BSAY IT WITH CAKE', 50534, '10200 GOLF COURSE RD NW STE B', 'ALBUQUERQUE', 'NM', '87114     ', 47341, 'OOBSAY IT WITH CAKE', 'CAKE DECORATING', '10200', 'GOLF COURSE', 'RD', 'NW', '5058339563     ', '0405', 'Food Processor', datetime.datetime(2009, 10, 21, 0, 0), None, 'ROUTINE FOOD INSPECTION', 'DA8009123', '11', 'APPROVED', '03', 'IN COMPLIANCE', '    55    ', 'Additional Comments', None),\n",
       " ('00BSAY IT WITH CAKE', 50534, '10200 GOLF COURSE RD NW STE B', 'ALBUQUERQUE', 'NM', '87114     ', 47341, 'OOBSAY IT WITH CAKE', 'CAKE DECORATING', '10200', 'GOLF COURSE', 'RD', 'NW', '5058339563     ', '0405', 'Food Processor', datetime.datetime(2010, 4, 14, 0, 0), None, 'ROUTINE FOOD INSPECTION', 'DA8010205', '11', 'APPROVED', '03', 'IN COMPLIANCE', '    00    ', 'No Violations Found', None),\n",
       " ('00BSAY IT WITH CAKE', 50534, '10200 GOLF COURSE RD NW STE B', 'ALBUQUERQUE', 'NM', '87114     ', 47341, 'OOBSAY IT WITH CAKE', 'CAKE DECORATING', '10200', 'GOLF COURSE', 'RD', 'NW', '5058339563     ', '0405', 'Food Processor', datetime.datetime(2010, 4, 14, 0, 0), None, 'ROUTINE FOOD INSPECTION', 'DA8010205', '11', 'APPROVED', '03', 'IN COMPLIANCE', '    55    ', 'Additional Comments', None)]"
      ]
     },
     "execution_count": 14,
     "metadata": {},
     "output_type": "execute_result"
    }
   ],
   "source": [
    "%%sql\n",
    "SELECT * FROM inspection\n",
    "LIMIT 5;"
   ]
  },
  {
   "cell_type": "markdown",
   "metadata": {},
   "source": [
    "## Problem 3 - explore your data (30 points)\n",
    "\n",
    "Now that the data is loaded, ask some questions of it!  Identify key variables of interest and note their ranges along with other useful descriptive statistics.  Choose and define a few lines of inquiry, execute queries for each, and describe what you find in your result sets.  Use any query techniques we've seen in class, including aggregate functions, transformations, subqueries, or others as appropriate. \n",
    "\n",
    "If you find interesting patterns, adding plots to your exploration would be useful.\n",
    "\n",
    "Insert a combination of code and text/markdown cells here to explore your data."
   ]
  },
  {
   "cell_type": "markdown",
   "metadata": {
    "collapsed": true
   },
   "source": [
    "### Aggregate Functions and Subqueries"
   ]
  },
  {
   "cell_type": "markdown",
   "metadata": {},
   "source": [
    "### Question1: Which restaurant group (owner) has been inspected most?"
   ]
  },
  {
   "cell_type": "markdown",
   "metadata": {},
   "source": [
    "First we need to check whether the number of owner key and owner name is the same."
   ]
  },
  {
   "cell_type": "code",
   "execution_count": 15,
   "metadata": {
    "collapsed": false
   },
   "outputs": [
    {
     "name": "stdout",
     "output_type": "stream",
     "text": [
      "1 rows affected.\n"
     ]
    },
    {
     "data": {
      "text/html": [
       "<table>\n",
       "    <tr>\n",
       "        <th>owner_key_num</th>\n",
       "    </tr>\n",
       "    <tr>\n",
       "        <td>1892</td>\n",
       "    </tr>\n",
       "</table>"
      ],
      "text/plain": [
       "[(1892,)]"
      ]
     },
     "execution_count": 15,
     "metadata": {},
     "output_type": "execute_result"
    }
   ],
   "source": [
    "%%sql\n",
    "SELECT COUNT(*) AS owner_key_num \n",
    "FROM (SELECT DISTINCT owner_key FROM inspection)t1"
   ]
  },
  {
   "cell_type": "code",
   "execution_count": 16,
   "metadata": {
    "collapsed": false
   },
   "outputs": [
    {
     "name": "stdout",
     "output_type": "stream",
     "text": [
      "1 rows affected.\n"
     ]
    },
    {
     "data": {
      "text/html": [
       "<table>\n",
       "    <tr>\n",
       "        <th>owner_name_num</th>\n",
       "    </tr>\n",
       "    <tr>\n",
       "        <td>1852</td>\n",
       "    </tr>\n",
       "</table>"
      ],
      "text/plain": [
       "[(1852,)]"
      ]
     },
     "execution_count": 16,
     "metadata": {},
     "output_type": "execute_result"
    }
   ],
   "source": [
    "%%sql\n",
    "SELECT COUNT(*) AS owner_name_num \n",
    "FROM (SELECT DISTINCT owner_name FROM inspection)t2"
   ]
  },
  {
   "cell_type": "markdown",
   "metadata": {},
   "source": [
    "The first cell shows that there are 1,892 distinct owner name, but 1,852 distinct owners. This indicates that the same owner can have multiple keys."
   ]
  },
  {
   "cell_type": "markdown",
   "metadata": {},
   "source": [
    "Therefore we use owner name to group by."
   ]
  },
  {
   "cell_type": "code",
   "execution_count": 18,
   "metadata": {
    "collapsed": false
   },
   "outputs": [
    {
     "name": "stdout",
     "output_type": "stream",
     "text": [
      "10 rows affected.\n"
     ]
    },
    {
     "data": {
      "text/html": [
       "<table>\n",
       "    <tr>\n",
       "        <th>owner_name</th>\n",
       "        <th>inspection_num</th>\n",
       "    </tr>\n",
       "    <tr>\n",
       "        <td>APS</td>\n",
       "        <td>792</td>\n",
       "    </tr>\n",
       "    <tr>\n",
       "        <td>SMITHS FOOD AND DRUG CENTERS INC</td>\n",
       "        <td>321</td>\n",
       "    </tr>\n",
       "    <tr>\n",
       "        <td>CIRCLE K STORES INC</td>\n",
       "        <td>277</td>\n",
       "    </tr>\n",
       "    <tr>\n",
       "        <td>ALBERTSONS</td>\n",
       "        <td>228</td>\n",
       "    </tr>\n",
       "    <tr>\n",
       "        <td>WAL MART STORES EAST  LP</td>\n",
       "        <td>156</td>\n",
       "    </tr>\n",
       "    <tr>\n",
       "        <td>BLAKES LOTABURGER LLC</td>\n",
       "        <td>150</td>\n",
       "    </tr>\n",
       "    <tr>\n",
       "        <td>PALO ALTO INC</td>\n",
       "        <td>146</td>\n",
       "    </tr>\n",
       "    <tr>\n",
       "        <td>SCS BEVERAGE INC</td>\n",
       "        <td>138</td>\n",
       "    </tr>\n",
       "    <tr>\n",
       "        <td>WALGREENS CO</td>\n",
       "        <td>137</td>\n",
       "    </tr>\n",
       "    <tr>\n",
       "        <td>STARBUCKS CORP</td>\n",
       "        <td>123</td>\n",
       "    </tr>\n",
       "</table>"
      ],
      "text/plain": [
       "[('APS', 792),\n",
       " ('SMITHS FOOD AND DRUG CENTERS INC', 321),\n",
       " ('CIRCLE K STORES INC', 277),\n",
       " ('ALBERTSONS', 228),\n",
       " ('WAL MART STORES EAST  LP', 156),\n",
       " ('BLAKES LOTABURGER LLC', 150),\n",
       " ('PALO ALTO INC', 146),\n",
       " ('SCS BEVERAGE INC', 138),\n",
       " ('WALGREENS CO', 137),\n",
       " ('STARBUCKS CORP', 123)]"
      ]
     },
     "execution_count": 18,
     "metadata": {},
     "output_type": "execute_result"
    }
   ],
   "source": [
    "%%sql\n",
    "SELECT owner_name, COUNT(inspection_date) AS inspection_num\n",
    "FROM inspection\n",
    "GROUP BY owner_name\n",
    "ORDER BY COUNT(inspection_date) DESC\n",
    "LIMIT 10;"
   ]
  },
  {
   "cell_type": "markdown",
   "metadata": {},
   "source": [
    "** APS has been inspected most. It's 792 times in total. **"
   ]
  },
  {
   "cell_type": "markdown",
   "metadata": {
    "collapsed": true
   },
   "source": [
    "### Question2: What's the inspection result of the resaurant owner, which has been inspeted most?"
   ]
  },
  {
   "cell_type": "markdown",
   "metadata": {},
   "source": [
    "First we select the resaurant owner, which has been inspeted most. Then we select the result from it."
   ]
  },
  {
   "cell_type": "code",
   "execution_count": 19,
   "metadata": {
    "collapsed": false
   },
   "outputs": [
    {
     "name": "stdout",
     "output_type": "stream",
     "text": [
      "4 rows affected.\n"
     ]
    },
    {
     "data": {
      "text/html": [
       "<table>\n",
       "    <tr>\n",
       "        <th>owner_name</th>\n",
       "        <th>result_desc</th>\n",
       "        <th>count</th>\n",
       "    </tr>\n",
       "    <tr>\n",
       "        <td>APS</td>\n",
       "        <td>IN COMPLIANCE</td>\n",
       "        <td>665</td>\n",
       "    </tr>\n",
       "    <tr>\n",
       "        <td>APS</td>\n",
       "        <td>NOT APPLICABLE</td>\n",
       "        <td>117</td>\n",
       "    </tr>\n",
       "    <tr>\n",
       "        <td>APS</td>\n",
       "        <td>OUT OF BUSINESS</td>\n",
       "        <td>3</td>\n",
       "    </tr>\n",
       "    <tr>\n",
       "        <td>APS</td>\n",
       "        <td>TRAINING RECEIVED</td>\n",
       "        <td>7</td>\n",
       "    </tr>\n",
       "</table>"
      ],
      "text/plain": [
       "[('APS', 'IN COMPLIANCE', 665),\n",
       " ('APS', 'NOT APPLICABLE', 117),\n",
       " ('APS', 'OUT OF BUSINESS', 3),\n",
       " ('APS', 'TRAINING RECEIVED', 7)]"
      ]
     },
     "execution_count": 19,
     "metadata": {},
     "output_type": "execute_result"
    }
   ],
   "source": [
    "%%sql\n",
    "SELECT owner_name, result_desc, COUNT(*) as count\n",
    "FROM inspection\n",
    "WHERE owner_name IN(SELECT owner_name\n",
    "                   FROM inspection\n",
    "                   GROUP BY owner_name\n",
    "                   ORDER BY COUNT(inspection_date) DESC\n",
    "                   LIMIT 1)\n",
    "GROUP BY owner_name, result_desc\n",
    "ORDER BY owner_name"
   ]
  },
  {
   "cell_type": "code",
   "execution_count": 20,
   "metadata": {
    "collapsed": false
   },
   "outputs": [
    {
     "name": "stderr",
     "output_type": "stream",
     "text": [
      "/opt/conda/lib/python3.5/site-packages/matplotlib/font_manager.py:273: UserWarning: Matplotlib is building the font cache using fc-list. This may take a moment.\n",
      "  warnings.warn('Matplotlib is building the font cache using fc-list. This may take a moment.')\n",
      "/opt/conda/lib/python3.5/site-packages/matplotlib/font_manager.py:273: UserWarning: Matplotlib is building the font cache using fc-list. This may take a moment.\n",
      "  warnings.warn('Matplotlib is building the font cache using fc-list. This may take a moment.')\n"
     ]
    },
    {
     "name": "stdout",
     "output_type": "stream",
     "text": [
      "Inspection Number of each quarter\r\n"
     ]
    },
    {
     "data": {
      "image/png": "[encoded data removed]",
      "text/plain": [
       "<matplotlib.figure.Figure at 0x7ff4f9c1d048>"
      ]
     },
     "metadata": {},
     "output_type": "display_data"
    }
   ],
   "source": [
    "%matplotlib inline\n",
    "result = _\n",
    "result.bar()\n",
    "!echo 'Inspection Number of each quarter'"
   ]
  },
  {
   "cell_type": "markdown",
   "metadata": {
    "collapsed": true
   },
   "source": [
    "**The inspection result of APS is: **\n",
    "\n",
    "665 IN COMPLIANCE \n",
    "\n",
    "117 NOT APPLICABLE\n",
    "\n",
    "3 OUT OF BUSINESS\n",
    "\n",
    "7 TRAINING RECEIVED"
   ]
  },
  {
   "cell_type": "markdown",
   "metadata": {},
   "source": [
    "### More about the inspection date"
   ]
  },
  {
   "cell_type": "markdown",
   "metadata": {},
   "source": [
    "1.Create a table for inspecion date."
   ]
  },
  {
   "cell_type": "code",
   "execution_count": 21,
   "metadata": {
    "collapsed": false
   },
   "outputs": [
    {
     "name": "stdout",
     "output_type": "stream",
     "text": [
      "Done.\n",
      "Done.\n"
     ]
    },
    {
     "data": {
      "text/plain": [
       "[]"
      ]
     },
     "execution_count": 21,
     "metadata": {},
     "output_type": "execute_result"
    }
   ],
   "source": [
    "%%sql\n",
    "DROP TABLE IF EXISTS inspection_days;\n",
    "CREATE TABLE inspection_days (\n",
    "    id SERIAL,\n",
    "    inspection_date CHAR(10),\n",
    "    inspection_year INTEGER,\n",
    "    inspection_month INTEGER,\n",
    "    inspection_day INTEGER,\n",
    "    inspection_quarter INTEGER,\n",
    "    day_of_week_str CHAR(9),\n",
    "    day_of_week INTEGER,\n",
    "    is_weekend BOOLEAN,\n",
    "    is_weekday BOOLEAN\n",
    ");"
   ]
  },
  {
   "cell_type": "markdown",
   "metadata": {},
   "source": [
    "2.Load the data into table inspection_days."
   ]
  },
  {
   "cell_type": "code",
   "execution_count": 22,
   "metadata": {
    "collapsed": false
   },
   "outputs": [
    {
     "name": "stdout",
     "output_type": "stream",
     "text": [
      "17556 rows affected.\n"
     ]
    },
    {
     "data": {
      "text/plain": [
       "[]"
      ]
     },
     "execution_count": 22,
     "metadata": {},
     "output_type": "execute_result"
    }
   ],
   "source": [
    "%%sql\n",
    "INSERT INTO inspection_days (inspection_date, inspection_year, inspection_month, inspection_day, inspection_quarter, day_of_week_str, day_of_week,\n",
    "                  is_weekend, is_weekday)\n",
    "SELECT TO_CHAR(inspection_date, 'YYYY-MM-DD') AS inspection_date, \n",
    "    CAST(TO_CHAR(inspection_date, 'YYYY') AS INTEGER) AS inspection_year,\n",
    "    CAST(TO_CHAR(inspection_date, 'MM') AS INTEGER) AS inspection_month,\n",
    "    CAST(TO_CHAR(inspection_date, 'DD') AS INTEGER) AS inspection_date,\n",
    "    CAST(TO_CHAR(inspection_date, 'Q') AS INTEGER) AS inspection_quarter,\n",
    "    TO_CHAR(inspection_date, 'Day') AS day_of_week_str,\n",
    "    CAST(TO_CHAR(inspection_date, 'D') AS INTEGER) AS day_of_week,\n",
    "    CASE WHEN CAST(TO_CHAR(inspection_date, 'D') AS INTEGER) IN (1, 7) \n",
    "        THEN TRUE\n",
    "        ELSE FALSE\n",
    "    END AS is_weekend,\n",
    "    CASE WHEN CAST(TO_CHAR(inspection_date, 'D') AS INTEGER) NOT IN (1, 7) \n",
    "        THEN TRUE\n",
    "        ELSE FALSE\n",
    "    END AS is_weekday\n",
    "FROM inspection;"
   ]
  },
  {
   "cell_type": "markdown",
   "metadata": {},
   "source": [
    "### Qusetion3: How many inspections are there in each quarter? Which quarter had the most one? "
   ]
  },
  {
   "cell_type": "code",
   "execution_count": 23,
   "metadata": {
    "collapsed": false,
    "scrolled": true
   },
   "outputs": [
    {
     "name": "stdout",
     "output_type": "stream",
     "text": [
      "10 rows affected.\n"
     ]
    },
    {
     "data": {
      "text/html": [
       "<table>\n",
       "    <tr>\n",
       "        <th>id</th>\n",
       "        <th>inspection_date</th>\n",
       "        <th>inspection_year</th>\n",
       "        <th>inspection_month</th>\n",
       "        <th>inspection_day</th>\n",
       "        <th>inspection_quarter</th>\n",
       "        <th>day_of_week_str</th>\n",
       "        <th>day_of_week</th>\n",
       "        <th>is_weekend</th>\n",
       "        <th>is_weekday</th>\n",
       "    </tr>\n",
       "    <tr>\n",
       "        <td>1</td>\n",
       "        <td>2009-10-21</td>\n",
       "        <td>2009</td>\n",
       "        <td>10</td>\n",
       "        <td>21</td>\n",
       "        <td>4</td>\n",
       "        <td>Wednesday</td>\n",
       "        <td>4</td>\n",
       "        <td>False</td>\n",
       "        <td>True</td>\n",
       "    </tr>\n",
       "    <tr>\n",
       "        <td>2</td>\n",
       "        <td>2009-10-21</td>\n",
       "        <td>2009</td>\n",
       "        <td>10</td>\n",
       "        <td>21</td>\n",
       "        <td>4</td>\n",
       "        <td>Wednesday</td>\n",
       "        <td>4</td>\n",
       "        <td>False</td>\n",
       "        <td>True</td>\n",
       "    </tr>\n",
       "    <tr>\n",
       "        <td>3</td>\n",
       "        <td>2009-10-21</td>\n",
       "        <td>2009</td>\n",
       "        <td>10</td>\n",
       "        <td>21</td>\n",
       "        <td>4</td>\n",
       "        <td>Wednesday</td>\n",
       "        <td>4</td>\n",
       "        <td>False</td>\n",
       "        <td>True</td>\n",
       "    </tr>\n",
       "    <tr>\n",
       "        <td>4</td>\n",
       "        <td>2010-04-14</td>\n",
       "        <td>2010</td>\n",
       "        <td>4</td>\n",
       "        <td>14</td>\n",
       "        <td>2</td>\n",
       "        <td>Wednesday</td>\n",
       "        <td>4</td>\n",
       "        <td>False</td>\n",
       "        <td>True</td>\n",
       "    </tr>\n",
       "    <tr>\n",
       "        <td>5</td>\n",
       "        <td>2010-04-14</td>\n",
       "        <td>2010</td>\n",
       "        <td>4</td>\n",
       "        <td>14</td>\n",
       "        <td>2</td>\n",
       "        <td>Wednesday</td>\n",
       "        <td>4</td>\n",
       "        <td>False</td>\n",
       "        <td>True</td>\n",
       "    </tr>\n",
       "    <tr>\n",
       "        <td>6</td>\n",
       "        <td>2010-03-23</td>\n",
       "        <td>2010</td>\n",
       "        <td>3</td>\n",
       "        <td>23</td>\n",
       "        <td>1</td>\n",
       "        <td>Tuesday  </td>\n",
       "        <td>3</td>\n",
       "        <td>False</td>\n",
       "        <td>True</td>\n",
       "    </tr>\n",
       "    <tr>\n",
       "        <td>7</td>\n",
       "        <td>2010-03-23</td>\n",
       "        <td>2010</td>\n",
       "        <td>3</td>\n",
       "        <td>23</td>\n",
       "        <td>1</td>\n",
       "        <td>Tuesday  </td>\n",
       "        <td>3</td>\n",
       "        <td>False</td>\n",
       "        <td>True</td>\n",
       "    </tr>\n",
       "    <tr>\n",
       "        <td>8</td>\n",
       "        <td>2010-03-23</td>\n",
       "        <td>2010</td>\n",
       "        <td>3</td>\n",
       "        <td>23</td>\n",
       "        <td>1</td>\n",
       "        <td>Tuesday  </td>\n",
       "        <td>3</td>\n",
       "        <td>False</td>\n",
       "        <td>True</td>\n",
       "    </tr>\n",
       "    <tr>\n",
       "        <td>9</td>\n",
       "        <td>2009-12-15</td>\n",
       "        <td>2009</td>\n",
       "        <td>12</td>\n",
       "        <td>15</td>\n",
       "        <td>4</td>\n",
       "        <td>Tuesday  </td>\n",
       "        <td>3</td>\n",
       "        <td>False</td>\n",
       "        <td>True</td>\n",
       "    </tr>\n",
       "    <tr>\n",
       "        <td>10</td>\n",
       "        <td>2009-12-15</td>\n",
       "        <td>2009</td>\n",
       "        <td>12</td>\n",
       "        <td>15</td>\n",
       "        <td>4</td>\n",
       "        <td>Tuesday  </td>\n",
       "        <td>3</td>\n",
       "        <td>False</td>\n",
       "        <td>True</td>\n",
       "    </tr>\n",
       "</table>"
      ],
      "text/plain": [
       "[(1, '2009-10-21', 2009, 10, 21, 4, 'Wednesday', 4, False, True),\n",
       " (2, '2009-10-21', 2009, 10, 21, 4, 'Wednesday', 4, False, True),\n",
       " (3, '2009-10-21', 2009, 10, 21, 4, 'Wednesday', 4, False, True),\n",
       " (4, '2010-04-14', 2010, 4, 14, 2, 'Wednesday', 4, False, True),\n",
       " (5, '2010-04-14', 2010, 4, 14, 2, 'Wednesday', 4, False, True),\n",
       " (6, '2010-03-23', 2010, 3, 23, 1, 'Tuesday  ', 3, False, True),\n",
       " (7, '2010-03-23', 2010, 3, 23, 1, 'Tuesday  ', 3, False, True),\n",
       " (8, '2010-03-23', 2010, 3, 23, 1, 'Tuesday  ', 3, False, True),\n",
       " (9, '2009-12-15', 2009, 12, 15, 4, 'Tuesday  ', 3, False, True),\n",
       " (10, '2009-12-15', 2009, 12, 15, 4, 'Tuesday  ', 3, False, True)]"
      ]
     },
     "execution_count": 23,
     "metadata": {},
     "output_type": "execute_result"
    }
   ],
   "source": [
    "%%sql\n",
    "SELECT * FROM inspection_days\n",
    "LIMIT 10;"
   ]
  },
  {
   "cell_type": "code",
   "execution_count": 24,
   "metadata": {
    "collapsed": false
   },
   "outputs": [
    {
     "name": "stdout",
     "output_type": "stream",
     "text": [
      "10 rows affected.\n"
     ]
    },
    {
     "data": {
      "text/html": [
       "<table>\n",
       "    <tr>\n",
       "        <th>inspection_date</th>\n",
       "        <th>inspection_year</th>\n",
       "        <th>inspection_month</th>\n",
       "        <th>inspection_day</th>\n",
       "        <th>inspection_quarter</th>\n",
       "    </tr>\n",
       "    <tr>\n",
       "        <td>2009-10-21</td>\n",
       "        <td>2009</td>\n",
       "        <td>10</td>\n",
       "        <td>21</td>\n",
       "        <td>4</td>\n",
       "    </tr>\n",
       "    <tr>\n",
       "        <td>2009-10-21</td>\n",
       "        <td>2009</td>\n",
       "        <td>10</td>\n",
       "        <td>21</td>\n",
       "        <td>4</td>\n",
       "    </tr>\n",
       "    <tr>\n",
       "        <td>2009-10-21</td>\n",
       "        <td>2009</td>\n",
       "        <td>10</td>\n",
       "        <td>21</td>\n",
       "        <td>4</td>\n",
       "    </tr>\n",
       "    <tr>\n",
       "        <td>2010-04-14</td>\n",
       "        <td>2010</td>\n",
       "        <td>4</td>\n",
       "        <td>14</td>\n",
       "        <td>2</td>\n",
       "    </tr>\n",
       "    <tr>\n",
       "        <td>2010-04-14</td>\n",
       "        <td>2010</td>\n",
       "        <td>4</td>\n",
       "        <td>14</td>\n",
       "        <td>2</td>\n",
       "    </tr>\n",
       "    <tr>\n",
       "        <td>2010-03-23</td>\n",
       "        <td>2010</td>\n",
       "        <td>3</td>\n",
       "        <td>23</td>\n",
       "        <td>1</td>\n",
       "    </tr>\n",
       "    <tr>\n",
       "        <td>2010-03-23</td>\n",
       "        <td>2010</td>\n",
       "        <td>3</td>\n",
       "        <td>23</td>\n",
       "        <td>1</td>\n",
       "    </tr>\n",
       "    <tr>\n",
       "        <td>2010-03-23</td>\n",
       "        <td>2010</td>\n",
       "        <td>3</td>\n",
       "        <td>23</td>\n",
       "        <td>1</td>\n",
       "    </tr>\n",
       "    <tr>\n",
       "        <td>2009-12-15</td>\n",
       "        <td>2009</td>\n",
       "        <td>12</td>\n",
       "        <td>15</td>\n",
       "        <td>4</td>\n",
       "    </tr>\n",
       "    <tr>\n",
       "        <td>2009-12-15</td>\n",
       "        <td>2009</td>\n",
       "        <td>12</td>\n",
       "        <td>15</td>\n",
       "        <td>4</td>\n",
       "    </tr>\n",
       "</table>"
      ],
      "text/plain": [
       "[('2009-10-21', 2009, 10, 21, 4),\n",
       " ('2009-10-21', 2009, 10, 21, 4),\n",
       " ('2009-10-21', 2009, 10, 21, 4),\n",
       " ('2010-04-14', 2010, 4, 14, 2),\n",
       " ('2010-04-14', 2010, 4, 14, 2),\n",
       " ('2010-03-23', 2010, 3, 23, 1),\n",
       " ('2010-03-23', 2010, 3, 23, 1),\n",
       " ('2010-03-23', 2010, 3, 23, 1),\n",
       " ('2009-12-15', 2009, 12, 15, 4),\n",
       " ('2009-12-15', 2009, 12, 15, 4)]"
      ]
     },
     "execution_count": 24,
     "metadata": {},
     "output_type": "execute_result"
    }
   ],
   "source": [
    "%%sql\n",
    "SELECT inspection_date,\n",
    "    inspection_year, \n",
    "    inspection_month, \n",
    "    inspection_day,\n",
    "    inspection_quarter\n",
    "FROM inspection_days\n",
    "LIMIT 10\n",
    ";"
   ]
  },
  {
   "cell_type": "code",
   "execution_count": 25,
   "metadata": {
    "collapsed": false
   },
   "outputs": [
    {
     "name": "stdout",
     "output_type": "stream",
     "text": [
      "4 rows affected.\n"
     ]
    },
    {
     "data": {
      "text/html": [
       "<table>\n",
       "    <tr>\n",
       "        <th>inspection_quarter</th>\n",
       "        <th>inspection_num</th>\n",
       "    </tr>\n",
       "    <tr>\n",
       "        <td>4</td>\n",
       "        <td>5468</td>\n",
       "    </tr>\n",
       "    <tr>\n",
       "        <td>3</td>\n",
       "        <td>5163</td>\n",
       "    </tr>\n",
       "    <tr>\n",
       "        <td>1</td>\n",
       "        <td>4341</td>\n",
       "    </tr>\n",
       "    <tr>\n",
       "        <td>2</td>\n",
       "        <td>2584</td>\n",
       "    </tr>\n",
       "</table>"
      ],
      "text/plain": [
       "[(4, 5468), (3, 5163), (1, 4341), (2, 2584)]"
      ]
     },
     "execution_count": 25,
     "metadata": {},
     "output_type": "execute_result"
    }
   ],
   "source": [
    "%%sql\n",
    "SELECT inspection_quarter, COUNT(inspection_date) AS inspection_num\n",
    "FROM inspection_days\n",
    "GROUP BY inspection_quarter\n",
    "ORDER BY COUNT(inspection_date) DESC"
   ]
  },
  {
   "cell_type": "code",
   "execution_count": 26,
   "metadata": {
    "collapsed": false
   },
   "outputs": [
    {
     "name": "stdout",
     "output_type": "stream",
     "text": [
      "Inspection Number of each quarter\r\n"
     ]
    },
    {
     "data": {
      "image/png": "[encoded data removed]",
      "text/plain": [
       "<matplotlib.figure.Figure at 0x7ff4f9ebd588>"
      ]
     },
     "metadata": {},
     "output_type": "display_data"
    }
   ],
   "source": [
    "%matplotlib inline\n",
    "result = _\n",
    "result.bar()\n",
    "!echo 'Inspection Number of each quarter'"
   ]
  },
  {
   "cell_type": "markdown",
   "metadata": {},
   "source": [
    "** The inspection happened 5468 times in Quarter 4, 5163 in Q3, 4341 in Q1 and 2584 in Q2. **\n",
    "\n",
    "** Quarter 4 has the most inspection. **"
   ]
  },
  {
   "cell_type": "markdown",
   "metadata": {
    "collapsed": true
   },
   "source": [
    "### Question4: Which quarter has the most ‘New Business Inspection’ ?"
   ]
  },
  {
   "cell_type": "code",
   "execution_count": 27,
   "metadata": {
    "collapsed": false
   },
   "outputs": [
    {
     "name": "stdout",
     "output_type": "stream",
     "text": [
      "4 rows affected.\n"
     ]
    },
    {
     "data": {
      "text/html": [
       "<table>\n",
       "    <tr>\n",
       "        <th>quarter</th>\n",
       "        <th>new_business_inspection_num</th>\n",
       "    </tr>\n",
       "    <tr>\n",
       "        <td>2</td>\n",
       "        <td>303</td>\n",
       "    </tr>\n",
       "    <tr>\n",
       "        <td>4</td>\n",
       "        <td>242</td>\n",
       "    </tr>\n",
       "    <tr>\n",
       "        <td>3</td>\n",
       "        <td>232</td>\n",
       "    </tr>\n",
       "    <tr>\n",
       "        <td>1</td>\n",
       "        <td>228</td>\n",
       "    </tr>\n",
       "</table>"
      ],
      "text/plain": [
       "[('2', 303), ('4', 242), ('3', 232), ('1', 228)]"
      ]
     },
     "execution_count": 27,
     "metadata": {},
     "output_type": "execute_result"
    }
   ],
   "source": [
    "%%sql\n",
    "SELECT quarter, COUNT(inspection_date) AS new_business_inspection_num\n",
    "FROM (\n",
    "    SELECT inspection_date, \n",
    "           TO_CHAR(INSPECTION_DATE, 'Q') AS quarter\n",
    "    FROM inspection\n",
    "    WHERE INSPECTION_DESC = 'New Business Inspection'\n",
    "    ) AS date\n",
    "GROUP BY quarter\n",
    "ORDER BY COUNT(inspection_date) DESC;"
   ]
  },
  {
   "cell_type": "code",
   "execution_count": 28,
   "metadata": {
    "collapsed": false
   },
   "outputs": [
    {
     "name": "stdout",
     "output_type": "stream",
     "text": [
      "New Business Inspection Number of each quarter\r\n"
     ]
    },
    {
     "data": {
      "image/png": "[encoded data removed]",
      "text/plain": [
       "<matplotlib.figure.Figure at 0x7ff4f9df6390>"
      ]
     },
     "metadata": {},
     "output_type": "display_data"
    }
   ],
   "source": [
    "%matplotlib inline\n",
    "result = _\n",
    "result.bar()\n",
    "!echo 'New Business Inspection Number of each quarter'"
   ]
  },
  {
   "cell_type": "markdown",
   "metadata": {
    "collapsed": true
   },
   "source": [
    "** Quarter2 has the most ‘New Business Inspection’. **"
   ]
  },
  {
   "cell_type": "markdown",
   "metadata": {},
   "source": [
    "## Bonus (10 points)\n",
    "\n",
    "We have seen a few simple techniques for normalizing data in class.  Choose a column or set of columns that might be redundant and normalize them out to another table:\n",
    "\n",
    "* Identify the columns to normalize in the source data table\n",
    "* Create one or more new tables to hold the normalized records\n",
    "* Extract data into the new tables\n",
    "* Re-insert the new foreign key references from the new table into the source table"
   ]
  },
  {
   "cell_type": "code",
   "execution_count": 29,
   "metadata": {
    "collapsed": false
   },
   "outputs": [
    {
     "name": "stdout",
     "output_type": "stream",
     "text": [
      "5 rows affected.\n"
     ]
    },
    {
     "data": {
      "text/html": [
       "<table>\n",
       "    <tr>\n",
       "        <th>facility_name</th>\n",
       "        <th>facility_key</th>\n",
       "        <th>site_address</th>\n",
       "        <th>city</th>\n",
       "        <th>state</th>\n",
       "        <th>zip</th>\n",
       "        <th>owner_key</th>\n",
       "        <th>owner_name</th>\n",
       "        <th>nature_of_business</th>\n",
       "        <th>street_number</th>\n",
       "        <th>street_name</th>\n",
       "        <th>street_type</th>\n",
       "        <th>post_directional</th>\n",
       "        <th>phone</th>\n",
       "        <th>program_category</th>\n",
       "        <th>program_category_description</th>\n",
       "        <th>inspection_date</th>\n",
       "        <th>inspection_type</th>\n",
       "        <th>inspection_desc</th>\n",
       "        <th>serial_num</th>\n",
       "        <th>action_code</th>\n",
       "        <th>action_desc</th>\n",
       "        <th>result_code</th>\n",
       "        <th>result_desc</th>\n",
       "        <th>violation_code</th>\n",
       "        <th>violation_desc</th>\n",
       "        <th>inspection_memo</th>\n",
       "    </tr>\n",
       "    <tr>\n",
       "        <td>00BSAY IT WITH CAKE</td>\n",
       "        <td>50534</td>\n",
       "        <td>10200 GOLF COURSE RD NW STE B</td>\n",
       "        <td>ALBUQUERQUE</td>\n",
       "        <td>NM</td>\n",
       "        <td>87114     </td>\n",
       "        <td>47341</td>\n",
       "        <td>OOBSAY IT WITH CAKE</td>\n",
       "        <td>CAKE DECORATING</td>\n",
       "        <td>10200</td>\n",
       "        <td>GOLF COURSE</td>\n",
       "        <td>RD</td>\n",
       "        <td>NW</td>\n",
       "        <td>5058339563     </td>\n",
       "        <td>0405</td>\n",
       "        <td>Food Processor</td>\n",
       "        <td>2009-10-21 00:00:00</td>\n",
       "        <td>None</td>\n",
       "        <td>EMERGENCY RESPONSE</td>\n",
       "        <td>DA8009125</td>\n",
       "        <td>00</td>\n",
       "        <td>NON-GRADED</td>\n",
       "        <td>00</td>\n",
       "        <td>NOT APPLICABLE</td>\n",
       "        <td>&nbsp;&nbsp;&nbsp;&nbsp;68    </td>\n",
       "        <td>Delivered Informational Brochure</td>\n",
       "        <td>None</td>\n",
       "    </tr>\n",
       "    <tr>\n",
       "        <td>00BSAY IT WITH CAKE</td>\n",
       "        <td>50534</td>\n",
       "        <td>10200 GOLF COURSE RD NW STE B</td>\n",
       "        <td>ALBUQUERQUE</td>\n",
       "        <td>NM</td>\n",
       "        <td>87114     </td>\n",
       "        <td>47341</td>\n",
       "        <td>OOBSAY IT WITH CAKE</td>\n",
       "        <td>CAKE DECORATING</td>\n",
       "        <td>10200</td>\n",
       "        <td>GOLF COURSE</td>\n",
       "        <td>RD</td>\n",
       "        <td>NW</td>\n",
       "        <td>5058339563     </td>\n",
       "        <td>0405</td>\n",
       "        <td>Food Processor</td>\n",
       "        <td>2009-10-21 00:00:00</td>\n",
       "        <td>None</td>\n",
       "        <td>ROUTINE FOOD INSPECTION</td>\n",
       "        <td>DA8009123</td>\n",
       "        <td>11</td>\n",
       "        <td>APPROVED</td>\n",
       "        <td>03</td>\n",
       "        <td>IN COMPLIANCE</td>\n",
       "        <td>&nbsp;&nbsp;&nbsp;&nbsp;00    </td>\n",
       "        <td>No Violations Found</td>\n",
       "        <td>None</td>\n",
       "    </tr>\n",
       "    <tr>\n",
       "        <td>00BSAY IT WITH CAKE</td>\n",
       "        <td>50534</td>\n",
       "        <td>10200 GOLF COURSE RD NW STE B</td>\n",
       "        <td>ALBUQUERQUE</td>\n",
       "        <td>NM</td>\n",
       "        <td>87114     </td>\n",
       "        <td>47341</td>\n",
       "        <td>OOBSAY IT WITH CAKE</td>\n",
       "        <td>CAKE DECORATING</td>\n",
       "        <td>10200</td>\n",
       "        <td>GOLF COURSE</td>\n",
       "        <td>RD</td>\n",
       "        <td>NW</td>\n",
       "        <td>5058339563     </td>\n",
       "        <td>0405</td>\n",
       "        <td>Food Processor</td>\n",
       "        <td>2009-10-21 00:00:00</td>\n",
       "        <td>None</td>\n",
       "        <td>ROUTINE FOOD INSPECTION</td>\n",
       "        <td>DA8009123</td>\n",
       "        <td>11</td>\n",
       "        <td>APPROVED</td>\n",
       "        <td>03</td>\n",
       "        <td>IN COMPLIANCE</td>\n",
       "        <td>&nbsp;&nbsp;&nbsp;&nbsp;55    </td>\n",
       "        <td>Additional Comments</td>\n",
       "        <td>None</td>\n",
       "    </tr>\n",
       "    <tr>\n",
       "        <td>00BSAY IT WITH CAKE</td>\n",
       "        <td>50534</td>\n",
       "        <td>10200 GOLF COURSE RD NW STE B</td>\n",
       "        <td>ALBUQUERQUE</td>\n",
       "        <td>NM</td>\n",
       "        <td>87114     </td>\n",
       "        <td>47341</td>\n",
       "        <td>OOBSAY IT WITH CAKE</td>\n",
       "        <td>CAKE DECORATING</td>\n",
       "        <td>10200</td>\n",
       "        <td>GOLF COURSE</td>\n",
       "        <td>RD</td>\n",
       "        <td>NW</td>\n",
       "        <td>5058339563     </td>\n",
       "        <td>0405</td>\n",
       "        <td>Food Processor</td>\n",
       "        <td>2010-04-14 00:00:00</td>\n",
       "        <td>None</td>\n",
       "        <td>ROUTINE FOOD INSPECTION</td>\n",
       "        <td>DA8010205</td>\n",
       "        <td>11</td>\n",
       "        <td>APPROVED</td>\n",
       "        <td>03</td>\n",
       "        <td>IN COMPLIANCE</td>\n",
       "        <td>&nbsp;&nbsp;&nbsp;&nbsp;00    </td>\n",
       "        <td>No Violations Found</td>\n",
       "        <td>None</td>\n",
       "    </tr>\n",
       "    <tr>\n",
       "        <td>00BSAY IT WITH CAKE</td>\n",
       "        <td>50534</td>\n",
       "        <td>10200 GOLF COURSE RD NW STE B</td>\n",
       "        <td>ALBUQUERQUE</td>\n",
       "        <td>NM</td>\n",
       "        <td>87114     </td>\n",
       "        <td>47341</td>\n",
       "        <td>OOBSAY IT WITH CAKE</td>\n",
       "        <td>CAKE DECORATING</td>\n",
       "        <td>10200</td>\n",
       "        <td>GOLF COURSE</td>\n",
       "        <td>RD</td>\n",
       "        <td>NW</td>\n",
       "        <td>5058339563     </td>\n",
       "        <td>0405</td>\n",
       "        <td>Food Processor</td>\n",
       "        <td>2010-04-14 00:00:00</td>\n",
       "        <td>None</td>\n",
       "        <td>ROUTINE FOOD INSPECTION</td>\n",
       "        <td>DA8010205</td>\n",
       "        <td>11</td>\n",
       "        <td>APPROVED</td>\n",
       "        <td>03</td>\n",
       "        <td>IN COMPLIANCE</td>\n",
       "        <td>&nbsp;&nbsp;&nbsp;&nbsp;55    </td>\n",
       "        <td>Additional Comments</td>\n",
       "        <td>None</td>\n",
       "    </tr>\n",
       "</table>"
      ],
      "text/plain": [
       "[('00BSAY IT WITH CAKE', 50534, '10200 GOLF COURSE RD NW STE B', 'ALBUQUERQUE', 'NM', '87114     ', 47341, 'OOBSAY IT WITH CAKE', 'CAKE DECORATING', '10200', 'GOLF COURSE', 'RD', 'NW', '5058339563     ', '0405', 'Food Processor', datetime.datetime(2009, 10, 21, 0, 0), None, 'EMERGENCY RESPONSE', 'DA8009125', '00', 'NON-GRADED', '00', 'NOT APPLICABLE', '    68    ', 'Delivered Informational Brochure', None),\n",
       " ('00BSAY IT WITH CAKE', 50534, '10200 GOLF COURSE RD NW STE B', 'ALBUQUERQUE', 'NM', '87114     ', 47341, 'OOBSAY IT WITH CAKE', 'CAKE DECORATING', '10200', 'GOLF COURSE', 'RD', 'NW', '5058339563     ', '0405', 'Food Processor', datetime.datetime(2009, 10, 21, 0, 0), None, 'ROUTINE FOOD INSPECTION', 'DA8009123', '11', 'APPROVED', '03', 'IN COMPLIANCE', '    00    ', 'No Violations Found', None),\n",
       " ('00BSAY IT WITH CAKE', 50534, '10200 GOLF COURSE RD NW STE B', 'ALBUQUERQUE', 'NM', '87114     ', 47341, 'OOBSAY IT WITH CAKE', 'CAKE DECORATING', '10200', 'GOLF COURSE', 'RD', 'NW', '5058339563     ', '0405', 'Food Processor', datetime.datetime(2009, 10, 21, 0, 0), None, 'ROUTINE FOOD INSPECTION', 'DA8009123', '11', 'APPROVED', '03', 'IN COMPLIANCE', '    55    ', 'Additional Comments', None),\n",
       " ('00BSAY IT WITH CAKE', 50534, '10200 GOLF COURSE RD NW STE B', 'ALBUQUERQUE', 'NM', '87114     ', 47341, 'OOBSAY IT WITH CAKE', 'CAKE DECORATING', '10200', 'GOLF COURSE', 'RD', 'NW', '5058339563     ', '0405', 'Food Processor', datetime.datetime(2010, 4, 14, 0, 0), None, 'ROUTINE FOOD INSPECTION', 'DA8010205', '11', 'APPROVED', '03', 'IN COMPLIANCE', '    00    ', 'No Violations Found', None),\n",
       " ('00BSAY IT WITH CAKE', 50534, '10200 GOLF COURSE RD NW STE B', 'ALBUQUERQUE', 'NM', '87114     ', 47341, 'OOBSAY IT WITH CAKE', 'CAKE DECORATING', '10200', 'GOLF COURSE', 'RD', 'NW', '5058339563     ', '0405', 'Food Processor', datetime.datetime(2010, 4, 14, 0, 0), None, 'ROUTINE FOOD INSPECTION', 'DA8010205', '11', 'APPROVED', '03', 'IN COMPLIANCE', '    55    ', 'Additional Comments', None)]"
      ]
     },
     "execution_count": 29,
     "metadata": {},
     "output_type": "execute_result"
    }
   ],
   "source": [
    "%%sql\n",
    "SELECT * FROM inspection\n",
    "LIMIT 5;"
   ]
  },
  {
   "cell_type": "markdown",
   "metadata": {},
   "source": [
    "We need to find two comlumns which have one to one correspondence."
   ]
  },
  {
   "cell_type": "code",
   "execution_count": 30,
   "metadata": {
    "collapsed": false
   },
   "outputs": [
    {
     "name": "stdout",
     "output_type": "stream",
     "text": [
      "2 rows affected.\n"
     ]
    },
    {
     "data": {
      "text/html": [
       "<table>\n",
       "    <tr>\n",
       "        <th>count</th>\n",
       "        <th>attributes_compared</th>\n",
       "    </tr>\n",
       "    <tr>\n",
       "        <td>8</td>\n",
       "        <td>action_code</td>\n",
       "    </tr>\n",
       "    <tr>\n",
       "        <td>8</td>\n",
       "        <td>action_desc</td>\n",
       "    </tr>\n",
       "</table>"
      ],
      "text/plain": [
       "[(8, 'action_code'), (8, 'action_desc')]"
      ]
     },
     "execution_count": 30,
     "metadata": {},
     "output_type": "execute_result"
    }
   ],
   "source": [
    "%%sql\n",
    "SELECT COUNT(*), 'action_code' as Attributes_Compared\n",
    "FROM (\n",
    "    SELECT DISTINCT action_code\n",
    "    FROM inspection\n",
    "    )t1\n",
    "\n",
    "UNION ALL\n",
    "\n",
    "SELECT COUNT(*), 'action_desc' as Attributes_Compared\n",
    "FROM (\n",
    "    SELECT DISTINCT action_desc\n",
    "    FROM inspection\n",
    "    )t2\n",
    ";"
   ]
  },
  {
   "cell_type": "code",
   "execution_count": 31,
   "metadata": {
    "collapsed": false
   },
   "outputs": [
    {
     "name": "stdout",
     "output_type": "stream",
     "text": [
      "Done.\n",
      "Done.\n"
     ]
    },
    {
     "data": {
      "text/plain": [
       "[]"
      ]
     },
     "execution_count": 31,
     "metadata": {},
     "output_type": "execute_result"
    }
   ],
   "source": [
    "%%sql\n",
    "DROP TABLE IF EXISTS actionkey;\n",
    "CREATE TABLE actionkey\n",
    "(\n",
    "    ACTION_CODE VARCHAR(2) CONSTRAINT action_pk PRIMARY KEY,\n",
    "    ACTION_DESC VARCHAR(40)\n",
    "    \n",
    ");"
   ]
  },
  {
   "cell_type": "code",
   "execution_count": 32,
   "metadata": {
    "collapsed": false
   },
   "outputs": [
    {
     "name": "stdout",
     "output_type": "stream",
     "text": [
      "8 rows affected.\n"
     ]
    },
    {
     "data": {
      "text/plain": [
       "[]"
      ]
     },
     "execution_count": 32,
     "metadata": {},
     "output_type": "execute_result"
    }
   ],
   "source": [
    "%%sql\n",
    "INSERT INTO actionkey (ACTION_CODE, ACTION_DESC)\n",
    "SELECT DISTINCT action_code, action_desc\n",
    "FROM inspection;"
   ]
  },
  {
   "cell_type": "code",
   "execution_count": 39,
   "metadata": {
    "collapsed": false
   },
   "outputs": [
    {
     "name": "stdout",
     "output_type": "stream",
     "text": [
      "8 rows affected.\n"
     ]
    },
    {
     "data": {
      "text/html": [
       "<table>\n",
       "    <tr>\n",
       "        <th>action_code</th>\n",
       "        <th>action_desc</th>\n",
       "    </tr>\n",
       "    <tr>\n",
       "        <td>00</td>\n",
       "        <td>NON-GRADED</td>\n",
       "    </tr>\n",
       "    <tr>\n",
       "        <td>10</td>\n",
       "        <td>ANNUAL STICKER NOT ISSUED</td>\n",
       "    </tr>\n",
       "    <tr>\n",
       "        <td>17</td>\n",
       "        <td>FOOD PERMIT SUSPENSION</td>\n",
       "    </tr>\n",
       "    <tr>\n",
       "        <td>09</td>\n",
       "        <td>ANNUAL STICKER ISSUED</td>\n",
       "    </tr>\n",
       "    <tr>\n",
       "        <td>12</td>\n",
       "        <td>NO PERMIT APPLICATION ISSUED</td>\n",
       "    </tr>\n",
       "    <tr>\n",
       "        <td>11</td>\n",
       "        <td>APPROVED</td>\n",
       "    </tr>\n",
       "    <tr>\n",
       "        <td>06</td>\n",
       "        <td>UNSATISFACTORY</td>\n",
       "    </tr>\n",
       "    <tr>\n",
       "        <td>03</td>\n",
       "        <td>FACILITY CLOSED AT TIME OF SERVICE</td>\n",
       "    </tr>\n",
       "</table>"
      ],
      "text/plain": [
       "[('00', 'NON-GRADED'),\n",
       " ('10', 'ANNUAL STICKER NOT ISSUED'),\n",
       " ('17', 'FOOD PERMIT SUSPENSION'),\n",
       " ('09', 'ANNUAL STICKER ISSUED'),\n",
       " ('12', 'NO PERMIT APPLICATION ISSUED'),\n",
       " ('11', 'APPROVED'),\n",
       " ('06', 'UNSATISFACTORY'),\n",
       " ('03', 'FACILITY CLOSED AT TIME OF SERVICE')]"
      ]
     },
     "execution_count": 39,
     "metadata": {},
     "output_type": "execute_result"
    }
   ],
   "source": [
    "%%sql\n",
    "SELECT *\n",
    "FROM actionkey;"
   ]
  },
  {
   "cell_type": "code",
   "execution_count": 34,
   "metadata": {
    "collapsed": false
   },
   "outputs": [
    {
     "name": "stdout",
     "output_type": "stream",
     "text": [
      "2 rows affected.\n"
     ]
    },
    {
     "data": {
      "text/html": [
       "<table>\n",
       "    <tr>\n",
       "        <th>count</th>\n",
       "        <th>attributes_compared</th>\n",
       "    </tr>\n",
       "    <tr>\n",
       "        <td>19</td>\n",
       "        <td>result_code</td>\n",
       "    </tr>\n",
       "    <tr>\n",
       "        <td>19</td>\n",
       "        <td>result_desc</td>\n",
       "    </tr>\n",
       "</table>"
      ],
      "text/plain": [
       "[(19, 'result_code'), (19, 'result_desc')]"
      ]
     },
     "execution_count": 34,
     "metadata": {},
     "output_type": "execute_result"
    }
   ],
   "source": [
    "%%sql\n",
    "SELECT COUNT(*), 'result_code' as Attributes_Compared\n",
    "FROM (\n",
    "    SELECT DISTINCT result_code\n",
    "    FROM inspection\n",
    "    )t1\n",
    "\n",
    "UNION ALL\n",
    "\n",
    "SELECT COUNT(*), 'result_desc' as Attributes_Compared\n",
    "FROM (\n",
    "    SELECT DISTINCT result_desc\n",
    "    FROM inspection\n",
    "    )t2\n",
    ";"
   ]
  },
  {
   "cell_type": "code",
   "execution_count": 36,
   "metadata": {
    "collapsed": false
   },
   "outputs": [
    {
     "name": "stdout",
     "output_type": "stream",
     "text": [
      "Done.\n",
      "Done.\n"
     ]
    },
    {
     "data": {
      "text/plain": [
       "[]"
      ]
     },
     "execution_count": 36,
     "metadata": {},
     "output_type": "execute_result"
    }
   ],
   "source": [
    "%%sql\n",
    "DROP TABLE IF EXISTS resultkey;\n",
    "CREATE TABLE resultkey\n",
    "(\n",
    "    RESULT_CODE VARCHAR(2) CONSTRAINT result_pk PRIMARY KEY,\n",
    "    RESULT_DESC VARCHAR(40)\n",
    "    \n",
    ");"
   ]
  },
  {
   "cell_type": "code",
   "execution_count": 38,
   "metadata": {
    "collapsed": false
   },
   "outputs": [
    {
     "name": "stdout",
     "output_type": "stream",
     "text": [
      "19 rows affected.\n"
     ]
    },
    {
     "data": {
      "text/plain": [
       "[]"
      ]
     },
     "execution_count": 38,
     "metadata": {},
     "output_type": "execute_result"
    }
   ],
   "source": [
    "%%sql\n",
    "INSERT INTO resultkey (RESULT_CODE, RESULT_DESC)\n",
    "SELECT DISTINCT result_code, result_desc\n",
    "FROM inspection;"
   ]
  },
  {
   "cell_type": "code",
   "execution_count": 40,
   "metadata": {
    "collapsed": false
   },
   "outputs": [
    {
     "name": "stdout",
     "output_type": "stream",
     "text": [
      "19 rows affected.\n"
     ]
    },
    {
     "data": {
      "text/html": [
       "<table>\n",
       "    <tr>\n",
       "        <th>result_code</th>\n",
       "        <th>result_desc</th>\n",
       "    </tr>\n",
       "    <tr>\n",
       "        <td>18</td>\n",
       "        <td>TRAINING RECEIVED</td>\n",
       "    </tr>\n",
       "    <tr>\n",
       "        <td>12</td>\n",
       "        <td>PERMIT REINSTATEMENT</td>\n",
       "    </tr>\n",
       "    <tr>\n",
       "        <td>11</td>\n",
       "        <td>FACILITY CLOSED AT TIME OF INSPECTION</td>\n",
       "    </tr>\n",
       "    <tr>\n",
       "        <td>20</td>\n",
       "        <td>EMBARGO</td>\n",
       "    </tr>\n",
       "    <tr>\n",
       "        <td>03</td>\n",
       "        <td>IN COMPLIANCE</td>\n",
       "    </tr>\n",
       "    <tr>\n",
       "        <td>22</td>\n",
       "        <td>OUT OF BUSINESS</td>\n",
       "    </tr>\n",
       "    <tr>\n",
       "        <td>13</td>\n",
       "        <td>PHONE CALL</td>\n",
       "    </tr>\n",
       "    <tr>\n",
       "        <td>14</td>\n",
       "        <td>IMMEDIATE CLOSURE</td>\n",
       "    </tr>\n",
       "    <tr>\n",
       "        <td>04</td>\n",
       "        <td>NOTICE</td>\n",
       "    </tr>\n",
       "    <tr>\n",
       "        <td>25</td>\n",
       "        <td>PLAN REVIEW -APPROVED</td>\n",
       "    </tr>\n",
       "    <tr>\n",
       "        <td>06</td>\n",
       "        <td>UPGRADE</td>\n",
       "    </tr>\n",
       "    <tr>\n",
       "        <td>05</td>\n",
       "        <td>DOWNGRADE</td>\n",
       "    </tr>\n",
       "    <tr>\n",
       "        <td>19</td>\n",
       "        <td>WITNESS TO DESTRUCTION</td>\n",
       "    </tr>\n",
       "    <tr>\n",
       "        <td>10</td>\n",
       "        <td>PERMISSION TO OPERATE</td>\n",
       "    </tr>\n",
       "    <tr>\n",
       "        <td>07</td>\n",
       "        <td>PERMIT SUSPENSION</td>\n",
       "    </tr>\n",
       "    <tr>\n",
       "        <td>00</td>\n",
       "        <td>NOT APPLICABLE</td>\n",
       "    </tr>\n",
       "    <tr>\n",
       "        <td>08</td>\n",
       "        <td>VOLUNTARY CLOSURE</td>\n",
       "    </tr>\n",
       "    <tr>\n",
       "        <td>02</td>\n",
       "        <td>NOT IN COMPLIANCE</td>\n",
       "    </tr>\n",
       "    <tr>\n",
       "        <td>27</td>\n",
       "        <td>RECALL VERIFICATION</td>\n",
       "    </tr>\n",
       "</table>"
      ],
      "text/plain": [
       "[('18', 'TRAINING RECEIVED'),\n",
       " ('12', 'PERMIT REINSTATEMENT'),\n",
       " ('11', 'FACILITY CLOSED AT TIME OF INSPECTION'),\n",
       " ('20', 'EMBARGO'),\n",
       " ('03', 'IN COMPLIANCE'),\n",
       " ('22', 'OUT OF BUSINESS'),\n",
       " ('13', 'PHONE CALL'),\n",
       " ('14', 'IMMEDIATE CLOSURE'),\n",
       " ('04', 'NOTICE'),\n",
       " ('25', 'PLAN REVIEW -APPROVED'),\n",
       " ('06', 'UPGRADE'),\n",
       " ('05', 'DOWNGRADE'),\n",
       " ('19', 'WITNESS TO DESTRUCTION'),\n",
       " ('10', 'PERMISSION TO OPERATE'),\n",
       " ('07', 'PERMIT SUSPENSION'),\n",
       " ('00', 'NOT APPLICABLE'),\n",
       " ('08', 'VOLUNTARY CLOSURE'),\n",
       " ('02', 'NOT IN COMPLIANCE'),\n",
       " ('27', 'RECALL VERIFICATION')]"
      ]
     },
     "execution_count": 40,
     "metadata": {},
     "output_type": "execute_result"
    }
   ],
   "source": [
    "%%sql\n",
    "SELECT *\n",
    "FROM resultkey;"
   ]
  },
  {
   "cell_type": "code",
   "execution_count": 44,
   "metadata": {
    "collapsed": false
   },
   "outputs": [
    {
     "name": "stdout",
     "output_type": "stream",
     "text": [
      "Done.\n"
     ]
    },
    {
     "data": {
      "text/plain": [
       "[]"
      ]
     },
     "execution_count": 44,
     "metadata": {},
     "output_type": "execute_result"
    }
   ],
   "source": [
    "%%sql\n",
    "ALTER TABLE inspection\n",
    "DROP COLUMN action_desc;"
   ]
  },
  {
   "cell_type": "code",
   "execution_count": 45,
   "metadata": {
    "collapsed": false
   },
   "outputs": [
    {
     "name": "stdout",
     "output_type": "stream",
     "text": [
      "Done.\n"
     ]
    },
    {
     "data": {
      "text/plain": [
       "[]"
      ]
     },
     "execution_count": 45,
     "metadata": {},
     "output_type": "execute_result"
    }
   ],
   "source": [
    "%%sql\n",
    "ALTER TABLE inspection\n",
    "DROP COLUMN result_desc;"
   ]
  },
  {
   "cell_type": "code",
   "execution_count": 46,
   "metadata": {
    "collapsed": false
   },
   "outputs": [
    {
     "name": "stdout",
     "output_type": "stream",
     "text": [
      "Done.\n"
     ]
    },
    {
     "data": {
      "text/plain": [
       "[]"
      ]
     },
     "execution_count": 46,
     "metadata": {},
     "output_type": "execute_result"
    }
   ],
   "source": [
    "%%sql\n",
    "ALTER TABLE inspection\n",
    "ADD CONSTRAINT action_fk FOREIGN KEY (action_code)\n",
    "REFERENCES actionkey (action_code) ON DELETE NO ACTION;"
   ]
  },
  {
   "cell_type": "code",
   "execution_count": 47,
   "metadata": {
    "collapsed": false
   },
   "outputs": [
    {
     "name": "stdout",
     "output_type": "stream",
     "text": [
      "Done.\n"
     ]
    },
    {
     "data": {
      "text/plain": [
       "[]"
      ]
     },
     "execution_count": 47,
     "metadata": {},
     "output_type": "execute_result"
    }
   ],
   "source": [
    "%%sql\n",
    "ALTER TABLE inspection\n",
    "ADD CONSTRAINT result_fk FOREIGN KEY (result_code)\n",
    "REFERENCES resultkey (result_code) ON DELETE NO ACTION;"
   ]
  },
  {
   "cell_type": "code",
   "execution_count": 48,
   "metadata": {
    "collapsed": false
   },
   "outputs": [
    {
     "name": "stdout",
     "output_type": "stream",
     "text": [
      "1 rows affected.\n"
     ]
    },
    {
     "data": {
      "text/html": [
       "<table>\n",
       "    <tr>\n",
       "        <th>column_name</th>\n",
       "        <th>constraint_name</th>\n",
       "    </tr>\n",
       "    <tr>\n",
       "        <td>action_code</td>\n",
       "        <td>action_fk</td>\n",
       "    </tr>\n",
       "</table>"
      ],
      "text/plain": [
       "[('action_code', 'action_fk')]"
      ]
     },
     "execution_count": 48,
     "metadata": {},
     "output_type": "execute_result"
    }
   ],
   "source": [
    "%%sql\n",
    "SELECT COLUMN_NAME,CONSTRAINT_NAME\n",
    "from information_schema.KEY_COLUMN_USAGE\n",
    "where TABLE_NAME = 'inspection' AND COLUMN_NAME = 'action_code'\n",
    ";"
   ]
  },
  {
   "cell_type": "code",
   "execution_count": 49,
   "metadata": {
    "collapsed": false
   },
   "outputs": [
    {
     "name": "stdout",
     "output_type": "stream",
     "text": [
      "1 rows affected.\n"
     ]
    },
    {
     "data": {
      "text/html": [
       "<table>\n",
       "    <tr>\n",
       "        <th>column_name</th>\n",
       "        <th>constraint_name</th>\n",
       "    </tr>\n",
       "    <tr>\n",
       "        <td>result_code</td>\n",
       "        <td>result_fk</td>\n",
       "    </tr>\n",
       "</table>"
      ],
      "text/plain": [
       "[('result_code', 'result_fk')]"
      ]
     },
     "execution_count": 49,
     "metadata": {},
     "output_type": "execute_result"
    }
   ],
   "source": [
    "%%sql\n",
    "SELECT COLUMN_NAME,CONSTRAINT_NAME\n",
    "from information_schema.KEY_COLUMN_USAGE\n",
    "where TABLE_NAME = 'inspection' AND COLUMN_NAME = 'result_code'\n",
    ";"
   ]
  },
  {
   "cell_type": "code",
   "execution_count": null,
   "metadata": {
    "collapsed": true
   },
   "outputs": [],
   "source": []
  }
 ],
 "metadata": {
  "anaconda-cloud": {},
  "kernelspec": {
   "display_name": "Python 3",
   "language": "python",
   "name": "python3"
  },
  "language_info": {
   "codemirror_mode": {
    "name": "ipython",
    "version": 3
   },
   "file_extension": ".py",
   "mimetype": "text/x-python",
   "name": "python",
   "nbconvert_exporter": "python",
   "pygments_lexer": "ipython3",
   "version": "3.5.2"
  }
 },
 "nbformat": 4,
 "nbformat_minor": 1
}
