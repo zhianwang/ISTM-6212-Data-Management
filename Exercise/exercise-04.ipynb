{
 "cells": [
  {
   "cell_type": "markdown",
   "metadata": {},
   "source": [
    "# Exercise 04 - Due Friday, October 21 at 12pm\n",
    "\n",
    "*Objectives*: Gain experience loading a CSV dataset into a database model you define yourself and using SQL to explore its contents. Explore the data by writing and executing a number of SQL queries using common syntax and functions and describing your findings.\n",
    "\n",
    "*Grading criteria*: The tasks should all be completed, and questions should all be answered with SQL queries in the space provided, unless a text answer is requested. Results should be correct, according to the embedded tests. The notebook itself should be completely reproducible; from start to finish, another person should be able to use the same code to obtain the same results as yours.  Note that you will receive no more than partial credit if you do not add text/markdown cells explaining your thinking at each major step in each problem.\n",
    "\n",
    "*Deadline*: Friday, October 21, 12pm. Submit your notebook to Blackboard and push it to your GitHub repository.\n",
    "\n",
    "## Setup - obtain data and create database\n",
    "\n",
    "The US City Open Data Census has data on [restaurant inspections from all over the country](http://us-city.census.okfn.org/dataset/food-safety).  Let's take a look at data from Albuquerque.  *Note*: metadata and other details for this dataset are available at http://data.cabq.gov/business/foodinspections/.\n",
    "\n",
    "Fyi, to save you a step, I've converted this file into a clean CSV file by using the `dos2unix` command to change its line endings and to switch it to use commas instead of tabs using `csvformat -t inputfile.csv > outputfile.csv`.\n",
    "\n",
    "First we download the dataset:"
   ]
  },
  {
   "cell_type": "code",
   "execution_count": 1,
   "metadata": {
    "collapsed": false
   },
   "outputs": [
    {
     "name": "stdout",
     "output_type": "stream",
     "text": [
      "--2016-10-24 15:38:12--  https://raw.githubusercontent.com/gwsb-istm-6212-fall-2016/syllabus-and-schedule/master/exercises/abq-food-inspections-fy2010.csv\n",
      "Resolving raw.githubusercontent.com (raw.githubusercontent.com)... 151.101.32.133\n",
      "Connecting to raw.githubusercontent.com (raw.githubusercontent.com)|151.101.32.133|:443... connected.\n",
      "HTTP request sent, awaiting response... 200 OK\n",
      "Length: 5025226 (4.8M) [text/plain]\n",
      "Saving to: ‘abq-food-inspections-fy2010.csv’\n",
      "\n",
      "abq-food-inspection 100%[=====================>]   4.79M  --.-KB/s   in 0.1s   \n",
      "\n",
      "2016-10-24 15:38:12 (44.7 MB/s) - ‘abq-food-inspections-fy2010.csv’ saved [5025226/5025226]\n",
      "\n"
     ]
    }
   ],
   "source": [
    "!wget https://raw.githubusercontent.com/gwsb-istm-6212-fall-2016/syllabus-and-schedule/master/exercises/abq-food-inspections-fy2010.csv"
   ]
  },
  {
   "cell_type": "code",
   "execution_count": 2,
   "metadata": {
    "collapsed": true
   },
   "outputs": [],
   "source": [
    "!mv abq-food-inspections-fy2010.csv e4.csv"
   ]
  },
  {
   "cell_type": "markdown",
   "metadata": {},
   "source": [
    "## Problem 1 - examine the data (35 points)\n",
    "\n",
    "Use `csvstat` and other tools as you see fit and observe its contents.  Review the metadata definitions linked to above.  Describe what you see:  What do all the columns mean?  Are there null values?  Which columns interest you the most?  Which columns present some complications or questions you would like to ask?"
   ]
  },
  {
   "cell_type": "markdown",
   "metadata": {},
   "source": [
    "Insert a combination of code and text/markdown cells here to review the data and describe what you find."
   ]
  },
  {
   "cell_type": "code",
   "execution_count": 3,
   "metadata": {
    "collapsed": false
   },
   "outputs": [
    {
     "name": "stdout",
     "output_type": "stream",
     "text": [
      "  1: FACILITY_NAME\r\n",
      "  2: FACILITY_KEY\r\n",
      "  3: SITE_ADDRESS\r\n",
      "  4: CITY\r\n",
      "  5: STATE\r\n",
      "  6: ZIP\r\n",
      "  7: OWNER_KEY\r\n",
      "  8: OWNER_NAME\r\n",
      "  9: NATURE_OF_BUSINESS\r\n",
      " 10: STREET_NUMBER\r\n",
      " 11: STREET_NAME\r\n",
      " 12: STREET_TYPE\r\n",
      " 13: POST_DIRECTIONAL\r\n",
      " 14: PHONE\r\n",
      " 15: PROGRAM_CATEGORY\r\n",
      " 16: PROGRAM_CATEGORY_DESCRIPTION\r\n",
      " 17: INSPECTION_DATE\r\n",
      " 18: INSPECTION_TYPE\r\n",
      " 19: INSPECTION_DESC\r\n",
      " 20: SERIAL_NUM\r\n",
      " 21: ACTION_CODE\r\n",
      " 22: ACTION_DESC\r\n",
      " 23: RESULT_CODE\r\n",
      " 24: RESULT_DESC\r\n",
      " 25: VIOLATION_CODE\r\n",
      " 26: VIOLATION_DESC\r\n",
      " 27: INSPECTION_MEMO\r\n"
     ]
    }
   ],
   "source": [
    "!csvcut -n e4.csv"
   ]
  },
  {
   "cell_type": "code",
   "execution_count": 4,
   "metadata": {
    "collapsed": false
   },
   "outputs": [
    {
     "name": "stdout",
     "output_type": "stream",
     "text": [
      "|----------------------+--------------+-------------------------------+-------------+-------+--------|\n",
      "|  FACILITY_NAME       | FACILITY_KEY | SITE_ADDRESS                  | CITY        | STATE | ZIP    |\n",
      "|----------------------+--------------+-------------------------------+-------------+-------+--------|\n",
      "|  00BSAY IT WITH CAKE | 50534        | 10200 GOLF COURSE RD NW STE B | ALBUQUERQUE | NM    | 87114  |\n",
      "|  00BSAY IT WITH CAKE | 50534        | 10200 GOLF COURSE RD NW STE B | ALBUQUERQUE | NM    | 87114  |\n",
      "|  00BSAY IT WITH CAKE | 50534        | 10200 GOLF COURSE RD NW STE B | ALBUQUERQUE | NM    | 87114  |\n",
      "|  00BSAY IT WITH CAKE | 50534        | 10200 GOLF COURSE RD NW STE B | ALBUQUERQUE | NM    | 87114  |\n",
      "|----------------------+--------------+-------------------------------+-------------+-------+--------|\n",
      "|------------+---------------------+--------------------+---------------+-------------+--------------|\n",
      "|  OWNER_KEY | OWNER_NAME          | NATURE_OF_BUSINESS | STREET_NUMBER | STREET_NAME | STREET_TYPE  |\n",
      "|------------+---------------------+--------------------+---------------+-------------+--------------|\n",
      "|  47341     | OOBSAY IT WITH CAKE | CAKE DECORATING    | 10200         | GOLF COURSE | RD           |\n",
      "|  47341     | OOBSAY IT WITH CAKE | CAKE DECORATING    | 10200         | GOLF COURSE | RD           |\n",
      "|  47341     | OOBSAY IT WITH CAKE | CAKE DECORATING    | 10200         | GOLF COURSE | RD           |\n",
      "|  47341     | OOBSAY IT WITH CAKE | CAKE DECORATING    | 10200         | GOLF COURSE | RD           |\n",
      "|------------+---------------------+--------------------+---------------+-------------+--------------|\n",
      "|-------------------+------------+------------------+-------------------------------|\n",
      "|  POST_DIRECTIONAL | PHONE      | PROGRAM_CATEGORY | PROGRAM_CATEGORY_DESCRIPTION  |\n",
      "|-------------------+------------+------------------+-------------------------------|\n",
      "|  NW               | 5058339563 | 0405             | Food Processor                |\n",
      "|  NW               | 5058339563 | 0405             | Food Processor                |\n",
      "|  NW               | 5058339563 | 0405             | Food Processor                |\n",
      "|  NW               | 5058339563 | 0405             | Food Processor                |\n",
      "|-------------------+------------+------------------+-------------------------------|\n",
      "|----------------------+-----------------+-------------------------+-------------|\n",
      "|  INSPECTION_DATE     | INSPECTION_TYPE | INSPECTION_DESC         | SERIAL_NUM  |\n",
      "|----------------------+-----------------+-------------------------+-------------|\n",
      "|  2009-10-21 00:00:00 |                 | EMERGENCY RESPONSE      | DA8009125   |\n",
      "|  2009-10-21 00:00:00 |                 | ROUTINE FOOD INSPECTION | DA8009123   |\n",
      "|  2009-10-21 00:00:00 |                 | ROUTINE FOOD INSPECTION | DA8009123   |\n",
      "|  2010-04-14 00:00:00 |                 | ROUTINE FOOD INSPECTION | DA8010205   |\n",
      "|----------------------+-----------------+-------------------------+-------------|\n",
      "|--------------+-------------+-------------+-----------------|\n",
      "|  ACTION_CODE | ACTION_DESC | RESULT_CODE | RESULT_DESC     |\n",
      "|--------------+-------------+-------------+-----------------|\n",
      "|  00          | NON-GRADED  | 00          | NOT APPLICABLE  |\n",
      "|  11          | APPROVED    | 03          | IN COMPLIANCE   |\n",
      "|  11          | APPROVED    | 03          | IN COMPLIANCE   |\n",
      "|  11          | APPROVED    | 03          | IN COMPLIANCE   |\n",
      "|--------------+-------------+-------------+-----------------|\n",
      "|-----------------+----------------------------------+------------------|\n",
      "|  VIOLATION_CODE | VIOLATION_DESC                   | INSPECTION_MEMO  |\n",
      "|-----------------+----------------------------------+------------------|\n",
      "|      68         | Delivered Informational Brochure |                  |\n",
      "|      00         | No Violations Found              |                  |\n",
      "|      55         | Additional Comments              |                  |\n",
      "|      00         | No Violations Found              |                  |\n",
      "|-----------------+----------------------------------+------------------|\n"
     ]
    }
   ],
   "source": [
    "!head -5 e4.csv|csvcut -c1,2,3,4,5,6 | csvlook\n",
    "!head -5 e4.csv|csvcut -c7,8,9,10,11,12 | csvlook\n",
    "!head -5 e4.csv|csvcut -c13,14,15,16 | csvlook\n",
    "!head -5 e4.csv|csvcut -c17,18,19,20 | csvlook\n",
    "!head -5 e4.csv|csvcut -c21,22,23,24| csvlook\n",
    "!head -5 e4.csv|csvcut -c25,26,27 | csvlook"
   ]
  },
  {
   "cell_type": "code",
   "execution_count": 5,
   "metadata": {
    "collapsed": false
   },
   "outputs": [
    {
     "name": "stdout",
     "output_type": "stream",
     "text": [
      "  1. FACILITY_NAME\n",
      "\t<class 'str'>\n",
      "\tNulls: False\n",
      "\tUnique values: 2615\n",
      "\t5 most frequent values:\n",
      "\t\tSMITHS FOOD AND DRUG CENTERS INC:\t154\n",
      "\t\tISOTOPES PARK - OVATIONS:\t93\n",
      "\t\tPER EHSII CECELIA GARCIA OOB LA REYNA DEL SUR:\t85\n",
      "\t\tISLETA AMPHITHEATER:\t68\n",
      "\t\tECHO INC:\t68\n",
      "\tMax length: 77\n",
      "  2. FACILITY_KEY\n",
      "\t<class 'int'>\n",
      "\tNulls: False\n",
      "\tMin: 13\n",
      "\tMax: 101482\n",
      "\tSum: 820405773\n",
      "\tMean: 46730.79135338346\n",
      "\tMedian: 50866.0\n",
      "\tStandard Deviation: 32659.794578837962\n",
      "\tUnique values: 2835\n",
      "\t5 most frequent values:\n",
      "\t\t46323:\t93\n",
      "\t\t65863:\t85\n",
      "\t\t80949:\t68\n",
      "\t\t32817:\t68\n",
      "\t\t91825:\t66\n",
      "  3. SITE_ADDRESS\n",
      "\t<class 'str'>\n",
      "\tNulls: True\n",
      "\tUnique values: 2456\n",
      "\t5 most frequent values:\n",
      "\t\t1601 AVENIDA CESAR CHAVEZ SE:\t94\n",
      "\t\t644 OLD COORS BLVD SW:\t85\n",
      "\t\t8601 CENTRAL AV NE:\t77\n",
      "\t\t2200 SUNPORT BLVD SE:\t75\n",
      "\t\t5210 CENTRAL AV SE:\t73\n",
      "\tMax length: 35\n",
      "  4. CITY\n",
      "\t<class 'str'>\n",
      "\tNulls: False\n",
      "\tValues: ALBUQUERQUE\n",
      "  5. STATE\n",
      "\t<class 'str'>\n",
      "\tNulls: False\n",
      "\tValues: NM, 87\n",
      "  6. ZIP\n",
      "\t<class 'str'>\n",
      "\tNulls: False\n",
      "\tUnique values: 48\n",
      "\t5 most frequent values:\n",
      "\t\t87110:\t1996\n",
      "\t\t87108:\t1976\n",
      "\t\t87102:\t1601\n",
      "\t\t87106:\t1568\n",
      "\t\t87109:\t1552\n",
      "\tMax length: 10\n",
      "  7. OWNER_KEY\n",
      "\t<class 'int'>\n",
      "\tNulls: False\n",
      "\tMin: 11\n",
      "\tMax: 87302\n",
      "\tSum: 644760848\n",
      "\tMean: 36725.953975848715\n",
      "\tMedian: 33747.0\n",
      "\tStandard Deviation: 29428.207216739836\n",
      "\tUnique values: 1892\n",
      "\t5 most frequent values:\n",
      "\t\t1838:\t792\n",
      "\t\t3537:\t321\n",
      "\t\t1272:\t228\n",
      "\t\t36280:\t156\n",
      "\t\t80274:\t155\n",
      "  8. OWNER_NAME\n",
      "\t<class 'str'>\n",
      "\tNulls: False\n",
      "\tUnique values: 1852\n",
      "\t5 most frequent values:\n",
      "\t\tAPS:\t792\n",
      "\t\tSMITHS FOOD AND DRUG CENTERS INC:\t321\n",
      "\t\tCIRCLE K STORES INC:\t277\n",
      "\t\tALBERTSONS:\t228\n",
      "\t\tWAL MART STORES EAST  LP:\t156\n",
      "\tMax length: 82\n",
      "  9. NATURE_OF_BUSINESS\n",
      "\t<class 'str'>\n",
      "\tNulls: True\n",
      "\tUnique values: 594\n",
      "\t5 most frequent values:\n",
      "\t\tRESTAURANT:\t4994\n",
      "\t\tFOOD SERVICE:\t691\n",
      "\t\tGROCERY:\t618\n",
      "\t\tBAR/RESTAURANT:\t508\n",
      "\t\tAPS SCHOOL FOOD SERVICE:\t470\n",
      "\tMax length: 25\n",
      " 10. STREET_NUMBER\n",
      "\t<class 'str'>\n",
      "\tNulls: True\n",
      "\tUnique values: 1349\n",
      "\t5 most frequent values:\n",
      "\t\t6600:\t216\n",
      "\t\t10000:\t152\n",
      "\t\t300:\t143\n",
      "\t\t2200:\t127\n",
      "\t\t8100:\t125\n",
      "\tMax length: 7\n",
      " 11. STREET_NAME\n",
      "\t<class 'str'>\n",
      "\tNulls: True\n",
      "\tUnique values: 404\n",
      "\t5 most frequent values:\n",
      "\t\tCENTRAL:\t1898\n",
      "\t\tMENAUL:\t928\n",
      "\t\tCOORS:\t918\n",
      "\t\tMONTGOMERY:\t727\n",
      "\t\tSAN MATEO:\t707\n",
      "\tMax length: 24\n",
      " 12. STREET_TYPE\n",
      "\t<class 'str'>\n",
      "\tNulls: True\n",
      "\tUnique values: 13\n",
      "\t5 most frequent values:\n",
      "\t\tBLVD:\t7636\n",
      "\t\tAV:\t3005\n",
      "\t\tST:\t2065\n",
      "\t\tRD:\t1900\n",
      "\t\tDR:\t995\n",
      "\tMax length: 4\n",
      " 13. POST_DIRECTIONAL\n",
      "\t<class 'str'>\n",
      "\tNulls: True\n",
      "\tValues: SE, SW, NE, NW, N\n",
      " 14. PHONE\n",
      "\t<class 'int'>\n",
      "\tNulls: True\n",
      "\tMin: 2471094\n",
      "\tMax: 505345566137310\n",
      "\tSum: 2608539289633190\n",
      "\tMean: 161719732773.29138\n",
      "\tMedian: 5053454060.0\n",
      "\tStandard Deviation: 8895791545525.992\n",
      "\tUnique values: 2279\n",
      "\t5 most frequent values:\n",
      "\t\t9153321301:\t101\n",
      "\t\t3037929467:\t100\n",
      "\t\t5052224033:\t94\n",
      "\t\t3109680646:\t85\n",
      "\t\t2122383000:\t68\n",
      " 15. PROGRAM_CATEGORY\n",
      "\t<class 'str'>\n",
      "\tNulls: False\n",
      "\tUnique values: 25\n",
      "\t5 most frequent values:\n",
      "\t\t0406:\t7969\n",
      "\t\t0601:\t1159\n",
      "\t\t0607:\t894\n",
      "\t\t0606:\t865\n",
      "\t\t0408:\t832\n",
      "\tMax length: 4\n",
      " 16. PROGRAM_CATEGORY_DESCRIPTION\n",
      "\t<class 'str'>\n",
      "\tNulls: True\n",
      "\tUnique values: 24\n",
      "\t5 most frequent values:\n",
      "\t\tFood Service Establishment:\t7969\n",
      "\t\tRetail -Grocery:\t1159\n",
      "\t\tRetail - Self Service & Prepackage Foods:\t894\n",
      "\t\tRetail - Prepackage Only:\t865\n",
      "\t\tBar:\t832\n",
      "\tMax length: 40\n",
      " 17. INSPECTION_DATE\n",
      "\t<class 'datetime.date'>\n",
      "\tNulls: False\n",
      "\tMin: 2009-07-01\n",
      "\tMax: 2010-06-30\n",
      "\tUnique values: 258\n",
      "\t5 most frequent values:\n",
      "\t\t2009-12-16:\t184\n",
      "\t\t2009-09-10:\t159\n",
      "\t\t2009-09-25:\t148\n",
      "\t\t2009-11-04:\t133\n",
      "\t\t2009-10-01:\t131\n",
      " 18. INSPECTION_TYPE\n",
      "\t<class 'NoneType'>\n",
      "\tNulls: True\n",
      "\tValues: \n",
      " 19. INSPECTION_DESC\n",
      "\t<class 'str'>\n",
      "\tNulls: False\n",
      "\tUnique values: 15\n",
      "\t5 most frequent values:\n",
      "\t\tROUTINE FOOD INSPECTION:\t12439\n",
      "\t\tEMERGENCY RESPONSE:\t1987\n",
      "\t\tNew Business Inspection:\t1005\n",
      "\t\tPRE-OPENING FOOD INSPECTION:\t743\n",
      "\t\tADDITIONAL SERVICE PROVIDED:\t439\n",
      "\tMax length: 32\n",
      " 20. SERIAL_NUM\n",
      "\t<class 'str'>\n",
      "\tNulls: False\n",
      "\tUnique values: 9046\n",
      "\t5 most frequent values:\n",
      "\t\tDA0059230:\t61\n",
      "\t\tDA0045676:\t61\n",
      "\t\tDA0045731:\t61\n",
      "\t\tDA0047290:\t61\n",
      "\t\tDA0047720:\t61\n",
      "\tMax length: 9\n",
      " 21. ACTION_CODE\n",
      "\t<class 'str'>\n",
      "\tNulls: False\n",
      "\tUnique values: 8\n",
      "\t5 most frequent values:\n",
      "\t\t11:\t14080\n",
      "\t\t00:\t2800\n",
      "\t\t09:\t382\n",
      "\t\t06:\t264\n",
      "\t\t10:\t21\n",
      "\tMax length: 2\n",
      " 22. ACTION_DESC\n",
      "\t<class 'str'>\n",
      "\tNulls: False\n",
      "\tUnique values: 8\n",
      "\t5 most frequent values:\n",
      "\t\tAPPROVED:\t14080\n",
      "\t\tNON-GRADED:\t2800\n",
      "\t\tANNUAL STICKER ISSUED:\t382\n",
      "\t\tUNSATISFACTORY:\t264\n",
      "\t\tANNUAL STICKER NOT ISSUED:\t21\n",
      "\tMax length: 34\n",
      " 23. RESULT_CODE\n",
      "\t<class 'str'>\n",
      "\tNulls: False\n",
      "\tUnique values: 19\n",
      "\t5 most frequent values:\n",
      "\t\t03:\t14389\n",
      "\t\t00:\t2416\n",
      "\t\t05:\t214\n",
      "\t\t22:\t142\n",
      "\t\t18:\t104\n",
      "\tMax length: 2\n",
      " 24. RESULT_DESC\n",
      "\t<class 'str'>\n",
      "\tNulls: False\n",
      "\tUnique values: 19\n",
      "\t5 most frequent values:\n",
      "\t\tIN COMPLIANCE:\t14389\n",
      "\t\tNOT APPLICABLE:\t2416\n",
      "\t\tDOWNGRADE:\t214\n",
      "\t\tOUT OF BUSINESS:\t142\n",
      "\t\tTRAINING RECEIVED:\t104\n",
      "\tMax length: 37\n",
      " 25. VIOLATION_CODE\n",
      "\t<class 'str'>\n",
      "\tNulls: True\n",
      "\tUnique values: 128\n",
      "\t5 most frequent values:\n",
      "\t\t55:\t6348\n",
      "\t\t00:\t3429\n",
      "\t\t68:\t1658\n",
      "\t\t42:\t487\n",
      "\t\t35:\t441\n",
      "\tMax length: 10\n",
      " 26. VIOLATION_DESC\n",
      "\t<class 'str'>\n",
      "\tNulls: True\n",
      "\tUnique values: 70\n",
      "\t5 most frequent values:\n",
      "\t\tAdditional Comments:\t6353\n",
      "\t\tNo Violations Found:\t3434\n",
      "\t\tDelivered Informational Brochure:\t1657\n",
      "\t\tPlumbing: Improperly installed/maintained/supplied:\t492\n",
      "\t\tNon-Food contact surfaces:\t446\n",
      "\tMax length: 50\n",
      " 27. INSPECTION_MEMO\n",
      "\t<class 'NoneType'>\n",
      "\tNulls: True\n",
      "\tValues: \n",
      "\n",
      "Row count: 17556\n"
     ]
    }
   ],
   "source": [
    "!csvstat e4.csv"
   ]
  },
  {
   "cell_type": "markdown",
   "metadata": {},
   "source": [
    "#### Problem1 - Q1: What do all the columns mean?"
   ]
  },
  {
   "cell_type": "markdown",
   "metadata": {},
   "source": [
    "1: FACILITY_NAME is the name of inspection facility\n",
    "\n",
    " 2: FACILITY_KEY is the unique identification key of the inspection facility\n",
    "\n",
    " 3: SITE_ADDRESS is the stress address of the inspection facility\n",
    "\n",
    " 4: CITY is the city of the inspection facility\n",
    "\n",
    " 5: STATE is the state of the inspection facility\n",
    "\n",
    " 6: ZIP is the zip of the inspection facility\n",
    "\n",
    " 7: OWNER_KEY is the unique identification key of the owner of inspection facility\n",
    "\n",
    " 8: OWNER_NAME is the name of the owner of the inspection facility\n",
    " \n",
    " 9: NATURE_OF_BUSINESS is the type of business\n",
    "\n",
    "10: STREET_NUMBER is the stress number of the inspection facility\n",
    "\n",
    "11: STREET_NAME is the stress name of the inspection facility\n",
    "\n",
    "12: STREET_TYPE is the stress type of the inspection facility\n",
    "\n",
    "13: POST_DIRECTIONAL is the postical direction of the inspection facility\n",
    "\n",
    "14: PHONE is the phone of the inspection facility\n",
    "\n",
    "15: PROGRAM_CATEGORY is the id that indicate the type of facility inspection\n",
    "\n",
    "16: PROGRAM_CATEGORY_DESCRIPTION is the description of the id that indicate the type of facility inspection\n",
    "\n",
    "17: INSPECTION_DATE is the date of inspection\n",
    "\n",
    "18: INSPECTION_TYPE is code for type of inspection\n",
    "\n",
    "19: INSPECTION_DESC is the description of inspection type\n",
    "\n",
    "20: SERIAL_NUM is the unique id for the inspection activity\n",
    "\n",
    "21: ACTION_CODE is the code of taken action\n",
    "\n",
    "22: ACTION_DESC is the description of take action\n",
    "\n",
    "23: RESULT_CODE is the code of inspection result\n",
    "\n",
    "24: RESULT_DESC is the description of inspection result\n",
    "\n",
    "25: VIOLATION_CODE is the code for the violation\n",
    "\n",
    "26: VIOLATION_DESC is the escription of the violation\n",
    "\n",
    "27: INSPECTION_MEMO is the note from the inspection"
   ]
  },
  {
   "cell_type": "markdown",
   "metadata": {},
   "source": [
    "#### Problem1-Q2: Are there NULL values?"
   ]
  },
  {
   "cell_type": "markdown",
   "metadata": {},
   "source": [
    "There are 12 columns have null values:\n",
    "1. Site Address\n",
    "2. Nature Of_Business\n",
    "3. Street Number\n",
    "4. Street Name\n",
    "5. Street Type\n",
    "6. Post Directional\n",
    "7. Phone\n",
    "8. Program Category Description\n",
    "9. Inspection Type\n",
    "10. Violation Code\n",
    "11. Violation Desc\n",
    "12. Inspection Memo"
   ]
  },
  {
   "cell_type": "markdown",
   "metadata": {},
   "source": [
    "#### Problem1-Q3: Which columns do you interest most? Which columns present some complications or questions you would like to ask?"
   ]
  },
  {
   "cell_type": "markdown",
   "metadata": {},
   "source": [
    "Columns: OWNER_NAME, RESULT_DESC\n",
    "\n",
    "Questions: \n",
    "\n",
    "What are Top10 OWNER_NAMEs who have most restaurants?\n",
    "\n",
    "What is the RESULT_DESC distribution of the Top3 OWNER_NAMEs who have most restaurants?\n"
   ]
  },
  {
   "cell_type": "markdown",
   "metadata": {},
   "source": [
    "## Problem 2 - define a database model and load the data (35 points)\n",
    "\n",
    "Based on what you found above, create and connect to a new database, define a database table in it, and load this dataset into it.  You may use either of the methods for this step you have seen in earlier class notebooks.  You may choose to eliminate variables/columns if they are not relevant or interesting to you - explain your reasoning if you do.  Either way, you should load a majority of the columns present in the source dataset into the database and all of its rows.\n",
    "\n",
    "Once your data has loaded successfully, run a `COUNT(*)` query to verify that all the data has loaded correctly.\n",
    "\n",
    "Insert a combination of code and text/markdown cells here to connect to your database, define your table, load its data, and verify the loaded records."
   ]
  },
  {
   "cell_type": "code",
   "execution_count": 6,
   "metadata": {
    "collapsed": false
   },
   "outputs": [
    {
     "name": "stderr",
     "output_type": "stream",
     "text": [
      "/opt/conda/lib/python3.5/site-packages/IPython/config.py:13: ShimWarning: The `IPython.config` package has been deprecated. You should import from traitlets.config instead.\n",
      "  \"You should import from traitlets.config instead.\", ShimWarning)\n",
      "/opt/conda/lib/python3.5/site-packages/IPython/utils/traitlets.py:5: UserWarning: IPython.utils.traitlets has moved to a top-level traitlets package.\n",
      "  warn(\"IPython.utils.traitlets has moved to a top-level traitlets package.\")\n"
     ]
    }
   ],
   "source": [
    "%load_ext sql"
   ]
  },
  {
   "cell_type": "code",
   "execution_count": 7,
   "metadata": {
    "collapsed": false
   },
   "outputs": [
    {
     "name": "stdout",
     "output_type": "stream",
     "text": [
      "[sudo] password for jovyan: Restarting PostgreSQL 9.5 database server: main.\n"
     ]
    }
   ],
   "source": [
    "!echo 'redspot' | sudo -S service postgresql restart"
   ]
  },
  {
   "cell_type": "code",
   "execution_count": 8,
   "metadata": {
    "collapsed": false
   },
   "outputs": [
    {
     "name": "stdout",
     "output_type": "stream",
     "text": [
      "createdb: database creation failed: ERROR:  database \"exercise4\" already exists\r\n"
     ]
    }
   ],
   "source": [
    "!createdb -U dbuser exercise4"
   ]
  },
  {
   "cell_type": "code",
   "execution_count": 9,
   "metadata": {
    "collapsed": false
   },
   "outputs": [
    {
     "data": {
      "text/plain": [
       "'Connected: dbuser@exercise4'"
      ]
     },
     "execution_count": 9,
     "metadata": {},
     "output_type": "execute_result"
    }
   ],
   "source": [
    "%sql postgresql://dbuser@localhost/exercise4"
   ]
  },
  {
   "cell_type": "code",
   "execution_count": 10,
   "metadata": {
    "collapsed": false
   },
   "outputs": [
    {
     "name": "stdout",
     "output_type": "stream",
     "text": [
      "Done.\n",
      "Done.\n"
     ]
    },
    {
     "data": {
      "text/plain": [
       "[]"
      ]
     },
     "execution_count": 10,
     "metadata": {},
     "output_type": "execute_result"
    }
   ],
   "source": [
    "%%sql\n",
    "DROP TABLE IF EXISTS E4;\n",
    "CREATE TABLE E4 (\n",
    "    facility_name VARCHAR(77),\n",
    "    facility_key INTEGER,\n",
    "    site_address VARCHAR(35),\n",
    "    city VARCHAR(12),\n",
    "    state VARCHAR(2),\n",
    "    zip VARCHAR(10),\n",
    "    owner_key INTEGER,\n",
    "    owner_name VARCHAR(82),\n",
    "    nature_of_business VARCHAR(25),\n",
    "    street_number VARCHAR(7),\n",
    "    street_name VARCHAR(24),\n",
    "    street_type VARCHAR(4),\n",
    "    post_directional VARCHAR(2),\n",
    "    phone VARCHAR(20),\n",
    "    program_category VARCHAR(4),\n",
    "    program_category_description VARCHAR(40),\n",
    "    inspection_date TIMESTAMP,\n",
    "    inspection_type VARCHAR(10),\n",
    "    inspection_desc VARCHAR(32),\n",
    "    serial_num VARCHAR(9),\n",
    "    action_code VARCHAR(2),\n",
    "    action_desc VARCHAR(34),\n",
    "    result_code VARCHAR(2),\n",
    "    result_desc VARCHAR(37),\n",
    "    violation_code VARCHAR(10),\n",
    "    violation_desc VARCHAR(50),\n",
    "    inspection_memo VARCHAR(64)\n",
    "    \n",
    ")"
   ]
  },
  {
   "cell_type": "code",
   "execution_count": 11,
   "metadata": {
    "collapsed": false
   },
   "outputs": [
    {
     "name": "stdout",
     "output_type": "stream",
     "text": [
      "/home/jovyan/work\r\n"
     ]
    }
   ],
   "source": [
    "!pwd"
   ]
  },
  {
   "cell_type": "code",
   "execution_count": 12,
   "metadata": {
    "collapsed": false
   },
   "outputs": [
    {
     "name": "stdout",
     "output_type": "stream",
     "text": [
      "17556 rows affected.\n"
     ]
    },
    {
     "data": {
      "text/plain": [
       "[]"
      ]
     },
     "execution_count": 12,
     "metadata": {},
     "output_type": "execute_result"
    }
   ],
   "source": [
    "%%sql\n",
    "COPY E4 FROM '/home/jovyan/work/e4.csv'\n",
    "CSV\n",
    "HEADER\n",
    "QUOTE '\"'\n",
    "DELIMITER ',';"
   ]
  },
  {
   "cell_type": "code",
   "execution_count": 13,
   "metadata": {
    "collapsed": false
   },
   "outputs": [
    {
     "name": "stdout",
     "output_type": "stream",
     "text": [
      "1 rows affected.\n"
     ]
    },
    {
     "data": {
      "text/html": [
       "<table>\n",
       "    <tr>\n",
       "        <th>count</th>\n",
       "    </tr>\n",
       "    <tr>\n",
       "        <td>17556</td>\n",
       "    </tr>\n",
       "</table>"
      ],
      "text/plain": [
       "[(17556,)]"
      ]
     },
     "execution_count": 13,
     "metadata": {},
     "output_type": "execute_result"
    }
   ],
   "source": [
    "%%sql\n",
    "SELECT COUNT(*) FROM E4;"
   ]
  },
  {
   "cell_type": "code",
   "execution_count": 14,
   "metadata": {
    "collapsed": false
   },
   "outputs": [
    {
     "name": "stdout",
     "output_type": "stream",
     "text": [
      "10 rows affected.\n"
     ]
    },
    {
     "data": {
      "text/html": [
       "<table>\n",
       "    <tr>\n",
       "        <th>facility_name</th>\n",
       "        <th>facility_key</th>\n",
       "        <th>site_address</th>\n",
       "        <th>city</th>\n",
       "        <th>state</th>\n",
       "        <th>zip</th>\n",
       "        <th>owner_key</th>\n",
       "        <th>owner_name</th>\n",
       "        <th>nature_of_business</th>\n",
       "        <th>street_number</th>\n",
       "        <th>street_name</th>\n",
       "        <th>street_type</th>\n",
       "        <th>post_directional</th>\n",
       "        <th>phone</th>\n",
       "        <th>program_category</th>\n",
       "        <th>program_category_description</th>\n",
       "        <th>inspection_date</th>\n",
       "        <th>inspection_type</th>\n",
       "        <th>inspection_desc</th>\n",
       "        <th>serial_num</th>\n",
       "        <th>action_code</th>\n",
       "        <th>action_desc</th>\n",
       "        <th>result_code</th>\n",
       "        <th>result_desc</th>\n",
       "        <th>violation_code</th>\n",
       "        <th>violation_desc</th>\n",
       "        <th>inspection_memo</th>\n",
       "    </tr>\n",
       "    <tr>\n",
       "        <td>00BSAY IT WITH CAKE</td>\n",
       "        <td>50534</td>\n",
       "        <td>10200 GOLF COURSE RD NW STE B</td>\n",
       "        <td>ALBUQUERQUE</td>\n",
       "        <td>NM</td>\n",
       "        <td>87114</td>\n",
       "        <td>47341</td>\n",
       "        <td>OOBSAY IT WITH CAKE</td>\n",
       "        <td>CAKE DECORATING</td>\n",
       "        <td>10200</td>\n",
       "        <td>GOLF COURSE</td>\n",
       "        <td>RD</td>\n",
       "        <td>NW</td>\n",
       "        <td>5058339563</td>\n",
       "        <td>0405</td>\n",
       "        <td>Food Processor</td>\n",
       "        <td>2009-10-21 00:00:00</td>\n",
       "        <td>None</td>\n",
       "        <td>EMERGENCY RESPONSE</td>\n",
       "        <td>DA8009125</td>\n",
       "        <td>00</td>\n",
       "        <td>NON-GRADED</td>\n",
       "        <td>00</td>\n",
       "        <td>NOT APPLICABLE</td>\n",
       "        <td>&nbsp;&nbsp;&nbsp;&nbsp;68    </td>\n",
       "        <td>Delivered Informational Brochure</td>\n",
       "        <td>None</td>\n",
       "    </tr>\n",
       "    <tr>\n",
       "        <td>00BSAY IT WITH CAKE</td>\n",
       "        <td>50534</td>\n",
       "        <td>10200 GOLF COURSE RD NW STE B</td>\n",
       "        <td>ALBUQUERQUE</td>\n",
       "        <td>NM</td>\n",
       "        <td>87114</td>\n",
       "        <td>47341</td>\n",
       "        <td>OOBSAY IT WITH CAKE</td>\n",
       "        <td>CAKE DECORATING</td>\n",
       "        <td>10200</td>\n",
       "        <td>GOLF COURSE</td>\n",
       "        <td>RD</td>\n",
       "        <td>NW</td>\n",
       "        <td>5058339563</td>\n",
       "        <td>0405</td>\n",
       "        <td>Food Processor</td>\n",
       "        <td>2009-10-21 00:00:00</td>\n",
       "        <td>None</td>\n",
       "        <td>ROUTINE FOOD INSPECTION</td>\n",
       "        <td>DA8009123</td>\n",
       "        <td>11</td>\n",
       "        <td>APPROVED</td>\n",
       "        <td>03</td>\n",
       "        <td>IN COMPLIANCE</td>\n",
       "        <td>&nbsp;&nbsp;&nbsp;&nbsp;00    </td>\n",
       "        <td>No Violations Found</td>\n",
       "        <td>None</td>\n",
       "    </tr>\n",
       "    <tr>\n",
       "        <td>00BSAY IT WITH CAKE</td>\n",
       "        <td>50534</td>\n",
       "        <td>10200 GOLF COURSE RD NW STE B</td>\n",
       "        <td>ALBUQUERQUE</td>\n",
       "        <td>NM</td>\n",
       "        <td>87114</td>\n",
       "        <td>47341</td>\n",
       "        <td>OOBSAY IT WITH CAKE</td>\n",
       "        <td>CAKE DECORATING</td>\n",
       "        <td>10200</td>\n",
       "        <td>GOLF COURSE</td>\n",
       "        <td>RD</td>\n",
       "        <td>NW</td>\n",
       "        <td>5058339563</td>\n",
       "        <td>0405</td>\n",
       "        <td>Food Processor</td>\n",
       "        <td>2009-10-21 00:00:00</td>\n",
       "        <td>None</td>\n",
       "        <td>ROUTINE FOOD INSPECTION</td>\n",
       "        <td>DA8009123</td>\n",
       "        <td>11</td>\n",
       "        <td>APPROVED</td>\n",
       "        <td>03</td>\n",
       "        <td>IN COMPLIANCE</td>\n",
       "        <td>&nbsp;&nbsp;&nbsp;&nbsp;55    </td>\n",
       "        <td>Additional Comments</td>\n",
       "        <td>None</td>\n",
       "    </tr>\n",
       "    <tr>\n",
       "        <td>00BSAY IT WITH CAKE</td>\n",
       "        <td>50534</td>\n",
       "        <td>10200 GOLF COURSE RD NW STE B</td>\n",
       "        <td>ALBUQUERQUE</td>\n",
       "        <td>NM</td>\n",
       "        <td>87114</td>\n",
       "        <td>47341</td>\n",
       "        <td>OOBSAY IT WITH CAKE</td>\n",
       "        <td>CAKE DECORATING</td>\n",
       "        <td>10200</td>\n",
       "        <td>GOLF COURSE</td>\n",
       "        <td>RD</td>\n",
       "        <td>NW</td>\n",
       "        <td>5058339563</td>\n",
       "        <td>0405</td>\n",
       "        <td>Food Processor</td>\n",
       "        <td>2010-04-14 00:00:00</td>\n",
       "        <td>None</td>\n",
       "        <td>ROUTINE FOOD INSPECTION</td>\n",
       "        <td>DA8010205</td>\n",
       "        <td>11</td>\n",
       "        <td>APPROVED</td>\n",
       "        <td>03</td>\n",
       "        <td>IN COMPLIANCE</td>\n",
       "        <td>&nbsp;&nbsp;&nbsp;&nbsp;00    </td>\n",
       "        <td>No Violations Found</td>\n",
       "        <td>None</td>\n",
       "    </tr>\n",
       "    <tr>\n",
       "        <td>00BSAY IT WITH CAKE</td>\n",
       "        <td>50534</td>\n",
       "        <td>10200 GOLF COURSE RD NW STE B</td>\n",
       "        <td>ALBUQUERQUE</td>\n",
       "        <td>NM</td>\n",
       "        <td>87114</td>\n",
       "        <td>47341</td>\n",
       "        <td>OOBSAY IT WITH CAKE</td>\n",
       "        <td>CAKE DECORATING</td>\n",
       "        <td>10200</td>\n",
       "        <td>GOLF COURSE</td>\n",
       "        <td>RD</td>\n",
       "        <td>NW</td>\n",
       "        <td>5058339563</td>\n",
       "        <td>0405</td>\n",
       "        <td>Food Processor</td>\n",
       "        <td>2010-04-14 00:00:00</td>\n",
       "        <td>None</td>\n",
       "        <td>ROUTINE FOOD INSPECTION</td>\n",
       "        <td>DA8010205</td>\n",
       "        <td>11</td>\n",
       "        <td>APPROVED</td>\n",
       "        <td>03</td>\n",
       "        <td>IN COMPLIANCE</td>\n",
       "        <td>&nbsp;&nbsp;&nbsp;&nbsp;55    </td>\n",
       "        <td>Additional Comments</td>\n",
       "        <td>None</td>\n",
       "    </tr>\n",
       "    <tr>\n",
       "        <td>2000 VIETNAM RESTAURANT</td>\n",
       "        <td>31468</td>\n",
       "        <td>601 SAN MATEO BLVD SE </td>\n",
       "        <td>ALBUQUERQUE</td>\n",
       "        <td>NM</td>\n",
       "        <td>87108</td>\n",
       "        <td>29294</td>\n",
       "        <td>2000 VIETMAN RESTAURANT</td>\n",
       "        <td>RESTAURANT</td>\n",
       "        <td>601</td>\n",
       "        <td>SAN MATEO</td>\n",
       "        <td>BLVD</td>\n",
       "        <td>SE</td>\n",
       "        <td>5052320900</td>\n",
       "        <td>0406</td>\n",
       "        <td>Food Service Establishment</td>\n",
       "        <td>2010-03-23 00:00:00</td>\n",
       "        <td>None</td>\n",
       "        <td>ROUTINE FOOD INSPECTION</td>\n",
       "        <td>DA8509472</td>\n",
       "        <td>11</td>\n",
       "        <td>APPROVED</td>\n",
       "        <td>03</td>\n",
       "        <td>IN COMPLIANCE</td>\n",
       "        <td>&nbsp;&nbsp;&nbsp;&nbsp;34    </td>\n",
       "        <td>Food contact surfaces</td>\n",
       "        <td>None</td>\n",
       "    </tr>\n",
       "    <tr>\n",
       "        <td>2000 VIETNAM RESTAURANT</td>\n",
       "        <td>31468</td>\n",
       "        <td>601 SAN MATEO BLVD SE </td>\n",
       "        <td>ALBUQUERQUE</td>\n",
       "        <td>NM</td>\n",
       "        <td>87108</td>\n",
       "        <td>29294</td>\n",
       "        <td>2000 VIETMAN RESTAURANT</td>\n",
       "        <td>RESTAURANT</td>\n",
       "        <td>601</td>\n",
       "        <td>SAN MATEO</td>\n",
       "        <td>BLVD</td>\n",
       "        <td>SE</td>\n",
       "        <td>5052320900</td>\n",
       "        <td>0406</td>\n",
       "        <td>Food Service Establishment</td>\n",
       "        <td>2010-03-23 00:00:00</td>\n",
       "        <td>None</td>\n",
       "        <td>ROUTINE FOOD INSPECTION</td>\n",
       "        <td>DA8509472</td>\n",
       "        <td>11</td>\n",
       "        <td>APPROVED</td>\n",
       "        <td>03</td>\n",
       "        <td>IN COMPLIANCE</td>\n",
       "        <td>&nbsp;&nbsp;&nbsp;&nbsp;35    </td>\n",
       "        <td>Non-Food contact surfaces</td>\n",
       "        <td>None</td>\n",
       "    </tr>\n",
       "    <tr>\n",
       "        <td>2000 VIETNAM RESTAURANT</td>\n",
       "        <td>31468</td>\n",
       "        <td>601 SAN MATEO BLVD SE </td>\n",
       "        <td>ALBUQUERQUE</td>\n",
       "        <td>NM</td>\n",
       "        <td>87108</td>\n",
       "        <td>29294</td>\n",
       "        <td>2000 VIETMAN RESTAURANT</td>\n",
       "        <td>RESTAURANT</td>\n",
       "        <td>601</td>\n",
       "        <td>SAN MATEO</td>\n",
       "        <td>BLVD</td>\n",
       "        <td>SE</td>\n",
       "        <td>5052320900</td>\n",
       "        <td>0406</td>\n",
       "        <td>Food Service Establishment</td>\n",
       "        <td>2010-03-23 00:00:00</td>\n",
       "        <td>None</td>\n",
       "        <td>ROUTINE FOOD INSPECTION</td>\n",
       "        <td>DA8509472</td>\n",
       "        <td>11</td>\n",
       "        <td>APPROVED</td>\n",
       "        <td>03</td>\n",
       "        <td>IN COMPLIANCE</td>\n",
       "        <td>&nbsp;&nbsp;&nbsp;&nbsp;55    </td>\n",
       "        <td>Additional Comments</td>\n",
       "        <td>None</td>\n",
       "    </tr>\n",
       "    <tr>\n",
       "        <td>328 CHINESE CUISINE</td>\n",
       "        <td>72789</td>\n",
       "        <td>5617 MENAUL BLVD NE STE A</td>\n",
       "        <td>ALBUQUERQUE</td>\n",
       "        <td>NM</td>\n",
       "        <td>87110</td>\n",
       "        <td>66644</td>\n",
       "        <td>328 CHINESE CUISINE</td>\n",
       "        <td>None</td>\n",
       "        <td>5617</td>\n",
       "        <td>MENAUL</td>\n",
       "        <td>BLVD</td>\n",
       "        <td>NE</td>\n",
       "        <td>5058814468</td>\n",
       "        <td>0406</td>\n",
       "        <td>Food Service Establishment</td>\n",
       "        <td>2009-12-15 00:00:00</td>\n",
       "        <td>None</td>\n",
       "        <td>EMERGENCY RESPONSE</td>\n",
       "        <td>DA7757250</td>\n",
       "        <td>00</td>\n",
       "        <td>NON-GRADED</td>\n",
       "        <td>00</td>\n",
       "        <td>NOT APPLICABLE</td>\n",
       "        <td>&nbsp;&nbsp;&nbsp;&nbsp;68    </td>\n",
       "        <td>Delivered Informational Brochure</td>\n",
       "        <td>None</td>\n",
       "    </tr>\n",
       "    <tr>\n",
       "        <td>328 CHINESE CUISINE</td>\n",
       "        <td>72789</td>\n",
       "        <td>5617 MENAUL BLVD NE STE A</td>\n",
       "        <td>ALBUQUERQUE</td>\n",
       "        <td>NM</td>\n",
       "        <td>87110</td>\n",
       "        <td>66644</td>\n",
       "        <td>328 CHINESE CUISINE</td>\n",
       "        <td>None</td>\n",
       "        <td>5617</td>\n",
       "        <td>MENAUL</td>\n",
       "        <td>BLVD</td>\n",
       "        <td>NE</td>\n",
       "        <td>5058814468</td>\n",
       "        <td>0406</td>\n",
       "        <td>Food Service Establishment</td>\n",
       "        <td>2009-12-15 00:00:00</td>\n",
       "        <td>None</td>\n",
       "        <td>ROUTINE FOOD INSPECTION</td>\n",
       "        <td>DA7757248</td>\n",
       "        <td>11</td>\n",
       "        <td>APPROVED</td>\n",
       "        <td>03</td>\n",
       "        <td>IN COMPLIANCE</td>\n",
       "        <td>&nbsp;&nbsp;&nbsp;&nbsp;00    </td>\n",
       "        <td>No Violations Found</td>\n",
       "        <td>None</td>\n",
       "    </tr>\n",
       "</table>"
      ],
      "text/plain": [
       "[('00BSAY IT WITH CAKE', 50534, '10200 GOLF COURSE RD NW STE B', 'ALBUQUERQUE', 'NM', '87114', 47341, 'OOBSAY IT WITH CAKE', 'CAKE DECORATING', '10200', 'GOLF COURSE', 'RD', 'NW', '5058339563', '0405', 'Food Processor', datetime.datetime(2009, 10, 21, 0, 0), None, 'EMERGENCY RESPONSE', 'DA8009125', '00', 'NON-GRADED', '00', 'NOT APPLICABLE', '    68    ', 'Delivered Informational Brochure', None),\n",
       " ('00BSAY IT WITH CAKE', 50534, '10200 GOLF COURSE RD NW STE B', 'ALBUQUERQUE', 'NM', '87114', 47341, 'OOBSAY IT WITH CAKE', 'CAKE DECORATING', '10200', 'GOLF COURSE', 'RD', 'NW', '5058339563', '0405', 'Food Processor', datetime.datetime(2009, 10, 21, 0, 0), None, 'ROUTINE FOOD INSPECTION', 'DA8009123', '11', 'APPROVED', '03', 'IN COMPLIANCE', '    00    ', 'No Violations Found', None),\n",
       " ('00BSAY IT WITH CAKE', 50534, '10200 GOLF COURSE RD NW STE B', 'ALBUQUERQUE', 'NM', '87114', 47341, 'OOBSAY IT WITH CAKE', 'CAKE DECORATING', '10200', 'GOLF COURSE', 'RD', 'NW', '5058339563', '0405', 'Food Processor', datetime.datetime(2009, 10, 21, 0, 0), None, 'ROUTINE FOOD INSPECTION', 'DA8009123', '11', 'APPROVED', '03', 'IN COMPLIANCE', '    55    ', 'Additional Comments', None),\n",
       " ('00BSAY IT WITH CAKE', 50534, '10200 GOLF COURSE RD NW STE B', 'ALBUQUERQUE', 'NM', '87114', 47341, 'OOBSAY IT WITH CAKE', 'CAKE DECORATING', '10200', 'GOLF COURSE', 'RD', 'NW', '5058339563', '0405', 'Food Processor', datetime.datetime(2010, 4, 14, 0, 0), None, 'ROUTINE FOOD INSPECTION', 'DA8010205', '11', 'APPROVED', '03', 'IN COMPLIANCE', '    00    ', 'No Violations Found', None),\n",
       " ('00BSAY IT WITH CAKE', 50534, '10200 GOLF COURSE RD NW STE B', 'ALBUQUERQUE', 'NM', '87114', 47341, 'OOBSAY IT WITH CAKE', 'CAKE DECORATING', '10200', 'GOLF COURSE', 'RD', 'NW', '5058339563', '0405', 'Food Processor', datetime.datetime(2010, 4, 14, 0, 0), None, 'ROUTINE FOOD INSPECTION', 'DA8010205', '11', 'APPROVED', '03', 'IN COMPLIANCE', '    55    ', 'Additional Comments', None),\n",
       " ('2000 VIETNAM RESTAURANT', 31468, '601 SAN MATEO BLVD SE ', 'ALBUQUERQUE', 'NM', '87108', 29294, '2000 VIETMAN RESTAURANT', 'RESTAURANT', '601', 'SAN MATEO', 'BLVD', 'SE', '5052320900', '0406', 'Food Service Establishment', datetime.datetime(2010, 3, 23, 0, 0), None, 'ROUTINE FOOD INSPECTION', 'DA8509472', '11', 'APPROVED', '03', 'IN COMPLIANCE', '    34    ', 'Food contact surfaces', None),\n",
       " ('2000 VIETNAM RESTAURANT', 31468, '601 SAN MATEO BLVD SE ', 'ALBUQUERQUE', 'NM', '87108', 29294, '2000 VIETMAN RESTAURANT', 'RESTAURANT', '601', 'SAN MATEO', 'BLVD', 'SE', '5052320900', '0406', 'Food Service Establishment', datetime.datetime(2010, 3, 23, 0, 0), None, 'ROUTINE FOOD INSPECTION', 'DA8509472', '11', 'APPROVED', '03', 'IN COMPLIANCE', '    35    ', 'Non-Food contact surfaces', None),\n",
       " ('2000 VIETNAM RESTAURANT', 31468, '601 SAN MATEO BLVD SE ', 'ALBUQUERQUE', 'NM', '87108', 29294, '2000 VIETMAN RESTAURANT', 'RESTAURANT', '601', 'SAN MATEO', 'BLVD', 'SE', '5052320900', '0406', 'Food Service Establishment', datetime.datetime(2010, 3, 23, 0, 0), None, 'ROUTINE FOOD INSPECTION', 'DA8509472', '11', 'APPROVED', '03', 'IN COMPLIANCE', '    55    ', 'Additional Comments', None),\n",
       " ('328 CHINESE CUISINE', 72789, '5617 MENAUL BLVD NE STE A', 'ALBUQUERQUE', 'NM', '87110', 66644, '328 CHINESE CUISINE', None, '5617', 'MENAUL', 'BLVD', 'NE', '5058814468', '0406', 'Food Service Establishment', datetime.datetime(2009, 12, 15, 0, 0), None, 'EMERGENCY RESPONSE', 'DA7757250', '00', 'NON-GRADED', '00', 'NOT APPLICABLE', '    68    ', 'Delivered Informational Brochure', None),\n",
       " ('328 CHINESE CUISINE', 72789, '5617 MENAUL BLVD NE STE A', 'ALBUQUERQUE', 'NM', '87110', 66644, '328 CHINESE CUISINE', None, '5617', 'MENAUL', 'BLVD', 'NE', '5058814468', '0406', 'Food Service Establishment', datetime.datetime(2009, 12, 15, 0, 0), None, 'ROUTINE FOOD INSPECTION', 'DA7757248', '11', 'APPROVED', '03', 'IN COMPLIANCE', '    00    ', 'No Violations Found', None)]"
      ]
     },
     "execution_count": 14,
     "metadata": {},
     "output_type": "execute_result"
    }
   ],
   "source": [
    "%%sql\n",
    "SELECT * FROM E4\n",
    "LIMIT 10;"
   ]
  },
  {
   "cell_type": "markdown",
   "metadata": {},
   "source": [
    "## Problem 3 - explore your data (30 points)\n",
    "\n",
    "Now that the data is loaded, ask some questions of it!  Identify key variables of interest and note their ranges along with other useful descriptive statistics.  Choose and define a few lines of inquiry, execute queries for each, and describe what you find in your result sets.  Use any query techniques we've seen in class, including aggregate functions, transformations, subqueries, or others as appropriate. \n",
    "\n",
    "If you find interesting patterns, adding plots to your exploration would be useful.\n",
    "\n",
    "Insert a combination of code and text/markdown cells here to explore your data."
   ]
  },
  {
   "cell_type": "markdown",
   "metadata": {},
   "source": [
    "### Aggregate Part"
   ]
  },
  {
   "cell_type": "markdown",
   "metadata": {},
   "source": [
    "Question: What are Top10 OWNER_NAMEs who have most restaurants?"
   ]
  },
  {
   "cell_type": "code",
   "execution_count": 15,
   "metadata": {
    "collapsed": false
   },
   "outputs": [
    {
     "name": "stdout",
     "output_type": "stream",
     "text": [
      "10 rows affected.\n"
     ]
    },
    {
     "data": {
      "text/html": [
       "<table>\n",
       "    <tr>\n",
       "        <th>owner_name</th>\n",
       "        <th>count</th>\n",
       "    </tr>\n",
       "    <tr>\n",
       "        <td>APS</td>\n",
       "        <td>792</td>\n",
       "    </tr>\n",
       "    <tr>\n",
       "        <td>SMITHS FOOD AND DRUG CENTERS INC</td>\n",
       "        <td>321</td>\n",
       "    </tr>\n",
       "    <tr>\n",
       "        <td>CIRCLE K STORES INC</td>\n",
       "        <td>277</td>\n",
       "    </tr>\n",
       "    <tr>\n",
       "        <td>ALBERTSONS</td>\n",
       "        <td>228</td>\n",
       "    </tr>\n",
       "    <tr>\n",
       "        <td>WAL MART STORES EAST  LP</td>\n",
       "        <td>156</td>\n",
       "    </tr>\n",
       "    <tr>\n",
       "        <td>BLAKES LOTABURGER LLC</td>\n",
       "        <td>150</td>\n",
       "    </tr>\n",
       "    <tr>\n",
       "        <td>PALO ALTO INC</td>\n",
       "        <td>146</td>\n",
       "    </tr>\n",
       "    <tr>\n",
       "        <td>SCS BEVERAGE INC</td>\n",
       "        <td>138</td>\n",
       "    </tr>\n",
       "    <tr>\n",
       "        <td>WALGREENS CO</td>\n",
       "        <td>137</td>\n",
       "    </tr>\n",
       "    <tr>\n",
       "        <td>STARBUCKS CORP</td>\n",
       "        <td>123</td>\n",
       "    </tr>\n",
       "</table>"
      ],
      "text/plain": [
       "[('APS', 792),\n",
       " ('SMITHS FOOD AND DRUG CENTERS INC', 321),\n",
       " ('CIRCLE K STORES INC', 277),\n",
       " ('ALBERTSONS', 228),\n",
       " ('WAL MART STORES EAST  LP', 156),\n",
       " ('BLAKES LOTABURGER LLC', 150),\n",
       " ('PALO ALTO INC', 146),\n",
       " ('SCS BEVERAGE INC', 138),\n",
       " ('WALGREENS CO', 137),\n",
       " ('STARBUCKS CORP', 123)]"
      ]
     },
     "execution_count": 15,
     "metadata": {},
     "output_type": "execute_result"
    }
   ],
   "source": [
    "%%sql\n",
    "SELECT owner_name, COUNT(*)as count\n",
    "FROM E4\n",
    "GROUP BY owner_name\n",
    "ORDER BY count DESC limit(10)"
   ]
  },
  {
   "cell_type": "code",
   "execution_count": 16,
   "metadata": {
    "collapsed": false
   },
   "outputs": [
    {
     "data": {
      "text/plain": [
       "<Container object of 10 artists>"
      ]
     },
     "execution_count": 16,
     "metadata": {},
     "output_type": "execute_result"
    },
    {
     "data": {
      "image/png": "[encoded data removed]",
      "text/plain": [
       "<matplotlib.figure.Figure at 0x7f4e22c62e80>"
      ]
     },
     "metadata": {},
     "output_type": "display_data"
    }
   ],
   "source": [
    "%matplotlib inline\n",
    "result=_\n",
    "result.bar()"
   ]
  },
  {
   "cell_type": "markdown",
   "metadata": {},
   "source": [
    "### Transformation"
   ]
  },
  {
   "cell_type": "markdown",
   "metadata": {},
   "source": [
    "Create a new Table called inspection_information recording inspection_date, inspection_year, inspection_month and so on."
   ]
  },
  {
   "cell_type": "code",
   "execution_count": 17,
   "metadata": {
    "collapsed": false
   },
   "outputs": [
    {
     "name": "stdout",
     "output_type": "stream",
     "text": [
      "Done.\n",
      "Done.\n"
     ]
    },
    {
     "data": {
      "text/plain": [
       "[]"
      ]
     },
     "execution_count": 17,
     "metadata": {},
     "output_type": "execute_result"
    }
   ],
   "source": [
    "%%sql\n",
    "DROP TABLE IF EXISTS inspection_information;\n",
    "CREATE TABLE inspection_information (\n",
    "    id SERIAL,\n",
    "    inspection_date CHAR(10),\n",
    "    inspection_year INTEGER,\n",
    "    inspection_month INTEGER,\n",
    "    inspection_day INTEGER,\n",
    "    day_of_week_str CHAR(9),\n",
    "    day_of_week INTEGER,\n",
    "    is_weekend BOOLEAN,\n",
    "    is_weekday BOOLEAN,\n",
    "    hour_24 INTEGER,\n",
    "    quarter INTEGER\n",
    ");"
   ]
  },
  {
   "cell_type": "code",
   "execution_count": 18,
   "metadata": {
    "collapsed": false
   },
   "outputs": [
    {
     "name": "stdout",
     "output_type": "stream",
     "text": [
      "17556 rows affected.\n"
     ]
    },
    {
     "data": {
      "text/plain": [
       "[]"
      ]
     },
     "execution_count": 18,
     "metadata": {},
     "output_type": "execute_result"
    }
   ],
   "source": [
    "%%sql\n",
    "INSERT INTO inspection_information (inspection_date, inspection_year, inspection_month, inspection_day, day_of_week_str, day_of_week,\n",
    "                  is_weekend, is_weekday, hour_24, quarter)\n",
    "SELECT TO_CHAR(inspection_date, 'YYYY-MM-DD') AS inspection_date, \n",
    "    CAST(TO_CHAR(inspection_date, 'YYYY') AS INTEGER) AS inspection_year,\n",
    "    CAST(TO_CHAR(inspection_date, 'MM') AS INTEGER) AS inspection_month,\n",
    "    CAST(TO_CHAR(inspection_date, 'DD') AS INTEGER) AS inspection_date,\n",
    "    TO_CHAR(inspection_date, 'Day') AS day_of_week_str,\n",
    "    CAST(TO_CHAR(inspection_date, 'D') AS INTEGER) AS day_of_week,\n",
    "    CASE WHEN CAST(TO_CHAR(inspection_date, 'D') AS INTEGER) IN (1, 7) \n",
    "        THEN TRUE\n",
    "        ELSE FALSE\n",
    "    END AS is_weekend,\n",
    "    CASE WHEN CAST(TO_CHAR(inspection_date, 'D') AS INTEGER) NOT IN (1, 7) \n",
    "        THEN TRUE\n",
    "        ELSE FALSE\n",
    "    END AS is_weekday,\n",
    "    CAST(TO_CHAR(inspection_date, 'HH24') AS INTEGER) AS hour_24,\n",
    "    CAST(TO_CHAR(inspection_date, 'Q') AS INTEGER) AS quarter\n",
    "FROM E4;"
   ]
  },
  {
   "cell_type": "code",
   "execution_count": 19,
   "metadata": {
    "collapsed": false
   },
   "outputs": [
    {
     "name": "stdout",
     "output_type": "stream",
     "text": [
      "10 rows affected.\n"
     ]
    },
    {
     "data": {
      "text/html": [
       "<table>\n",
       "    <tr>\n",
       "        <th>id</th>\n",
       "        <th>inspection_date</th>\n",
       "        <th>inspection_year</th>\n",
       "        <th>inspection_month</th>\n",
       "        <th>inspection_day</th>\n",
       "        <th>day_of_week_str</th>\n",
       "        <th>day_of_week</th>\n",
       "        <th>is_weekend</th>\n",
       "        <th>is_weekday</th>\n",
       "        <th>hour_24</th>\n",
       "        <th>quarter</th>\n",
       "    </tr>\n",
       "    <tr>\n",
       "        <td>1</td>\n",
       "        <td>2009-10-21</td>\n",
       "        <td>2009</td>\n",
       "        <td>10</td>\n",
       "        <td>21</td>\n",
       "        <td>Wednesday</td>\n",
       "        <td>4</td>\n",
       "        <td>False</td>\n",
       "        <td>True</td>\n",
       "        <td>0</td>\n",
       "        <td>4</td>\n",
       "    </tr>\n",
       "    <tr>\n",
       "        <td>2</td>\n",
       "        <td>2009-10-21</td>\n",
       "        <td>2009</td>\n",
       "        <td>10</td>\n",
       "        <td>21</td>\n",
       "        <td>Wednesday</td>\n",
       "        <td>4</td>\n",
       "        <td>False</td>\n",
       "        <td>True</td>\n",
       "        <td>0</td>\n",
       "        <td>4</td>\n",
       "    </tr>\n",
       "    <tr>\n",
       "        <td>3</td>\n",
       "        <td>2009-10-21</td>\n",
       "        <td>2009</td>\n",
       "        <td>10</td>\n",
       "        <td>21</td>\n",
       "        <td>Wednesday</td>\n",
       "        <td>4</td>\n",
       "        <td>False</td>\n",
       "        <td>True</td>\n",
       "        <td>0</td>\n",
       "        <td>4</td>\n",
       "    </tr>\n",
       "    <tr>\n",
       "        <td>4</td>\n",
       "        <td>2010-04-14</td>\n",
       "        <td>2010</td>\n",
       "        <td>4</td>\n",
       "        <td>14</td>\n",
       "        <td>Wednesday</td>\n",
       "        <td>4</td>\n",
       "        <td>False</td>\n",
       "        <td>True</td>\n",
       "        <td>0</td>\n",
       "        <td>2</td>\n",
       "    </tr>\n",
       "    <tr>\n",
       "        <td>5</td>\n",
       "        <td>2010-04-14</td>\n",
       "        <td>2010</td>\n",
       "        <td>4</td>\n",
       "        <td>14</td>\n",
       "        <td>Wednesday</td>\n",
       "        <td>4</td>\n",
       "        <td>False</td>\n",
       "        <td>True</td>\n",
       "        <td>0</td>\n",
       "        <td>2</td>\n",
       "    </tr>\n",
       "    <tr>\n",
       "        <td>6</td>\n",
       "        <td>2010-03-23</td>\n",
       "        <td>2010</td>\n",
       "        <td>3</td>\n",
       "        <td>23</td>\n",
       "        <td>Tuesday  </td>\n",
       "        <td>3</td>\n",
       "        <td>False</td>\n",
       "        <td>True</td>\n",
       "        <td>0</td>\n",
       "        <td>1</td>\n",
       "    </tr>\n",
       "    <tr>\n",
       "        <td>7</td>\n",
       "        <td>2010-03-23</td>\n",
       "        <td>2010</td>\n",
       "        <td>3</td>\n",
       "        <td>23</td>\n",
       "        <td>Tuesday  </td>\n",
       "        <td>3</td>\n",
       "        <td>False</td>\n",
       "        <td>True</td>\n",
       "        <td>0</td>\n",
       "        <td>1</td>\n",
       "    </tr>\n",
       "    <tr>\n",
       "        <td>8</td>\n",
       "        <td>2010-03-23</td>\n",
       "        <td>2010</td>\n",
       "        <td>3</td>\n",
       "        <td>23</td>\n",
       "        <td>Tuesday  </td>\n",
       "        <td>3</td>\n",
       "        <td>False</td>\n",
       "        <td>True</td>\n",
       "        <td>0</td>\n",
       "        <td>1</td>\n",
       "    </tr>\n",
       "    <tr>\n",
       "        <td>9</td>\n",
       "        <td>2009-12-15</td>\n",
       "        <td>2009</td>\n",
       "        <td>12</td>\n",
       "        <td>15</td>\n",
       "        <td>Tuesday  </td>\n",
       "        <td>3</td>\n",
       "        <td>False</td>\n",
       "        <td>True</td>\n",
       "        <td>0</td>\n",
       "        <td>4</td>\n",
       "    </tr>\n",
       "    <tr>\n",
       "        <td>10</td>\n",
       "        <td>2009-12-15</td>\n",
       "        <td>2009</td>\n",
       "        <td>12</td>\n",
       "        <td>15</td>\n",
       "        <td>Tuesday  </td>\n",
       "        <td>3</td>\n",
       "        <td>False</td>\n",
       "        <td>True</td>\n",
       "        <td>0</td>\n",
       "        <td>4</td>\n",
       "    </tr>\n",
       "</table>"
      ],
      "text/plain": [
       "[(1, '2009-10-21', 2009, 10, 21, 'Wednesday', 4, False, True, 0, 4),\n",
       " (2, '2009-10-21', 2009, 10, 21, 'Wednesday', 4, False, True, 0, 4),\n",
       " (3, '2009-10-21', 2009, 10, 21, 'Wednesday', 4, False, True, 0, 4),\n",
       " (4, '2010-04-14', 2010, 4, 14, 'Wednesday', 4, False, True, 0, 2),\n",
       " (5, '2010-04-14', 2010, 4, 14, 'Wednesday', 4, False, True, 0, 2),\n",
       " (6, '2010-03-23', 2010, 3, 23, 'Tuesday  ', 3, False, True, 0, 1),\n",
       " (7, '2010-03-23', 2010, 3, 23, 'Tuesday  ', 3, False, True, 0, 1),\n",
       " (8, '2010-03-23', 2010, 3, 23, 'Tuesday  ', 3, False, True, 0, 1),\n",
       " (9, '2009-12-15', 2009, 12, 15, 'Tuesday  ', 3, False, True, 0, 4),\n",
       " (10, '2009-12-15', 2009, 12, 15, 'Tuesday  ', 3, False, True, 0, 4)]"
      ]
     },
     "execution_count": 19,
     "metadata": {},
     "output_type": "execute_result"
    }
   ],
   "source": [
    "%%sql\n",
    "SELECT *\n",
    "FROM inspection_information\n",
    "LIMIT(10);"
   ]
  },
  {
   "cell_type": "markdown",
   "metadata": {},
   "source": [
    "### Subquery"
   ]
  },
  {
   "cell_type": "code",
   "execution_count": 20,
   "metadata": {
    "collapsed": false
   },
   "outputs": [
    {
     "name": "stdout",
     "output_type": "stream",
     "text": [
      "13 rows affected.\n"
     ]
    },
    {
     "data": {
      "text/html": [
       "<table>\n",
       "    <tr>\n",
       "        <th>owner_name</th>\n",
       "        <th>result_desc</th>\n",
       "        <th>count</th>\n",
       "    </tr>\n",
       "    <tr>\n",
       "        <td>APS</td>\n",
       "        <td>TRAINING RECEIVED</td>\n",
       "        <td>7</td>\n",
       "    </tr>\n",
       "    <tr>\n",
       "        <td>APS</td>\n",
       "        <td>NOT APPLICABLE</td>\n",
       "        <td>117</td>\n",
       "    </tr>\n",
       "    <tr>\n",
       "        <td>APS</td>\n",
       "        <td>OUT OF BUSINESS</td>\n",
       "        <td>3</td>\n",
       "    </tr>\n",
       "    <tr>\n",
       "        <td>APS</td>\n",
       "        <td>IN COMPLIANCE</td>\n",
       "        <td>665</td>\n",
       "    </tr>\n",
       "    <tr>\n",
       "        <td>CIRCLE K STORES INC</td>\n",
       "        <td>NOT APPLICABLE</td>\n",
       "        <td>27</td>\n",
       "    </tr>\n",
       "    <tr>\n",
       "        <td>CIRCLE K STORES INC</td>\n",
       "        <td>IN COMPLIANCE</td>\n",
       "        <td>241</td>\n",
       "    </tr>\n",
       "    <tr>\n",
       "        <td>CIRCLE K STORES INC</td>\n",
       "        <td>OUT OF BUSINESS</td>\n",
       "        <td>9</td>\n",
       "    </tr>\n",
       "    <tr>\n",
       "        <td>SMITHS FOOD AND DRUG CENTERS INC</td>\n",
       "        <td>IN COMPLIANCE</td>\n",
       "        <td>272</td>\n",
       "    </tr>\n",
       "    <tr>\n",
       "        <td>SMITHS FOOD AND DRUG CENTERS INC</td>\n",
       "        <td>TRAINING RECEIVED</td>\n",
       "        <td>2</td>\n",
       "    </tr>\n",
       "    <tr>\n",
       "        <td>SMITHS FOOD AND DRUG CENTERS INC</td>\n",
       "        <td>EMBARGO</td>\n",
       "        <td>1</td>\n",
       "    </tr>\n",
       "    <tr>\n",
       "        <td>SMITHS FOOD AND DRUG CENTERS INC</td>\n",
       "        <td>NOT APPLICABLE</td>\n",
       "        <td>35</td>\n",
       "    </tr>\n",
       "    <tr>\n",
       "        <td>SMITHS FOOD AND DRUG CENTERS INC</td>\n",
       "        <td>PHONE CALL</td>\n",
       "        <td>5</td>\n",
       "    </tr>\n",
       "    <tr>\n",
       "        <td>SMITHS FOOD AND DRUG CENTERS INC</td>\n",
       "        <td>RECALL VERIFICATION</td>\n",
       "        <td>6</td>\n",
       "    </tr>\n",
       "</table>"
      ],
      "text/plain": [
       "[('APS', 'TRAINING RECEIVED', 7),\n",
       " ('APS', 'NOT APPLICABLE', 117),\n",
       " ('APS', 'OUT OF BUSINESS', 3),\n",
       " ('APS', 'IN COMPLIANCE', 665),\n",
       " ('CIRCLE K STORES INC', 'NOT APPLICABLE', 27),\n",
       " ('CIRCLE K STORES INC', 'IN COMPLIANCE', 241),\n",
       " ('CIRCLE K STORES INC', 'OUT OF BUSINESS', 9),\n",
       " ('SMITHS FOOD AND DRUG CENTERS INC', 'IN COMPLIANCE', 272),\n",
       " ('SMITHS FOOD AND DRUG CENTERS INC', 'TRAINING RECEIVED', 2),\n",
       " ('SMITHS FOOD AND DRUG CENTERS INC', 'EMBARGO', 1),\n",
       " ('SMITHS FOOD AND DRUG CENTERS INC', 'NOT APPLICABLE', 35),\n",
       " ('SMITHS FOOD AND DRUG CENTERS INC', 'PHONE CALL', 5),\n",
       " ('SMITHS FOOD AND DRUG CENTERS INC', 'RECALL VERIFICATION', 6)]"
      ]
     },
     "execution_count": 20,
     "metadata": {},
     "output_type": "execute_result"
    }
   ],
   "source": [
    "%%sql\n",
    "SELECT owner_name, result_desc, COUNT(*) as count\n",
    "FROM E4\n",
    "WHERE owner_name in(SELECT owner_name\n",
    "                   FROM E4\n",
    "                   GROUP BY owner_name\n",
    "                  ORDER BY COUNT(*) DESC\n",
    "                   LIMIT(3))\n",
    "GROUP BY result_desc, owner_name\n",
    "ORDER BY owner_name\n"
   ]
  },
  {
   "cell_type": "code",
   "execution_count": 21,
   "metadata": {
    "collapsed": false
   },
   "outputs": [
    {
     "data": {
      "text/plain": [
       "<Container object of 13 artists>"
      ]
     },
     "execution_count": 21,
     "metadata": {},
     "output_type": "execute_result"
    },
    {
     "data": {
      "image/png": "[encoded data removed]",
      "text/plain": [
       "<matplotlib.figure.Figure at 0x7f4e2085eda0>"
      ]
     },
     "metadata": {},
     "output_type": "display_data"
    }
   ],
   "source": [
    "%matplotlib inline\n",
    "result=_\n",
    "result.bar()"
   ]
  },
  {
   "cell_type": "markdown",
   "metadata": {},
   "source": [
    "## Bonus (10 points)\n",
    "\n",
    "We have seen a few simple techniques for normalizing data in class.  Choose a column or set of columns that might be redundant and normalize them out to another table:\n",
    "\n",
    "* Identify the columns to normalize in the source data table\n",
    "* Create one or more new tables to hold the normalized records\n",
    "* Extract data into the new tables\n",
    "* Re-insert the new foreign key references from the new table into the source table"
   ]
  },
  {
   "cell_type": "code",
   "execution_count": 22,
   "metadata": {
    "collapsed": false
   },
   "outputs": [
    {
     "name": "stdout",
     "output_type": "stream",
     "text": [
      "2 rows affected.\n"
     ]
    },
    {
     "data": {
      "text/html": [
       "<table>\n",
       "    <tr>\n",
       "        <th>count</th>\n",
       "        <th>attribute_name</th>\n",
       "    </tr>\n",
       "    <tr>\n",
       "        <td>25</td>\n",
       "        <td>program_category</td>\n",
       "    </tr>\n",
       "    <tr>\n",
       "        <td>25</td>\n",
       "        <td>program_category_description</td>\n",
       "    </tr>\n",
       "</table>"
      ],
      "text/plain": [
       "[(25, 'program_category'), (25, 'program_category_description')]"
      ]
     },
     "execution_count": 22,
     "metadata": {},
     "output_type": "execute_result"
    }
   ],
   "source": [
    "%%sql\n",
    "SELECT COUNT(*),'program_category' as attribute_name\n",
    "FROM (SELECT DISTINCT program_category\n",
    "     FROM E4)table1\n",
    "UNION\n",
    "SELECT COUNT(*),'program_category_description' as attribute_name\n",
    "FROM (SELECT DISTINCT program_category_description\n",
    "     FROM E4)table2"
   ]
  },
  {
   "cell_type": "code",
   "execution_count": 23,
   "metadata": {
    "collapsed": false
   },
   "outputs": [
    {
     "name": "stdout",
     "output_type": "stream",
     "text": [
      "25 rows affected.\n"
     ]
    },
    {
     "data": {
      "text/html": [
       "<table>\n",
       "    <tr>\n",
       "        <th>program_category_description</th>\n",
       "        <th>program_category</th>\n",
       "        <th>program_category_description_1</th>\n",
       "    </tr>\n",
       "    <tr>\n",
       "        <td>0605 Seasonal Location -Food Service Permit</td>\n",
       "        <td>0605</td>\n",
       "        <td>Seasonal Location -Food Service Permit</td>\n",
       "    </tr>\n",
       "    <tr>\n",
       "        <td>0404 Institutional Kitchen</td>\n",
       "        <td>0404</td>\n",
       "        <td>Institutional Kitchen</td>\n",
       "    </tr>\n",
       "    <tr>\n",
       "        <td>None</td>\n",
       "        <td>0411</td>\n",
       "        <td>None</td>\n",
       "    </tr>\n",
       "    <tr>\n",
       "        <td>1001 Mobile Pre-Packaged</td>\n",
       "        <td>1001</td>\n",
       "        <td>Mobile Pre-Packaged</td>\n",
       "    </tr>\n",
       "    <tr>\n",
       "        <td>0607 Retail - Self Service &amp; Prepackage Foods</td>\n",
       "        <td>0607</td>\n",
       "        <td>Retail - Self Service &amp; Prepackage Foods</td>\n",
       "    </tr>\n",
       "    <tr>\n",
       "        <td>0406 Food Service Establishment</td>\n",
       "        <td>0406</td>\n",
       "        <td>Food Service Establishment</td>\n",
       "    </tr>\n",
       "    <tr>\n",
       "        <td>0407 Limited Menu</td>\n",
       "        <td>0407</td>\n",
       "        <td>Limited Menu</td>\n",
       "    </tr>\n",
       "    <tr>\n",
       "        <td>0602 Meat Market</td>\n",
       "        <td>0602</td>\n",
       "        <td>Meat Market</td>\n",
       "    </tr>\n",
       "    <tr>\n",
       "        <td>0408 School</td>\n",
       "        <td>0408</td>\n",
       "        <td>School</td>\n",
       "    </tr>\n",
       "    <tr>\n",
       "        <td>0609 Retail - Meat/Seafood</td>\n",
       "        <td>0609</td>\n",
       "        <td>Retail - Meat/Seafood</td>\n",
       "    </tr>\n",
       "    <tr>\n",
       "        <td>0610 Retail - Specialty Food Permit</td>\n",
       "        <td>0610</td>\n",
       "        <td>Retail - Specialty Food Permit</td>\n",
       "    </tr>\n",
       "    <tr>\n",
       "        <td>0405 Food Processor</td>\n",
       "        <td>0405</td>\n",
       "        <td>Food Processor</td>\n",
       "    </tr>\n",
       "    <tr>\n",
       "        <td>0410 NOT FOR PROFIT KITCHEN PERMIT</td>\n",
       "        <td>0410</td>\n",
       "        <td>NOT FOR PROFIT KITCHEN PERMIT</td>\n",
       "    </tr>\n",
       "    <tr>\n",
       "        <td>0606 Retail - Prepackage Only</td>\n",
       "        <td>0606</td>\n",
       "        <td>Retail - Prepackage Only</td>\n",
       "    </tr>\n",
       "    <tr>\n",
       "        <td>0604 Seasonal Venue -Fixed Location</td>\n",
       "        <td>0604</td>\n",
       "        <td>Seasonal Venue -Fixed Location</td>\n",
       "    </tr>\n",
       "    <tr>\n",
       "        <td>1002 Mobile Food Unit</td>\n",
       "        <td>1002</td>\n",
       "        <td>Mobile Food Unit</td>\n",
       "    </tr>\n",
       "    <tr>\n",
       "        <td>0603 Warehouse</td>\n",
       "        <td>0603</td>\n",
       "        <td>Warehouse</td>\n",
       "    </tr>\n",
       "    <tr>\n",
       "        <td>1000 Frozen Food Truck</td>\n",
       "        <td>1000</td>\n",
       "        <td>Frozen Food Truck</td>\n",
       "    </tr>\n",
       "    <tr>\n",
       "        <td>0608 Retail - Deli</td>\n",
       "        <td>0608</td>\n",
       "        <td>Retail - Deli</td>\n",
       "    </tr>\n",
       "    <tr>\n",
       "        <td>0409 Non School</td>\n",
       "        <td>0409</td>\n",
       "        <td>Non School</td>\n",
       "    </tr>\n",
       "    <tr>\n",
       "        <td>0402 Childcare</td>\n",
       "        <td>0402</td>\n",
       "        <td>Childcare</td>\n",
       "    </tr>\n",
       "    <tr>\n",
       "        <td>0601 Retail -Grocery</td>\n",
       "        <td>0601</td>\n",
       "        <td>Retail -Grocery</td>\n",
       "    </tr>\n",
       "    <tr>\n",
       "        <td>0501 Bar</td>\n",
       "        <td>0501</td>\n",
       "        <td>Bar</td>\n",
       "    </tr>\n",
       "    <tr>\n",
       "        <td>0403 Bakery</td>\n",
       "        <td>0403</td>\n",
       "        <td>Bakery</td>\n",
       "    </tr>\n",
       "    <tr>\n",
       "        <td>1003 Food/Drink Vending - Up to 15 Units</td>\n",
       "        <td>1003</td>\n",
       "        <td>Food/Drink Vending - Up to 15 Units</td>\n",
       "    </tr>\n",
       "</table>"
      ],
      "text/plain": [
       "[('0605 Seasonal Location -Food Service Permit', '0605', 'Seasonal Location -Food Service Permit'),\n",
       " ('0404 Institutional Kitchen', '0404', 'Institutional Kitchen'),\n",
       " (None, '0411', None),\n",
       " ('1001 Mobile Pre-Packaged', '1001', 'Mobile Pre-Packaged'),\n",
       " ('0607 Retail - Self Service & Prepackage Foods', '0607', 'Retail - Self Service & Prepackage Foods'),\n",
       " ('0406 Food Service Establishment', '0406', 'Food Service Establishment'),\n",
       " ('0407 Limited Menu', '0407', 'Limited Menu'),\n",
       " ('0602 Meat Market', '0602', 'Meat Market'),\n",
       " ('0408 School', '0408', 'School'),\n",
       " ('0609 Retail - Meat/Seafood', '0609', 'Retail - Meat/Seafood'),\n",
       " ('0610 Retail - Specialty Food Permit', '0610', 'Retail - Specialty Food Permit'),\n",
       " ('0405 Food Processor', '0405', 'Food Processor'),\n",
       " ('0410 NOT FOR PROFIT KITCHEN PERMIT', '0410', 'NOT FOR PROFIT KITCHEN PERMIT'),\n",
       " ('0606 Retail - Prepackage Only', '0606', 'Retail - Prepackage Only'),\n",
       " ('0604 Seasonal Venue -Fixed Location', '0604', 'Seasonal Venue -Fixed Location'),\n",
       " ('1002 Mobile Food Unit', '1002', 'Mobile Food Unit'),\n",
       " ('0603 Warehouse', '0603', 'Warehouse'),\n",
       " ('1000 Frozen Food Truck', '1000', 'Frozen Food Truck'),\n",
       " ('0608 Retail - Deli', '0608', 'Retail - Deli'),\n",
       " ('0409 Non School', '0409', 'Non School'),\n",
       " ('0402 Childcare', '0402', 'Childcare'),\n",
       " ('0601 Retail -Grocery', '0601', 'Retail -Grocery'),\n",
       " ('0501 Bar', '0501', 'Bar'),\n",
       " ('0403 Bakery', '0403', 'Bakery'),\n",
       " ('1003 Food/Drink Vending - Up to 15 Units', '1003', 'Food/Drink Vending - Up to 15 Units')]"
      ]
     },
     "execution_count": 23,
     "metadata": {},
     "output_type": "execute_result"
    }
   ],
   "source": [
    "%%sql\n",
    "SELECT DISTINCT PROGRAM_CATEGORY  || ' ' || PROGRAM_CATEGORY_DESCRIPTION AS PROGRAM_CATEGORY_DESCRIPTION, PROGRAM_CATEGORY, PROGRAM_CATEGORY_DESCRIPTION\n",
    "FROM E4;"
   ]
  },
  {
   "cell_type": "code",
   "execution_count": 24,
   "metadata": {
    "collapsed": false
   },
   "outputs": [
    {
     "name": "stdout",
     "output_type": "stream",
     "text": [
      "2 rows affected.\n"
     ]
    },
    {
     "data": {
      "text/html": [
       "<table>\n",
       "    <tr>\n",
       "        <th>count</th>\n",
       "        <th>attribute_name</th>\n",
       "    </tr>\n",
       "    <tr>\n",
       "        <td>19</td>\n",
       "        <td>result_code</td>\n",
       "    </tr>\n",
       "    <tr>\n",
       "        <td>19</td>\n",
       "        <td>result_desc</td>\n",
       "    </tr>\n",
       "</table>"
      ],
      "text/plain": [
       "[(19, 'result_code'), (19, 'result_desc')]"
      ]
     },
     "execution_count": 24,
     "metadata": {},
     "output_type": "execute_result"
    }
   ],
   "source": [
    "%%sql\n",
    "SELECT COUNT(*),'result_code' as attribute_name\n",
    "FROM (SELECT DISTINCT result_code\n",
    "     FROM E4)table1\n",
    "UNION\n",
    "SELECT COUNT(*),'result_desc' as attribute_name\n",
    "FROM (SELECT DISTINCT result_desc\n",
    "     FROM E4)table2"
   ]
  },
  {
   "cell_type": "code",
   "execution_count": 25,
   "metadata": {
    "collapsed": false
   },
   "outputs": [
    {
     "name": "stdout",
     "output_type": "stream",
     "text": [
      "19 rows affected.\n"
     ]
    },
    {
     "data": {
      "text/html": [
       "<table>\n",
       "    <tr>\n",
       "        <th>code_result</th>\n",
       "        <th>result_code</th>\n",
       "        <th>result_desc</th>\n",
       "    </tr>\n",
       "    <tr>\n",
       "        <td>22 OUT OF BUSINESS</td>\n",
       "        <td>22</td>\n",
       "        <td>OUT OF BUSINESS</td>\n",
       "    </tr>\n",
       "    <tr>\n",
       "        <td>11 FACILITY CLOSED AT TIME OF INSPECTION</td>\n",
       "        <td>11</td>\n",
       "        <td>FACILITY CLOSED AT TIME OF INSPECTION</td>\n",
       "    </tr>\n",
       "    <tr>\n",
       "        <td>18 TRAINING RECEIVED</td>\n",
       "        <td>18</td>\n",
       "        <td>TRAINING RECEIVED</td>\n",
       "    </tr>\n",
       "    <tr>\n",
       "        <td>06 UPGRADE</td>\n",
       "        <td>06</td>\n",
       "        <td>UPGRADE</td>\n",
       "    </tr>\n",
       "    <tr>\n",
       "        <td>00 NOT APPLICABLE</td>\n",
       "        <td>00</td>\n",
       "        <td>NOT APPLICABLE</td>\n",
       "    </tr>\n",
       "    <tr>\n",
       "        <td>12 PERMIT REINSTATEMENT</td>\n",
       "        <td>12</td>\n",
       "        <td>PERMIT REINSTATEMENT</td>\n",
       "    </tr>\n",
       "    <tr>\n",
       "        <td>10 PERMISSION TO OPERATE</td>\n",
       "        <td>10</td>\n",
       "        <td>PERMISSION TO OPERATE</td>\n",
       "    </tr>\n",
       "    <tr>\n",
       "        <td>05 DOWNGRADE</td>\n",
       "        <td>05</td>\n",
       "        <td>DOWNGRADE</td>\n",
       "    </tr>\n",
       "    <tr>\n",
       "        <td>25 PLAN REVIEW -APPROVED</td>\n",
       "        <td>25</td>\n",
       "        <td>PLAN REVIEW -APPROVED</td>\n",
       "    </tr>\n",
       "    <tr>\n",
       "        <td>27 RECALL VERIFICATION</td>\n",
       "        <td>27</td>\n",
       "        <td>RECALL VERIFICATION</td>\n",
       "    </tr>\n",
       "    <tr>\n",
       "        <td>14 IMMEDIATE CLOSURE</td>\n",
       "        <td>14</td>\n",
       "        <td>IMMEDIATE CLOSURE</td>\n",
       "    </tr>\n",
       "    <tr>\n",
       "        <td>03 IN COMPLIANCE</td>\n",
       "        <td>03</td>\n",
       "        <td>IN COMPLIANCE</td>\n",
       "    </tr>\n",
       "    <tr>\n",
       "        <td>04 NOTICE</td>\n",
       "        <td>04</td>\n",
       "        <td>NOTICE</td>\n",
       "    </tr>\n",
       "    <tr>\n",
       "        <td>20 EMBARGO</td>\n",
       "        <td>20</td>\n",
       "        <td>EMBARGO</td>\n",
       "    </tr>\n",
       "    <tr>\n",
       "        <td>02 NOT IN COMPLIANCE</td>\n",
       "        <td>02</td>\n",
       "        <td>NOT IN COMPLIANCE</td>\n",
       "    </tr>\n",
       "    <tr>\n",
       "        <td>19 WITNESS TO DESTRUCTION</td>\n",
       "        <td>19</td>\n",
       "        <td>WITNESS TO DESTRUCTION</td>\n",
       "    </tr>\n",
       "    <tr>\n",
       "        <td>13 PHONE CALL</td>\n",
       "        <td>13</td>\n",
       "        <td>PHONE CALL</td>\n",
       "    </tr>\n",
       "    <tr>\n",
       "        <td>08 VOLUNTARY CLOSURE</td>\n",
       "        <td>08</td>\n",
       "        <td>VOLUNTARY CLOSURE</td>\n",
       "    </tr>\n",
       "    <tr>\n",
       "        <td>07 PERMIT SUSPENSION</td>\n",
       "        <td>07</td>\n",
       "        <td>PERMIT SUSPENSION</td>\n",
       "    </tr>\n",
       "</table>"
      ],
      "text/plain": [
       "[('22 OUT OF BUSINESS', '22', 'OUT OF BUSINESS'),\n",
       " ('11 FACILITY CLOSED AT TIME OF INSPECTION', '11', 'FACILITY CLOSED AT TIME OF INSPECTION'),\n",
       " ('18 TRAINING RECEIVED', '18', 'TRAINING RECEIVED'),\n",
       " ('06 UPGRADE', '06', 'UPGRADE'),\n",
       " ('00 NOT APPLICABLE', '00', 'NOT APPLICABLE'),\n",
       " ('12 PERMIT REINSTATEMENT', '12', 'PERMIT REINSTATEMENT'),\n",
       " ('10 PERMISSION TO OPERATE', '10', 'PERMISSION TO OPERATE'),\n",
       " ('05 DOWNGRADE', '05', 'DOWNGRADE'),\n",
       " ('25 PLAN REVIEW -APPROVED', '25', 'PLAN REVIEW -APPROVED'),\n",
       " ('27 RECALL VERIFICATION', '27', 'RECALL VERIFICATION'),\n",
       " ('14 IMMEDIATE CLOSURE', '14', 'IMMEDIATE CLOSURE'),\n",
       " ('03 IN COMPLIANCE', '03', 'IN COMPLIANCE'),\n",
       " ('04 NOTICE', '04', 'NOTICE'),\n",
       " ('20 EMBARGO', '20', 'EMBARGO'),\n",
       " ('02 NOT IN COMPLIANCE', '02', 'NOT IN COMPLIANCE'),\n",
       " ('19 WITNESS TO DESTRUCTION', '19', 'WITNESS TO DESTRUCTION'),\n",
       " ('13 PHONE CALL', '13', 'PHONE CALL'),\n",
       " ('08 VOLUNTARY CLOSURE', '08', 'VOLUNTARY CLOSURE'),\n",
       " ('07 PERMIT SUSPENSION', '07', 'PERMIT SUSPENSION')]"
      ]
     },
     "execution_count": 25,
     "metadata": {},
     "output_type": "execute_result"
    }
   ],
   "source": [
    "%%sql\n",
    "SELECT DISTINCT RESULT_CODE  || ' ' || RESULT_DESC AS CODE_RESULT, RESULT_CODE, RESULT_DESC\n",
    "FROM E4;"
   ]
  },
  {
   "cell_type": "code",
   "execution_count": 26,
   "metadata": {
    "collapsed": false
   },
   "outputs": [
    {
     "name": "stdout",
     "output_type": "stream",
     "text": [
      "2 rows affected.\n"
     ]
    },
    {
     "data": {
      "text/html": [
       "<table>\n",
       "    <tr>\n",
       "        <th>count</th>\n",
       "        <th>attribute_name</th>\n",
       "    </tr>\n",
       "    <tr>\n",
       "        <td>71</td>\n",
       "        <td>violation_desc</td>\n",
       "    </tr>\n",
       "    <tr>\n",
       "        <td>133</td>\n",
       "        <td>violation_code</td>\n",
       "    </tr>\n",
       "</table>"
      ],
      "text/plain": [
       "[(71, 'violation_desc'), (133, 'violation_code')]"
      ]
     },
     "execution_count": 26,
     "metadata": {},
     "output_type": "execute_result"
    }
   ],
   "source": [
    "%%sql\n",
    "SELECT COUNT(*),'violation_code' as attribute_name\n",
    "FROM (SELECT DISTINCT violation_code\n",
    "     FROM E4)table1\n",
    "UNION\n",
    "SELECT COUNT(*),'violation_desc' as attribute_name\n",
    "FROM (SELECT DISTINCT violation_desc\n",
    "     FROM E4)table2"
   ]
  },
  {
   "cell_type": "code",
   "execution_count": 27,
   "metadata": {
    "collapsed": false
   },
   "outputs": [
    {
     "name": "stdout",
     "output_type": "stream",
     "text": [
      "2 rows affected.\n"
     ]
    },
    {
     "data": {
      "text/html": [
       "<table>\n",
       "    <tr>\n",
       "        <th>count</th>\n",
       "        <th>attribute_name</th>\n",
       "    </tr>\n",
       "    <tr>\n",
       "        <td>1852</td>\n",
       "        <td>owner_name</td>\n",
       "    </tr>\n",
       "    <tr>\n",
       "        <td>1892</td>\n",
       "        <td>owner_key</td>\n",
       "    </tr>\n",
       "</table>"
      ],
      "text/plain": [
       "[(1852, 'owner_name'), (1892, 'owner_key')]"
      ]
     },
     "execution_count": 27,
     "metadata": {},
     "output_type": "execute_result"
    }
   ],
   "source": [
    "%%sql\n",
    "SELECT COUNT(*),'owner_name' as attribute_name\n",
    "FROM (SELECT DISTINCT owner_name\n",
    "     FROM E4)table1\n",
    "UNION\n",
    "SELECT COUNT(*),'owner_key' as attribute_name\n",
    "FROM (SELECT DISTINCT owner_key\n",
    "     FROM E4)table2"
   ]
  },
  {
   "cell_type": "code",
   "execution_count": 28,
   "metadata": {
    "collapsed": false
   },
   "outputs": [
    {
     "name": "stdout",
     "output_type": "stream",
     "text": [
      "2 rows affected.\n"
     ]
    },
    {
     "data": {
      "text/html": [
       "<table>\n",
       "    <tr>\n",
       "        <th>count</th>\n",
       "        <th>attribute_name</th>\n",
       "    </tr>\n",
       "    <tr>\n",
       "        <td>405</td>\n",
       "        <td>street_name</td>\n",
       "    </tr>\n",
       "    <tr>\n",
       "        <td>1350</td>\n",
       "        <td>street_number</td>\n",
       "    </tr>\n",
       "</table>"
      ],
      "text/plain": [
       "[(405, 'street_name'), (1350, 'street_number')]"
      ]
     },
     "execution_count": 28,
     "metadata": {},
     "output_type": "execute_result"
    }
   ],
   "source": [
    "%%sql\n",
    "SELECT COUNT(*),'street_number' as attribute_name\n",
    "FROM (SELECT DISTINCT street_number\n",
    "     FROM E4)table1\n",
    "UNION\n",
    "SELECT COUNT(*),'street_name' as attribute_name\n",
    "FROM (SELECT DISTINCT street_name\n",
    "     FROM E4)table2"
   ]
  },
  {
   "cell_type": "code",
   "execution_count": 29,
   "metadata": {
    "collapsed": false
   },
   "outputs": [
    {
     "name": "stdout",
     "output_type": "stream",
     "text": [
      "2 rows affected.\n"
     ]
    },
    {
     "data": {
      "text/html": [
       "<table>\n",
       "    <tr>\n",
       "        <th>count</th>\n",
       "        <th>attribute_name</th>\n",
       "    </tr>\n",
       "    <tr>\n",
       "        <td>8</td>\n",
       "        <td>action_code</td>\n",
       "    </tr>\n",
       "    <tr>\n",
       "        <td>8</td>\n",
       "        <td>action_desc</td>\n",
       "    </tr>\n",
       "</table>"
      ],
      "text/plain": [
       "[(8, 'action_code'), (8, 'action_desc')]"
      ]
     },
     "execution_count": 29,
     "metadata": {},
     "output_type": "execute_result"
    }
   ],
   "source": [
    "%%sql\n",
    "SELECT COUNT(*),'action_code' as attribute_name\n",
    "FROM (SELECT DISTINCT action_code\n",
    "     FROM E4)table1\n",
    "UNION\n",
    "SELECT COUNT(*),'action_desc' as attribute_name\n",
    "FROM (SELECT DISTINCT action_desc\n",
    "     FROM E4)table2"
   ]
  },
  {
   "cell_type": "code",
   "execution_count": 30,
   "metadata": {
    "collapsed": false
   },
   "outputs": [
    {
     "name": "stdout",
     "output_type": "stream",
     "text": [
      "8 rows affected.\n"
     ]
    },
    {
     "data": {
      "text/html": [
       "<table>\n",
       "    <tr>\n",
       "        <th>code_action</th>\n",
       "        <th>action_code</th>\n",
       "        <th>action_desc</th>\n",
       "    </tr>\n",
       "    <tr>\n",
       "        <td>12 NO PERMIT APPLICATION ISSUED</td>\n",
       "        <td>12</td>\n",
       "        <td>NO PERMIT APPLICATION ISSUED</td>\n",
       "    </tr>\n",
       "    <tr>\n",
       "        <td>03 FACILITY CLOSED AT TIME OF SERVICE</td>\n",
       "        <td>03</td>\n",
       "        <td>FACILITY CLOSED AT TIME OF SERVICE</td>\n",
       "    </tr>\n",
       "    <tr>\n",
       "        <td>10 ANNUAL STICKER NOT ISSUED</td>\n",
       "        <td>10</td>\n",
       "        <td>ANNUAL STICKER NOT ISSUED</td>\n",
       "    </tr>\n",
       "    <tr>\n",
       "        <td>09 ANNUAL STICKER ISSUED</td>\n",
       "        <td>09</td>\n",
       "        <td>ANNUAL STICKER ISSUED</td>\n",
       "    </tr>\n",
       "    <tr>\n",
       "        <td>06 UNSATISFACTORY</td>\n",
       "        <td>06</td>\n",
       "        <td>UNSATISFACTORY</td>\n",
       "    </tr>\n",
       "    <tr>\n",
       "        <td>17 FOOD PERMIT SUSPENSION</td>\n",
       "        <td>17</td>\n",
       "        <td>FOOD PERMIT SUSPENSION</td>\n",
       "    </tr>\n",
       "    <tr>\n",
       "        <td>11 APPROVED</td>\n",
       "        <td>11</td>\n",
       "        <td>APPROVED</td>\n",
       "    </tr>\n",
       "    <tr>\n",
       "        <td>00 NON-GRADED</td>\n",
       "        <td>00</td>\n",
       "        <td>NON-GRADED</td>\n",
       "    </tr>\n",
       "</table>"
      ],
      "text/plain": [
       "[('12 NO PERMIT APPLICATION ISSUED', '12', 'NO PERMIT APPLICATION ISSUED'),\n",
       " ('03 FACILITY CLOSED AT TIME OF SERVICE', '03', 'FACILITY CLOSED AT TIME OF SERVICE'),\n",
       " ('10 ANNUAL STICKER NOT ISSUED', '10', 'ANNUAL STICKER NOT ISSUED'),\n",
       " ('09 ANNUAL STICKER ISSUED', '09', 'ANNUAL STICKER ISSUED'),\n",
       " ('06 UNSATISFACTORY', '06', 'UNSATISFACTORY'),\n",
       " ('17 FOOD PERMIT SUSPENSION', '17', 'FOOD PERMIT SUSPENSION'),\n",
       " ('11 APPROVED', '11', 'APPROVED'),\n",
       " ('00 NON-GRADED', '00', 'NON-GRADED')]"
      ]
     },
     "execution_count": 30,
     "metadata": {},
     "output_type": "execute_result"
    }
   ],
   "source": [
    "%%sql\n",
    "SELECT DISTINCT ACTION_CODE  || ' ' || ACTION_DESC AS CODE_ACTION, ACTION_CODE, ACTION_DESC\n",
    "FROM E4;"
   ]
  },
  {
   "cell_type": "markdown",
   "metadata": {},
   "source": [
    "From the data exploration, we can see that only in these pairs, there is a one-to-one relationship:\n",
    "    action-code and action-desc\n",
    "    result-code and result-desc\n",
    "    program-category and program-category-description\n",
    "To avoid redundancy on the data, I will create a result table and set result-code as PRIMARY KEY for this table and as FOREIGN KEY for E4."
   ]
  },
  {
   "cell_type": "code",
   "execution_count": 31,
   "metadata": {
    "collapsed": false
   },
   "outputs": [
    {
     "name": "stdout",
     "output_type": "stream",
     "text": [
      "Done.\n",
      "Done.\n"
     ]
    },
    {
     "data": {
      "text/plain": [
       "[]"
      ]
     },
     "execution_count": 31,
     "metadata": {},
     "output_type": "execute_result"
    }
   ],
   "source": [
    "%%sql\n",
    "DROP TABLE IF EXISTS result;\n",
    "CREATE TABLE result (\n",
    "    result_code VARCHAR(2),\n",
    "    result_desc VARCHAR(37),\n",
    "    PRIMARY KEY (result_code)\n",
    ")"
   ]
  },
  {
   "cell_type": "code",
   "execution_count": 32,
   "metadata": {
    "collapsed": false
   },
   "outputs": [
    {
     "name": "stdout",
     "output_type": "stream",
     "text": [
      "19 rows affected.\n"
     ]
    },
    {
     "data": {
      "text/plain": [
       "[]"
      ]
     },
     "execution_count": 32,
     "metadata": {},
     "output_type": "execute_result"
    }
   ],
   "source": [
    "%%sql\n",
    "INSERT INTO result (result_code, result_desc)\n",
    "SELECT DISTINCT result_code, result_desc\n",
    "FROM E4"
   ]
  },
  {
   "cell_type": "code",
   "execution_count": 33,
   "metadata": {
    "collapsed": false
   },
   "outputs": [
    {
     "name": "stdout",
     "output_type": "stream",
     "text": [
      "19 rows affected.\n"
     ]
    },
    {
     "data": {
      "text/html": [
       "<table>\n",
       "    <tr>\n",
       "        <th>result_code</th>\n",
       "        <th>result_desc</th>\n",
       "    </tr>\n",
       "    <tr>\n",
       "        <td>18</td>\n",
       "        <td>TRAINING RECEIVED</td>\n",
       "    </tr>\n",
       "    <tr>\n",
       "        <td>12</td>\n",
       "        <td>PERMIT REINSTATEMENT</td>\n",
       "    </tr>\n",
       "    <tr>\n",
       "        <td>11</td>\n",
       "        <td>FACILITY CLOSED AT TIME OF INSPECTION</td>\n",
       "    </tr>\n",
       "    <tr>\n",
       "        <td>20</td>\n",
       "        <td>EMBARGO</td>\n",
       "    </tr>\n",
       "    <tr>\n",
       "        <td>03</td>\n",
       "        <td>IN COMPLIANCE</td>\n",
       "    </tr>\n",
       "    <tr>\n",
       "        <td>22</td>\n",
       "        <td>OUT OF BUSINESS</td>\n",
       "    </tr>\n",
       "    <tr>\n",
       "        <td>13</td>\n",
       "        <td>PHONE CALL</td>\n",
       "    </tr>\n",
       "    <tr>\n",
       "        <td>14</td>\n",
       "        <td>IMMEDIATE CLOSURE</td>\n",
       "    </tr>\n",
       "    <tr>\n",
       "        <td>04</td>\n",
       "        <td>NOTICE</td>\n",
       "    </tr>\n",
       "    <tr>\n",
       "        <td>25</td>\n",
       "        <td>PLAN REVIEW -APPROVED</td>\n",
       "    </tr>\n",
       "    <tr>\n",
       "        <td>06</td>\n",
       "        <td>UPGRADE</td>\n",
       "    </tr>\n",
       "    <tr>\n",
       "        <td>05</td>\n",
       "        <td>DOWNGRADE</td>\n",
       "    </tr>\n",
       "    <tr>\n",
       "        <td>19</td>\n",
       "        <td>WITNESS TO DESTRUCTION</td>\n",
       "    </tr>\n",
       "    <tr>\n",
       "        <td>10</td>\n",
       "        <td>PERMISSION TO OPERATE</td>\n",
       "    </tr>\n",
       "    <tr>\n",
       "        <td>07</td>\n",
       "        <td>PERMIT SUSPENSION</td>\n",
       "    </tr>\n",
       "    <tr>\n",
       "        <td>00</td>\n",
       "        <td>NOT APPLICABLE</td>\n",
       "    </tr>\n",
       "    <tr>\n",
       "        <td>08</td>\n",
       "        <td>VOLUNTARY CLOSURE</td>\n",
       "    </tr>\n",
       "    <tr>\n",
       "        <td>02</td>\n",
       "        <td>NOT IN COMPLIANCE</td>\n",
       "    </tr>\n",
       "    <tr>\n",
       "        <td>27</td>\n",
       "        <td>RECALL VERIFICATION</td>\n",
       "    </tr>\n",
       "</table>"
      ],
      "text/plain": [
       "[('18', 'TRAINING RECEIVED'),\n",
       " ('12', 'PERMIT REINSTATEMENT'),\n",
       " ('11', 'FACILITY CLOSED AT TIME OF INSPECTION'),\n",
       " ('20', 'EMBARGO'),\n",
       " ('03', 'IN COMPLIANCE'),\n",
       " ('22', 'OUT OF BUSINESS'),\n",
       " ('13', 'PHONE CALL'),\n",
       " ('14', 'IMMEDIATE CLOSURE'),\n",
       " ('04', 'NOTICE'),\n",
       " ('25', 'PLAN REVIEW -APPROVED'),\n",
       " ('06', 'UPGRADE'),\n",
       " ('05', 'DOWNGRADE'),\n",
       " ('19', 'WITNESS TO DESTRUCTION'),\n",
       " ('10', 'PERMISSION TO OPERATE'),\n",
       " ('07', 'PERMIT SUSPENSION'),\n",
       " ('00', 'NOT APPLICABLE'),\n",
       " ('08', 'VOLUNTARY CLOSURE'),\n",
       " ('02', 'NOT IN COMPLIANCE'),\n",
       " ('27', 'RECALL VERIFICATION')]"
      ]
     },
     "execution_count": 33,
     "metadata": {},
     "output_type": "execute_result"
    }
   ],
   "source": [
    "%%sql\n",
    "SELECT *\n",
    "FROM result"
   ]
  },
  {
   "cell_type": "markdown",
   "metadata": {},
   "source": [
    "Then, I will delete the redundant column result_desc and set the result-code as FOREIGN KEY for the table E4."
   ]
  },
  {
   "cell_type": "code",
   "execution_count": 34,
   "metadata": {
    "collapsed": false
   },
   "outputs": [
    {
     "name": "stdout",
     "output_type": "stream",
     "text": [
      "Done.\n"
     ]
    },
    {
     "data": {
      "text/plain": [
       "[]"
      ]
     },
     "execution_count": 34,
     "metadata": {},
     "output_type": "execute_result"
    }
   ],
   "source": [
    "%%sql\n",
    "ALTER TABLE E4\n",
    "DROP COLUMN result_desc "
   ]
  },
  {
   "cell_type": "code",
   "execution_count": 35,
   "metadata": {
    "collapsed": false
   },
   "outputs": [
    {
     "name": "stdout",
     "output_type": "stream",
     "text": [
      "5 rows affected.\n"
     ]
    },
    {
     "data": {
      "text/html": [
       "<table>\n",
       "    <tr>\n",
       "        <th>facility_name</th>\n",
       "        <th>facility_key</th>\n",
       "        <th>site_address</th>\n",
       "        <th>city</th>\n",
       "        <th>state</th>\n",
       "        <th>zip</th>\n",
       "        <th>owner_key</th>\n",
       "        <th>owner_name</th>\n",
       "        <th>nature_of_business</th>\n",
       "        <th>street_number</th>\n",
       "        <th>street_name</th>\n",
       "        <th>street_type</th>\n",
       "        <th>post_directional</th>\n",
       "        <th>phone</th>\n",
       "        <th>program_category</th>\n",
       "        <th>program_category_description</th>\n",
       "        <th>inspection_date</th>\n",
       "        <th>inspection_type</th>\n",
       "        <th>inspection_desc</th>\n",
       "        <th>serial_num</th>\n",
       "        <th>action_code</th>\n",
       "        <th>action_desc</th>\n",
       "        <th>result_code</th>\n",
       "        <th>violation_code</th>\n",
       "        <th>violation_desc</th>\n",
       "        <th>inspection_memo</th>\n",
       "    </tr>\n",
       "    <tr>\n",
       "        <td>00BSAY IT WITH CAKE</td>\n",
       "        <td>50534</td>\n",
       "        <td>10200 GOLF COURSE RD NW STE B</td>\n",
       "        <td>ALBUQUERQUE</td>\n",
       "        <td>NM</td>\n",
       "        <td>87114</td>\n",
       "        <td>47341</td>\n",
       "        <td>OOBSAY IT WITH CAKE</td>\n",
       "        <td>CAKE DECORATING</td>\n",
       "        <td>10200</td>\n",
       "        <td>GOLF COURSE</td>\n",
       "        <td>RD</td>\n",
       "        <td>NW</td>\n",
       "        <td>5058339563</td>\n",
       "        <td>0405</td>\n",
       "        <td>Food Processor</td>\n",
       "        <td>2009-10-21 00:00:00</td>\n",
       "        <td>None</td>\n",
       "        <td>EMERGENCY RESPONSE</td>\n",
       "        <td>DA8009125</td>\n",
       "        <td>00</td>\n",
       "        <td>NON-GRADED</td>\n",
       "        <td>00</td>\n",
       "        <td>&nbsp;&nbsp;&nbsp;&nbsp;68    </td>\n",
       "        <td>Delivered Informational Brochure</td>\n",
       "        <td>None</td>\n",
       "    </tr>\n",
       "    <tr>\n",
       "        <td>00BSAY IT WITH CAKE</td>\n",
       "        <td>50534</td>\n",
       "        <td>10200 GOLF COURSE RD NW STE B</td>\n",
       "        <td>ALBUQUERQUE</td>\n",
       "        <td>NM</td>\n",
       "        <td>87114</td>\n",
       "        <td>47341</td>\n",
       "        <td>OOBSAY IT WITH CAKE</td>\n",
       "        <td>CAKE DECORATING</td>\n",
       "        <td>10200</td>\n",
       "        <td>GOLF COURSE</td>\n",
       "        <td>RD</td>\n",
       "        <td>NW</td>\n",
       "        <td>5058339563</td>\n",
       "        <td>0405</td>\n",
       "        <td>Food Processor</td>\n",
       "        <td>2009-10-21 00:00:00</td>\n",
       "        <td>None</td>\n",
       "        <td>ROUTINE FOOD INSPECTION</td>\n",
       "        <td>DA8009123</td>\n",
       "        <td>11</td>\n",
       "        <td>APPROVED</td>\n",
       "        <td>03</td>\n",
       "        <td>&nbsp;&nbsp;&nbsp;&nbsp;00    </td>\n",
       "        <td>No Violations Found</td>\n",
       "        <td>None</td>\n",
       "    </tr>\n",
       "    <tr>\n",
       "        <td>00BSAY IT WITH CAKE</td>\n",
       "        <td>50534</td>\n",
       "        <td>10200 GOLF COURSE RD NW STE B</td>\n",
       "        <td>ALBUQUERQUE</td>\n",
       "        <td>NM</td>\n",
       "        <td>87114</td>\n",
       "        <td>47341</td>\n",
       "        <td>OOBSAY IT WITH CAKE</td>\n",
       "        <td>CAKE DECORATING</td>\n",
       "        <td>10200</td>\n",
       "        <td>GOLF COURSE</td>\n",
       "        <td>RD</td>\n",
       "        <td>NW</td>\n",
       "        <td>5058339563</td>\n",
       "        <td>0405</td>\n",
       "        <td>Food Processor</td>\n",
       "        <td>2009-10-21 00:00:00</td>\n",
       "        <td>None</td>\n",
       "        <td>ROUTINE FOOD INSPECTION</td>\n",
       "        <td>DA8009123</td>\n",
       "        <td>11</td>\n",
       "        <td>APPROVED</td>\n",
       "        <td>03</td>\n",
       "        <td>&nbsp;&nbsp;&nbsp;&nbsp;55    </td>\n",
       "        <td>Additional Comments</td>\n",
       "        <td>None</td>\n",
       "    </tr>\n",
       "    <tr>\n",
       "        <td>00BSAY IT WITH CAKE</td>\n",
       "        <td>50534</td>\n",
       "        <td>10200 GOLF COURSE RD NW STE B</td>\n",
       "        <td>ALBUQUERQUE</td>\n",
       "        <td>NM</td>\n",
       "        <td>87114</td>\n",
       "        <td>47341</td>\n",
       "        <td>OOBSAY IT WITH CAKE</td>\n",
       "        <td>CAKE DECORATING</td>\n",
       "        <td>10200</td>\n",
       "        <td>GOLF COURSE</td>\n",
       "        <td>RD</td>\n",
       "        <td>NW</td>\n",
       "        <td>5058339563</td>\n",
       "        <td>0405</td>\n",
       "        <td>Food Processor</td>\n",
       "        <td>2010-04-14 00:00:00</td>\n",
       "        <td>None</td>\n",
       "        <td>ROUTINE FOOD INSPECTION</td>\n",
       "        <td>DA8010205</td>\n",
       "        <td>11</td>\n",
       "        <td>APPROVED</td>\n",
       "        <td>03</td>\n",
       "        <td>&nbsp;&nbsp;&nbsp;&nbsp;00    </td>\n",
       "        <td>No Violations Found</td>\n",
       "        <td>None</td>\n",
       "    </tr>\n",
       "    <tr>\n",
       "        <td>00BSAY IT WITH CAKE</td>\n",
       "        <td>50534</td>\n",
       "        <td>10200 GOLF COURSE RD NW STE B</td>\n",
       "        <td>ALBUQUERQUE</td>\n",
       "        <td>NM</td>\n",
       "        <td>87114</td>\n",
       "        <td>47341</td>\n",
       "        <td>OOBSAY IT WITH CAKE</td>\n",
       "        <td>CAKE DECORATING</td>\n",
       "        <td>10200</td>\n",
       "        <td>GOLF COURSE</td>\n",
       "        <td>RD</td>\n",
       "        <td>NW</td>\n",
       "        <td>5058339563</td>\n",
       "        <td>0405</td>\n",
       "        <td>Food Processor</td>\n",
       "        <td>2010-04-14 00:00:00</td>\n",
       "        <td>None</td>\n",
       "        <td>ROUTINE FOOD INSPECTION</td>\n",
       "        <td>DA8010205</td>\n",
       "        <td>11</td>\n",
       "        <td>APPROVED</td>\n",
       "        <td>03</td>\n",
       "        <td>&nbsp;&nbsp;&nbsp;&nbsp;55    </td>\n",
       "        <td>Additional Comments</td>\n",
       "        <td>None</td>\n",
       "    </tr>\n",
       "</table>"
      ],
      "text/plain": [
       "[('00BSAY IT WITH CAKE', 50534, '10200 GOLF COURSE RD NW STE B', 'ALBUQUERQUE', 'NM', '87114', 47341, 'OOBSAY IT WITH CAKE', 'CAKE DECORATING', '10200', 'GOLF COURSE', 'RD', 'NW', '5058339563', '0405', 'Food Processor', datetime.datetime(2009, 10, 21, 0, 0), None, 'EMERGENCY RESPONSE', 'DA8009125', '00', 'NON-GRADED', '00', '    68    ', 'Delivered Informational Brochure', None),\n",
       " ('00BSAY IT WITH CAKE', 50534, '10200 GOLF COURSE RD NW STE B', 'ALBUQUERQUE', 'NM', '87114', 47341, 'OOBSAY IT WITH CAKE', 'CAKE DECORATING', '10200', 'GOLF COURSE', 'RD', 'NW', '5058339563', '0405', 'Food Processor', datetime.datetime(2009, 10, 21, 0, 0), None, 'ROUTINE FOOD INSPECTION', 'DA8009123', '11', 'APPROVED', '03', '    00    ', 'No Violations Found', None),\n",
       " ('00BSAY IT WITH CAKE', 50534, '10200 GOLF COURSE RD NW STE B', 'ALBUQUERQUE', 'NM', '87114', 47341, 'OOBSAY IT WITH CAKE', 'CAKE DECORATING', '10200', 'GOLF COURSE', 'RD', 'NW', '5058339563', '0405', 'Food Processor', datetime.datetime(2009, 10, 21, 0, 0), None, 'ROUTINE FOOD INSPECTION', 'DA8009123', '11', 'APPROVED', '03', '    55    ', 'Additional Comments', None),\n",
       " ('00BSAY IT WITH CAKE', 50534, '10200 GOLF COURSE RD NW STE B', 'ALBUQUERQUE', 'NM', '87114', 47341, 'OOBSAY IT WITH CAKE', 'CAKE DECORATING', '10200', 'GOLF COURSE', 'RD', 'NW', '5058339563', '0405', 'Food Processor', datetime.datetime(2010, 4, 14, 0, 0), None, 'ROUTINE FOOD INSPECTION', 'DA8010205', '11', 'APPROVED', '03', '    00    ', 'No Violations Found', None),\n",
       " ('00BSAY IT WITH CAKE', 50534, '10200 GOLF COURSE RD NW STE B', 'ALBUQUERQUE', 'NM', '87114', 47341, 'OOBSAY IT WITH CAKE', 'CAKE DECORATING', '10200', 'GOLF COURSE', 'RD', 'NW', '5058339563', '0405', 'Food Processor', datetime.datetime(2010, 4, 14, 0, 0), None, 'ROUTINE FOOD INSPECTION', 'DA8010205', '11', 'APPROVED', '03', '    55    ', 'Additional Comments', None)]"
      ]
     },
     "execution_count": 35,
     "metadata": {},
     "output_type": "execute_result"
    }
   ],
   "source": [
    "%%sql\n",
    "SELECT *\n",
    "FROM E4\n",
    "LIMIT(5)"
   ]
  },
  {
   "cell_type": "code",
   "execution_count": 36,
   "metadata": {
    "collapsed": false
   },
   "outputs": [
    {
     "name": "stdout",
     "output_type": "stream",
     "text": [
      "Done.\n"
     ]
    },
    {
     "data": {
      "text/plain": [
       "[]"
      ]
     },
     "execution_count": 36,
     "metadata": {},
     "output_type": "execute_result"
    }
   ],
   "source": [
    "%%sql\n",
    "ALTER TABLE E4\n",
    "ADD CONSTRAINT inspect_FK FOREIGN KEY (result_code)\n",
    "REFERENCES result(result_code) ON DELETE NO ACTION"
   ]
  },
  {
   "cell_type": "markdown",
   "metadata": {},
   "source": [
    "Now, to avoid redundancy on the data, I will create a action table and set action-code as PRIMARY KEY for this table and as FOREIGN KEY for E4."
   ]
  },
  {
   "cell_type": "code",
   "execution_count": 37,
   "metadata": {
    "collapsed": false
   },
   "outputs": [
    {
     "name": "stdout",
     "output_type": "stream",
     "text": [
      "Done.\n",
      "Done.\n"
     ]
    },
    {
     "data": {
      "text/plain": [
       "[]"
      ]
     },
     "execution_count": 37,
     "metadata": {},
     "output_type": "execute_result"
    }
   ],
   "source": [
    "%%sql\n",
    "DROP TABLE IF EXISTS action;\n",
    "CREATE TABLE action (\n",
    "    action_code VARCHAR(2),\n",
    "    action_desc VARCHAR(34),\n",
    "    PRIMARY KEY (action_code)\n",
    ")"
   ]
  },
  {
   "cell_type": "code",
   "execution_count": 38,
   "metadata": {
    "collapsed": false
   },
   "outputs": [
    {
     "name": "stdout",
     "output_type": "stream",
     "text": [
      "8 rows affected.\n"
     ]
    },
    {
     "data": {
      "text/plain": [
       "[]"
      ]
     },
     "execution_count": 38,
     "metadata": {},
     "output_type": "execute_result"
    }
   ],
   "source": [
    "%%sql\n",
    "INSERT INTO action (action_code, action_desc)\n",
    "SELECT DISTINCT action_code, action_desc\n",
    "FROM E4"
   ]
  },
  {
   "cell_type": "code",
   "execution_count": 39,
   "metadata": {
    "collapsed": false
   },
   "outputs": [
    {
     "name": "stdout",
     "output_type": "stream",
     "text": [
      "8 rows affected.\n"
     ]
    },
    {
     "data": {
      "text/html": [
       "<table>\n",
       "    <tr>\n",
       "        <th>action_code</th>\n",
       "        <th>action_desc</th>\n",
       "    </tr>\n",
       "    <tr>\n",
       "        <td>00</td>\n",
       "        <td>NON-GRADED</td>\n",
       "    </tr>\n",
       "    <tr>\n",
       "        <td>10</td>\n",
       "        <td>ANNUAL STICKER NOT ISSUED</td>\n",
       "    </tr>\n",
       "    <tr>\n",
       "        <td>17</td>\n",
       "        <td>FOOD PERMIT SUSPENSION</td>\n",
       "    </tr>\n",
       "    <tr>\n",
       "        <td>03</td>\n",
       "        <td>FACILITY CLOSED AT TIME OF SERVICE</td>\n",
       "    </tr>\n",
       "    <tr>\n",
       "        <td>09</td>\n",
       "        <td>ANNUAL STICKER ISSUED</td>\n",
       "    </tr>\n",
       "    <tr>\n",
       "        <td>06</td>\n",
       "        <td>UNSATISFACTORY</td>\n",
       "    </tr>\n",
       "    <tr>\n",
       "        <td>11</td>\n",
       "        <td>APPROVED</td>\n",
       "    </tr>\n",
       "    <tr>\n",
       "        <td>12</td>\n",
       "        <td>NO PERMIT APPLICATION ISSUED</td>\n",
       "    </tr>\n",
       "</table>"
      ],
      "text/plain": [
       "[('00', 'NON-GRADED'),\n",
       " ('10', 'ANNUAL STICKER NOT ISSUED'),\n",
       " ('17', 'FOOD PERMIT SUSPENSION'),\n",
       " ('03', 'FACILITY CLOSED AT TIME OF SERVICE'),\n",
       " ('09', 'ANNUAL STICKER ISSUED'),\n",
       " ('06', 'UNSATISFACTORY'),\n",
       " ('11', 'APPROVED'),\n",
       " ('12', 'NO PERMIT APPLICATION ISSUED')]"
      ]
     },
     "execution_count": 39,
     "metadata": {},
     "output_type": "execute_result"
    }
   ],
   "source": [
    "%%sql\n",
    "SELECT *\n",
    "FROM action"
   ]
  },
  {
   "cell_type": "code",
   "execution_count": 40,
   "metadata": {
    "collapsed": false
   },
   "outputs": [
    {
     "name": "stdout",
     "output_type": "stream",
     "text": [
      "Done.\n"
     ]
    },
    {
     "data": {
      "text/plain": [
       "[]"
      ]
     },
     "execution_count": 40,
     "metadata": {},
     "output_type": "execute_result"
    }
   ],
   "source": [
    "%%sql\n",
    "ALTER TABLE E4\n",
    "DROP COLUMN action_desc "
   ]
  },
  {
   "cell_type": "code",
   "execution_count": 41,
   "metadata": {
    "collapsed": false
   },
   "outputs": [
    {
     "name": "stdout",
     "output_type": "stream",
     "text": [
      "Done.\n"
     ]
    },
    {
     "data": {
      "text/plain": [
       "[]"
      ]
     },
     "execution_count": 41,
     "metadata": {},
     "output_type": "execute_result"
    }
   ],
   "source": [
    "%%sql\n",
    "ALTER TABLE E4\n",
    "ADD CONSTRAINT inspect_FK_action FOREIGN KEY (action_code)\n",
    "REFERENCES action(action_code) ON DELETE NO ACTION"
   ]
  },
  {
   "cell_type": "markdown",
   "metadata": {},
   "source": [
    "Now, to avoid redundancy on the data, I will create a action table and set program_category as PRIMARY KEY for this table and as FOREIGN KEY for E4"
   ]
  },
  {
   "cell_type": "code",
   "execution_count": 42,
   "metadata": {
    "collapsed": false
   },
   "outputs": [
    {
     "name": "stdout",
     "output_type": "stream",
     "text": [
      "Done.\n",
      "Done.\n"
     ]
    },
    {
     "data": {
      "text/plain": [
       "[]"
      ]
     },
     "execution_count": 42,
     "metadata": {},
     "output_type": "execute_result"
    }
   ],
   "source": [
    "%%sql\n",
    "DROP TABLE IF EXISTS program_category;\n",
    "CREATE TABLE program_category (\n",
    "    program_category VARCHAR(4),\n",
    "    program_category_description VARCHAR(40),\n",
    "    PRIMARY KEY (program_category)\n",
    ")"
   ]
  },
  {
   "cell_type": "code",
   "execution_count": 43,
   "metadata": {
    "collapsed": false
   },
   "outputs": [
    {
     "name": "stdout",
     "output_type": "stream",
     "text": [
      "25 rows affected.\n"
     ]
    },
    {
     "data": {
      "text/plain": [
       "[]"
      ]
     },
     "execution_count": 43,
     "metadata": {},
     "output_type": "execute_result"
    }
   ],
   "source": [
    "%%sql\n",
    "INSERT INTO program_category (program_category, program_category_description)\n",
    "SELECT DISTINCT program_category, program_category_description\n",
    "FROM E4"
   ]
  },
  {
   "cell_type": "code",
   "execution_count": 44,
   "metadata": {
    "collapsed": false
   },
   "outputs": [
    {
     "name": "stdout",
     "output_type": "stream",
     "text": [
      "5 rows affected.\n"
     ]
    },
    {
     "data": {
      "text/html": [
       "<table>\n",
       "    <tr>\n",
       "        <th>program_category</th>\n",
       "        <th>program_category_description</th>\n",
       "    </tr>\n",
       "    <tr>\n",
       "        <td>0410</td>\n",
       "        <td>NOT FOR PROFIT KITCHEN PERMIT</td>\n",
       "    </tr>\n",
       "    <tr>\n",
       "        <td>0411</td>\n",
       "        <td>None</td>\n",
       "    </tr>\n",
       "    <tr>\n",
       "        <td>0608</td>\n",
       "        <td>Retail - Deli</td>\n",
       "    </tr>\n",
       "    <tr>\n",
       "        <td>0609</td>\n",
       "        <td>Retail - Meat/Seafood</td>\n",
       "    </tr>\n",
       "    <tr>\n",
       "        <td>0405</td>\n",
       "        <td>Food Processor</td>\n",
       "    </tr>\n",
       "</table>"
      ],
      "text/plain": [
       "[('0410', 'NOT FOR PROFIT KITCHEN PERMIT'),\n",
       " ('0411', None),\n",
       " ('0608', 'Retail - Deli'),\n",
       " ('0609', 'Retail - Meat/Seafood'),\n",
       " ('0405', 'Food Processor')]"
      ]
     },
     "execution_count": 44,
     "metadata": {},
     "output_type": "execute_result"
    }
   ],
   "source": [
    "%%sql\n",
    "SELECT *\n",
    "FROM program_category\n",
    "LIMIT 5"
   ]
  },
  {
   "cell_type": "code",
   "execution_count": 45,
   "metadata": {
    "collapsed": false
   },
   "outputs": [
    {
     "name": "stdout",
     "output_type": "stream",
     "text": [
      "Done.\n"
     ]
    },
    {
     "data": {
      "text/plain": [
       "[]"
      ]
     },
     "execution_count": 45,
     "metadata": {},
     "output_type": "execute_result"
    }
   ],
   "source": [
    "%%sql\n",
    "ALTER TABLE E4\n",
    "DROP COLUMN program_category_description "
   ]
  },
  {
   "cell_type": "code",
   "execution_count": 46,
   "metadata": {
    "collapsed": false
   },
   "outputs": [
    {
     "name": "stdout",
     "output_type": "stream",
     "text": [
      "Done.\n"
     ]
    },
    {
     "data": {
      "text/plain": [
       "[]"
      ]
     },
     "execution_count": 46,
     "metadata": {},
     "output_type": "execute_result"
    }
   ],
   "source": [
    "%%sql\n",
    "ALTER TABLE E4\n",
    "ADD CONSTRAINT inspect_FK_program_category FOREIGN KEY (program_category)\n",
    "REFERENCES program_category(program_category) ON DELETE NO ACTION"
   ]
  },
  {
   "cell_type": "code",
   "execution_count": 47,
   "metadata": {
    "collapsed": false
   },
   "outputs": [
    {
     "name": "stdout",
     "output_type": "stream",
     "text": [
      "5 rows affected.\n"
     ]
    },
    {
     "data": {
      "text/html": [
       "<table>\n",
       "    <tr>\n",
       "        <th>facility_name</th>\n",
       "        <th>facility_key</th>\n",
       "        <th>site_address</th>\n",
       "        <th>city</th>\n",
       "        <th>state</th>\n",
       "        <th>zip</th>\n",
       "        <th>owner_key</th>\n",
       "        <th>owner_name</th>\n",
       "        <th>nature_of_business</th>\n",
       "        <th>street_number</th>\n",
       "        <th>street_name</th>\n",
       "        <th>street_type</th>\n",
       "        <th>post_directional</th>\n",
       "        <th>phone</th>\n",
       "        <th>program_category</th>\n",
       "        <th>inspection_date</th>\n",
       "        <th>inspection_type</th>\n",
       "        <th>inspection_desc</th>\n",
       "        <th>serial_num</th>\n",
       "        <th>action_code</th>\n",
       "        <th>result_code</th>\n",
       "        <th>violation_code</th>\n",
       "        <th>violation_desc</th>\n",
       "        <th>inspection_memo</th>\n",
       "    </tr>\n",
       "    <tr>\n",
       "        <td>00BSAY IT WITH CAKE</td>\n",
       "        <td>50534</td>\n",
       "        <td>10200 GOLF COURSE RD NW STE B</td>\n",
       "        <td>ALBUQUERQUE</td>\n",
       "        <td>NM</td>\n",
       "        <td>87114</td>\n",
       "        <td>47341</td>\n",
       "        <td>OOBSAY IT WITH CAKE</td>\n",
       "        <td>CAKE DECORATING</td>\n",
       "        <td>10200</td>\n",
       "        <td>GOLF COURSE</td>\n",
       "        <td>RD</td>\n",
       "        <td>NW</td>\n",
       "        <td>5058339563</td>\n",
       "        <td>0405</td>\n",
       "        <td>2009-10-21 00:00:00</td>\n",
       "        <td>None</td>\n",
       "        <td>EMERGENCY RESPONSE</td>\n",
       "        <td>DA8009125</td>\n",
       "        <td>00</td>\n",
       "        <td>00</td>\n",
       "        <td>&nbsp;&nbsp;&nbsp;&nbsp;68    </td>\n",
       "        <td>Delivered Informational Brochure</td>\n",
       "        <td>None</td>\n",
       "    </tr>\n",
       "    <tr>\n",
       "        <td>00BSAY IT WITH CAKE</td>\n",
       "        <td>50534</td>\n",
       "        <td>10200 GOLF COURSE RD NW STE B</td>\n",
       "        <td>ALBUQUERQUE</td>\n",
       "        <td>NM</td>\n",
       "        <td>87114</td>\n",
       "        <td>47341</td>\n",
       "        <td>OOBSAY IT WITH CAKE</td>\n",
       "        <td>CAKE DECORATING</td>\n",
       "        <td>10200</td>\n",
       "        <td>GOLF COURSE</td>\n",
       "        <td>RD</td>\n",
       "        <td>NW</td>\n",
       "        <td>5058339563</td>\n",
       "        <td>0405</td>\n",
       "        <td>2009-10-21 00:00:00</td>\n",
       "        <td>None</td>\n",
       "        <td>ROUTINE FOOD INSPECTION</td>\n",
       "        <td>DA8009123</td>\n",
       "        <td>11</td>\n",
       "        <td>03</td>\n",
       "        <td>&nbsp;&nbsp;&nbsp;&nbsp;00    </td>\n",
       "        <td>No Violations Found</td>\n",
       "        <td>None</td>\n",
       "    </tr>\n",
       "    <tr>\n",
       "        <td>00BSAY IT WITH CAKE</td>\n",
       "        <td>50534</td>\n",
       "        <td>10200 GOLF COURSE RD NW STE B</td>\n",
       "        <td>ALBUQUERQUE</td>\n",
       "        <td>NM</td>\n",
       "        <td>87114</td>\n",
       "        <td>47341</td>\n",
       "        <td>OOBSAY IT WITH CAKE</td>\n",
       "        <td>CAKE DECORATING</td>\n",
       "        <td>10200</td>\n",
       "        <td>GOLF COURSE</td>\n",
       "        <td>RD</td>\n",
       "        <td>NW</td>\n",
       "        <td>5058339563</td>\n",
       "        <td>0405</td>\n",
       "        <td>2009-10-21 00:00:00</td>\n",
       "        <td>None</td>\n",
       "        <td>ROUTINE FOOD INSPECTION</td>\n",
       "        <td>DA8009123</td>\n",
       "        <td>11</td>\n",
       "        <td>03</td>\n",
       "        <td>&nbsp;&nbsp;&nbsp;&nbsp;55    </td>\n",
       "        <td>Additional Comments</td>\n",
       "        <td>None</td>\n",
       "    </tr>\n",
       "    <tr>\n",
       "        <td>00BSAY IT WITH CAKE</td>\n",
       "        <td>50534</td>\n",
       "        <td>10200 GOLF COURSE RD NW STE B</td>\n",
       "        <td>ALBUQUERQUE</td>\n",
       "        <td>NM</td>\n",
       "        <td>87114</td>\n",
       "        <td>47341</td>\n",
       "        <td>OOBSAY IT WITH CAKE</td>\n",
       "        <td>CAKE DECORATING</td>\n",
       "        <td>10200</td>\n",
       "        <td>GOLF COURSE</td>\n",
       "        <td>RD</td>\n",
       "        <td>NW</td>\n",
       "        <td>5058339563</td>\n",
       "        <td>0405</td>\n",
       "        <td>2010-04-14 00:00:00</td>\n",
       "        <td>None</td>\n",
       "        <td>ROUTINE FOOD INSPECTION</td>\n",
       "        <td>DA8010205</td>\n",
       "        <td>11</td>\n",
       "        <td>03</td>\n",
       "        <td>&nbsp;&nbsp;&nbsp;&nbsp;00    </td>\n",
       "        <td>No Violations Found</td>\n",
       "        <td>None</td>\n",
       "    </tr>\n",
       "    <tr>\n",
       "        <td>00BSAY IT WITH CAKE</td>\n",
       "        <td>50534</td>\n",
       "        <td>10200 GOLF COURSE RD NW STE B</td>\n",
       "        <td>ALBUQUERQUE</td>\n",
       "        <td>NM</td>\n",
       "        <td>87114</td>\n",
       "        <td>47341</td>\n",
       "        <td>OOBSAY IT WITH CAKE</td>\n",
       "        <td>CAKE DECORATING</td>\n",
       "        <td>10200</td>\n",
       "        <td>GOLF COURSE</td>\n",
       "        <td>RD</td>\n",
       "        <td>NW</td>\n",
       "        <td>5058339563</td>\n",
       "        <td>0405</td>\n",
       "        <td>2010-04-14 00:00:00</td>\n",
       "        <td>None</td>\n",
       "        <td>ROUTINE FOOD INSPECTION</td>\n",
       "        <td>DA8010205</td>\n",
       "        <td>11</td>\n",
       "        <td>03</td>\n",
       "        <td>&nbsp;&nbsp;&nbsp;&nbsp;55    </td>\n",
       "        <td>Additional Comments</td>\n",
       "        <td>None</td>\n",
       "    </tr>\n",
       "</table>"
      ],
      "text/plain": [
       "[('00BSAY IT WITH CAKE', 50534, '10200 GOLF COURSE RD NW STE B', 'ALBUQUERQUE', 'NM', '87114', 47341, 'OOBSAY IT WITH CAKE', 'CAKE DECORATING', '10200', 'GOLF COURSE', 'RD', 'NW', '5058339563', '0405', datetime.datetime(2009, 10, 21, 0, 0), None, 'EMERGENCY RESPONSE', 'DA8009125', '00', '00', '    68    ', 'Delivered Informational Brochure', None),\n",
       " ('00BSAY IT WITH CAKE', 50534, '10200 GOLF COURSE RD NW STE B', 'ALBUQUERQUE', 'NM', '87114', 47341, 'OOBSAY IT WITH CAKE', 'CAKE DECORATING', '10200', 'GOLF COURSE', 'RD', 'NW', '5058339563', '0405', datetime.datetime(2009, 10, 21, 0, 0), None, 'ROUTINE FOOD INSPECTION', 'DA8009123', '11', '03', '    00    ', 'No Violations Found', None),\n",
       " ('00BSAY IT WITH CAKE', 50534, '10200 GOLF COURSE RD NW STE B', 'ALBUQUERQUE', 'NM', '87114', 47341, 'OOBSAY IT WITH CAKE', 'CAKE DECORATING', '10200', 'GOLF COURSE', 'RD', 'NW', '5058339563', '0405', datetime.datetime(2009, 10, 21, 0, 0), None, 'ROUTINE FOOD INSPECTION', 'DA8009123', '11', '03', '    55    ', 'Additional Comments', None),\n",
       " ('00BSAY IT WITH CAKE', 50534, '10200 GOLF COURSE RD NW STE B', 'ALBUQUERQUE', 'NM', '87114', 47341, 'OOBSAY IT WITH CAKE', 'CAKE DECORATING', '10200', 'GOLF COURSE', 'RD', 'NW', '5058339563', '0405', datetime.datetime(2010, 4, 14, 0, 0), None, 'ROUTINE FOOD INSPECTION', 'DA8010205', '11', '03', '    00    ', 'No Violations Found', None),\n",
       " ('00BSAY IT WITH CAKE', 50534, '10200 GOLF COURSE RD NW STE B', 'ALBUQUERQUE', 'NM', '87114', 47341, 'OOBSAY IT WITH CAKE', 'CAKE DECORATING', '10200', 'GOLF COURSE', 'RD', 'NW', '5058339563', '0405', datetime.datetime(2010, 4, 14, 0, 0), None, 'ROUTINE FOOD INSPECTION', 'DA8010205', '11', '03', '    55    ', 'Additional Comments', None)]"
      ]
     },
     "execution_count": 47,
     "metadata": {},
     "output_type": "execute_result"
    }
   ],
   "source": [
    "%%sql\n",
    "SELECT *\n",
    "FROM E4\n",
    "LIMIT 5"
   ]
  },
  {
   "cell_type": "code",
   "execution_count": 48,
   "metadata": {
    "collapsed": false
   },
   "outputs": [
    {
     "name": "stdout",
     "output_type": "stream",
     "text": [
      "6 rows affected.\n"
     ]
    },
    {
     "data": {
      "text/html": [
       "<table>\n",
       "    <tr>\n",
       "        <th>constraint_name</th>\n",
       "        <th>table_name</th>\n",
       "        <th>column_name</th>\n",
       "    </tr>\n",
       "    <tr>\n",
       "        <td>inspect_fk_program_category</td>\n",
       "        <td>e4</td>\n",
       "        <td>program_category</td>\n",
       "    </tr>\n",
       "    <tr>\n",
       "        <td>inspect_fk_action</td>\n",
       "        <td>e4</td>\n",
       "        <td>action_code</td>\n",
       "    </tr>\n",
       "    <tr>\n",
       "        <td>inspect_fk</td>\n",
       "        <td>e4</td>\n",
       "        <td>result_code</td>\n",
       "    </tr>\n",
       "    <tr>\n",
       "        <td>result_pkey</td>\n",
       "        <td>result</td>\n",
       "        <td>result_code</td>\n",
       "    </tr>\n",
       "    <tr>\n",
       "        <td>action_pkey</td>\n",
       "        <td>action</td>\n",
       "        <td>action_code</td>\n",
       "    </tr>\n",
       "    <tr>\n",
       "        <td>program_category_pkey</td>\n",
       "        <td>program_category</td>\n",
       "        <td>program_category</td>\n",
       "    </tr>\n",
       "</table>"
      ],
      "text/plain": [
       "[('inspect_fk_program_category', 'e4', 'program_category'),\n",
       " ('inspect_fk_action', 'e4', 'action_code'),\n",
       " ('inspect_fk', 'e4', 'result_code'),\n",
       " ('result_pkey', 'result', 'result_code'),\n",
       " ('action_pkey', 'action', 'action_code'),\n",
       " ('program_category_pkey', 'program_category', 'program_category')]"
      ]
     },
     "execution_count": 48,
     "metadata": {},
     "output_type": "execute_result"
    }
   ],
   "source": [
    "%%sql\n",
    "SELECT CONSTRAINT_NAME, TABLE_NAME, COLUMN_NAME\n",
    "FROM INFORMATION_SCHEMA.KEY_COLUMN_USAGE\n",
    "WHERE TABLE_CATALOG = 'exercise4'"
   ]
  },
  {
   "cell_type": "markdown",
   "metadata": {},
   "source": [
    "We can see that now there are 3 FOREIGN KEY in the Table E4 and there is a PRIMARY KEY in the table result, a PRIMARY KEY in the table action and a PRIMARY KEY in the table program_category."
   ]
  },
  {
   "cell_type": "code",
   "execution_count": null,
   "metadata": {
    "collapsed": true
   },
   "outputs": [],
   "source": []
  }
 ],
 "metadata": {
  "anaconda-cloud": {},
  "kernelspec": {
   "display_name": "Python [Root]",
   "language": "python",
   "name": "Python [Root]"
  },
  "language_info": {
   "codemirror_mode": {
    "name": "ipython",
    "version": 3
   },
   "file_extension": ".py",
   "mimetype": "text/x-python",
   "name": "python",
   "nbconvert_exporter": "python",
   "pygments_lexer": "ipython3",
   "version": "3.5.2"
  }
 },
 "nbformat": 4,
 "nbformat_minor": 1
}
