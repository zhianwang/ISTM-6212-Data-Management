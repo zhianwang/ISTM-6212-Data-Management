{
 "cells": [
  {
   "cell_type": "markdown",
   "metadata": {},
   "source": [
    "### Problem1 PartA"
   ]
  },
  {
   "cell_type": "code",
   "execution_count": 1,
   "metadata": {
    "collapsed": false
   },
   "outputs": [
    {
     "name": "stdout",
     "output_type": "stream",
     "text": [
      "--2016-09-22 23:14:00--  https://raw.githubusercontent.com/gwsb-istm-6212-fall-2016/syllabus-and-schedule/master/projects/project-01/women.txt\n",
      "Resolving raw.githubusercontent.com (raw.githubusercontent.com)... 151.101.32.133\n",
      "Connecting to raw.githubusercontent.com (raw.githubusercontent.com)|151.101.32.133|:443... connected.\n",
      "HTTP request sent, awaiting response... 200 OK\n",
      "Length: 1053440 (1.0M) [text/plain]\n",
      "Saving to: ‘women.txt’\n",
      "\n",
      "women.txt           100%[===================>]   1.00M  3.36MB/s    in 0.3s    \n",
      "\n",
      "2016-09-22 23:14:01 (3.36 MB/s) - ‘women.txt’ saved [1053440/1053440]\n",
      "\n"
     ]
    }
   ],
   "source": [
    "!wget https://raw.githubusercontent.com/gwsb-istm-6212-fall-2016/syllabus-and-schedule/master/projects/project-01/women.txt"
   ]
  },
  {
   "cell_type": "code",
   "execution_count": 2,
   "metadata": {
    "collapsed": false
   },
   "outputs": [
    {
     "name": "stdout",
     "output_type": "stream",
     "text": [
      "1355\r\n"
     ]
    }
   ],
   "source": [
    "!cat women.txt| grep -oE '\\w{{2,}}' | grep -wc \"Jo\" "
   ]
  },
  {
   "cell_type": "code",
   "execution_count": 3,
   "metadata": {
    "collapsed": false
   },
   "outputs": [
    {
     "name": "stdout",
     "output_type": "stream",
     "text": [
      "459\r\n"
     ]
    }
   ],
   "source": [
    "!cat women.txt| grep -oE '\\w{{2,}}' | grep -wc \"Beth\" "
   ]
  },
  {
   "cell_type": "code",
   "execution_count": 4,
   "metadata": {
    "collapsed": false
   },
   "outputs": [
    {
     "name": "stdout",
     "output_type": "stream",
     "text": [
      "683\r\n"
     ]
    }
   ],
   "source": [
    "!cat women.txt| grep -oE '\\w{{2,}}' | grep -wc \"Meg\" "
   ]
  },
  {
   "cell_type": "code",
   "execution_count": 5,
   "metadata": {
    "collapsed": false
   },
   "outputs": [
    {
     "name": "stdout",
     "output_type": "stream",
     "text": [
      "645\r\n"
     ]
    }
   ],
   "source": [
    "!cat women.txt| grep -oE '\\w{{2,}}' | grep -wc \"Amy\"  "
   ]
  },
  {
   "cell_type": "markdown",
   "metadata": {},
   "source": [
    "### Problem1 PartB"
   ]
  },
  {
   "cell_type": "code",
   "execution_count": 6,
   "metadata": {
    "collapsed": false
   },
   "outputs": [
    {
     "name": "stdout",
     "output_type": "stream",
     "text": [
      "--2016-09-22 23:14:11--  https://raw.githubusercontent.com/gwsb-istm-6212-fall-2016/syllabus-and-schedule/master/projects/project-01/romeo.txt\n",
      "Resolving raw.githubusercontent.com (raw.githubusercontent.com)... 151.101.32.133\n",
      "Connecting to raw.githubusercontent.com (raw.githubusercontent.com)|151.101.32.133|:443... connected.\n",
      "HTTP request sent, awaiting response... 200 OK\n",
      "Length: 178983 (175K) [text/plain]\n",
      "Saving to: ‘romeo.txt’\n",
      "\n",
      "romeo.txt           100%[===================>] 174.79K  --.-KB/s    in 0.06s   \n",
      "\n",
      "2016-09-22 23:14:11 (2.75 MB/s) - ‘romeo.txt’ saved [178983/178983]\n",
      "\n"
     ]
    }
   ],
   "source": [
    "!wget https://raw.githubusercontent.com/gwsb-istm-6212-fall-2016/syllabus-and-schedule/master/projects/project-01/romeo.txt"
   ]
  },
  {
   "cell_type": "code",
   "execution_count": 7,
   "metadata": {
    "collapsed": false
   },
   "outputs": [
    {
     "name": "stdout",
     "output_type": "stream",
     "text": [
      "163\r\n"
     ]
    }
   ],
   "source": [
    "!grep \"Rom. \" romeo.txt| wc -l"
   ]
  },
  {
   "cell_type": "code",
   "execution_count": 8,
   "metadata": {
    "collapsed": false
   },
   "outputs": [
    {
     "name": "stdout",
     "output_type": "stream",
     "text": [
      "117\r\n"
     ]
    }
   ],
   "source": [
    "!grep \"Jul. \" romeo.txt | wc -l"
   ]
  },
  {
   "cell_type": "markdown",
   "metadata": {},
   "source": [
    "### Problem2 PartA"
   ]
  },
  {
   "cell_type": "code",
   "execution_count": 9,
   "metadata": {
    "collapsed": false
   },
   "outputs": [
    {
     "name": "stdout",
     "output_type": "stream",
     "text": [
      "--2016-09-22 23:15:25--  https://raw.githubusercontent.com/gwsb-istm-6212-fall-2016/syllabus-and-schedule/master/projects/project-01/2016q1.csv.zip\n",
      "Resolving raw.githubusercontent.com (raw.githubusercontent.com)... 151.101.32.133\n",
      "Connecting to raw.githubusercontent.com (raw.githubusercontent.com)|151.101.32.133|:443... connected.\n",
      "HTTP request sent, awaiting response... 200 OK\n",
      "Length: 10643003 (10M) [application/octet-stream]\n",
      "Saving to: ‘2016q1.csv.zip.2’\n",
      "\n",
      "2016q1.csv.zip.2    100%[===================>]  10.15M  3.48MB/s    in 2.9s    \n",
      "\n",
      "2016-09-22 23:15:28 (3.48 MB/s) - ‘2016q1.csv.zip.2’ saved [10643003/10643003]\n",
      "\n"
     ]
    }
   ],
   "source": [
    "!wget https://raw.githubusercontent.com/gwsb-istm-6212-fall-2016/syllabus-and-schedule/master/projects/project-01/2016q1.csv.zip"
   ]
  },
  {
   "cell_type": "code",
   "execution_count": 10,
   "metadata": {
    "collapsed": false
   },
   "outputs": [
    {
     "name": "stdout",
     "output_type": "stream",
     "text": [
      "Archive:  2016q1.csv.zip\n",
      "  inflating: 2016q1.csv              \n"
     ]
    }
   ],
   "source": [
    "!unzip 2016q1.csv.zip"
   ]
  },
  {
   "cell_type": "code",
   "execution_count": 11,
   "metadata": {
    "collapsed": false
   },
   "outputs": [],
   "source": [
    "!mv 2016q1.csv q1.csv"
   ]
  },
  {
   "cell_type": "code",
   "execution_count": 12,
   "metadata": {
    "collapsed": false
   },
   "outputs": [
    {
     "name": "stdout",
     "output_type": "stream",
     "text": [
      "|----------------+-----------------+-----------------+----------------------+--------------------------------+--------------------+-------------------------------+-------------+--------------|\r\n",
      "|  Duration (ms) | Start date      | End date        | Start station number | Start station                  | End station number | End station                   | Bike number | Member Type  |\r\n",
      "|----------------+-----------------+-----------------+----------------------+--------------------------------+--------------------+-------------------------------+-------------+--------------|\r\n",
      "|  301295        | 3/31/2016 23:59 | 4/1/2016 0:04   | 31280                | 11th & S St NW                 | 31506              | 1st & Rhode Island Ave NW     | W00022      | Registered   |\r\n",
      "|  557887        | 3/31/2016 23:59 | 4/1/2016 0:08   | 31275                | New Hampshire Ave & 24th St NW | 31114              | 18th St & Wyoming Ave NW      | W01294      | Registered   |\r\n",
      "|  555944        | 3/31/2016 23:59 | 4/1/2016 0:08   | 31101                | 14th & V St NW                 | 31221              | 18th & M St NW                | W01416      | Registered   |\r\n",
      "|  766916        | 3/31/2016 23:57 | 4/1/2016 0:09   | 31226                | 34th St & Wisconsin Ave NW     | 31214              | 17th & Corcoran St NW         | W01090      | Registered   |\r\n",
      "|  139656        | 3/31/2016 23:57 | 3/31/2016 23:59 | 31011                | 23rd & Crystal Dr              | 31009              | 27th & Crystal Dr             | W21934      | Registered   |\r\n",
      "|  967713        | 3/31/2016 23:57 | 4/1/2016 0:13   | 31266                | 11th & M St NW                 | 31600              | 5th & K St NW                 | W20562      | Casual       |\r\n",
      "|  534836        | 3/31/2016 23:57 | 4/1/2016 0:06   | 31222                | New York Ave & 15th St NW      | 31278              | 18th & R St NW                | W20222      | Registered   |\r\n",
      "|  243864        | 3/31/2016 23:56 | 4/1/2016 0:00   | 31228                | 8th & H St NW                  | 31600              | 5th & K St NW                 | W20291      | Registered   |\r\n",
      "|  372524        | 3/31/2016 23:55 | 4/1/2016 0:01   | 31113                | Columbia Rd & Belmont St NW    | 31234              | 20th & O St NW / Dupont South | W20590      | Registered   |\r\n",
      "|----------------+-----------------+-----------------+----------------------+--------------------------------+--------------------+-------------------------------+-------------+--------------|\r\n"
     ]
    }
   ],
   "source": [
    "!head -10 q1.csv | csvlook"
   ]
  },
  {
   "cell_type": "code",
   "execution_count": 13,
   "metadata": {
    "collapsed": false
   },
   "outputs": [
    {
     "name": "stdout",
     "output_type": "stream",
     "text": [
      "  1: Duration (ms)\r\n",
      "  2: Start date\r\n",
      "  3: End date\r\n",
      "  4: Start station number\r\n",
      "  5: Start station\r\n",
      "  6: End station number\r\n",
      "  7: End station\r\n",
      "  8: Bike number\r\n",
      "  9: Member Type\r\n"
     ]
    }
   ],
   "source": [
    "!csvcut -n q1.csv"
   ]
  },
  {
   "cell_type": "code",
   "execution_count": 14,
   "metadata": {
    "collapsed": false
   },
   "outputs": [
    {
     "name": "stdout",
     "output_type": "stream",
     "text": [
      "|----------------+--------------------------------+--------------------------------|\r\n",
      "|  Duration (ms) | Start station                  | End station                    |\r\n",
      "|----------------+--------------------------------+--------------------------------|\r\n",
      "|  301295        | 11th & S St NW                 | 1st & Rhode Island Ave NW      |\r\n",
      "|  557887        | New Hampshire Ave & 24th St NW | 18th St & Wyoming Ave NW       |\r\n",
      "|  555944        | 14th & V St NW                 | 18th & M St NW                 |\r\n",
      "|  766916        | 34th St & Wisconsin Ave NW     | 17th & Corcoran St NW          |\r\n",
      "|  139656        | 23rd & Crystal Dr              | 27th & Crystal Dr              |\r\n",
      "|  967713        | 11th & M St NW                 | 5th & K St NW                  |\r\n",
      "|  534836        | New York Ave & 15th St NW      | 18th & R St NW                 |\r\n",
      "|  243864        | 8th & H St NW                  | 5th & K St NW                  |\r\n",
      "|  372524        | Columbia Rd & Belmont St NW    | 20th & O St NW / Dupont South  |\r\n",
      "|----------------+--------------------------------+--------------------------------|\r\n"
     ]
    }
   ],
   "source": [
    "!head -10 q1.csv | csvcut -c1,5,7 | csvlook"
   ]
  },
  {
   "cell_type": "code",
   "execution_count": 15,
   "metadata": {
    "collapsed": false
   },
   "outputs": [
    {
     "name": "stdout",
     "output_type": "stream",
     "text": [
      "  13120 Columbus Circle / Union Station\r\n",
      "   9560 Massachusetts Ave & Dupont Circle NW\r\n",
      "   9388 Lincoln Memorial\r\n",
      "   8138 Jefferson Dr & 14th St SW\r\n",
      "   7479 Thomas Circle\r\n",
      "   7401 15th & P St NW\r\n",
      "   6568 14th & V St NW\r\n",
      "   6491 New Hampshire Ave & T St NW\r\n",
      "   5649 Eastern Market Metro / Pennsylvania Ave & 7th St SE\r\n",
      "   5514 17th & Corcoran St NW\r\n"
     ]
    }
   ],
   "source": [
    "! csvcut -c1,5,7 q1.csv| csvcut -c2 | sort | uniq -c | sort -rn| head -10"
   ]
  },
  {
   "cell_type": "code",
   "execution_count": 16,
   "metadata": {
    "collapsed": false
   },
   "outputs": [
    {
     "name": "stdout",
     "output_type": "stream",
     "text": [
      "  13880 Columbus Circle / Union Station\r\n",
      "  11183 Massachusetts Ave & Dupont Circle NW\r\n",
      "   9419 Lincoln Memorial\r\n",
      "   8975 Jefferson Dr & 14th St SW\r\n",
      "   8092 15th & P St NW\r\n",
      "   7267 14th & V St NW\r\n",
      "   6997 Thomas Circle\r\n",
      "   6245 New Hampshire Ave & T St NW\r\n",
      "   5761 5th & K St NW\r\n",
      "   5651 17th & Corcoran St NW\r\n"
     ]
    }
   ],
   "source": [
    "! csvcut -c1,5,7 q1.csv| csvcut -c3 | sort | uniq -c | sort -rn| head -10"
   ]
  },
  {
   "cell_type": "markdown",
   "metadata": {},
   "source": [
    "### Problem2 PartB"
   ]
  },
  {
   "cell_type": "code",
   "execution_count": 17,
   "metadata": {
    "collapsed": false
   },
   "outputs": [
    {
     "name": "stdout",
     "output_type": "stream",
     "text": [
      "     17 W22227\r\n",
      "     16 W21867\r\n",
      "     16 W21641\r\n",
      "     16 W21538\r\n",
      "     16 W21239\r\n",
      "     16 W20540\r\n",
      "     16 W00714\r\n",
      "     15 W22080\r\n",
      "     15 W21450\r\n",
      "     15 W21076\r\n",
      "sort: write failed: 'standard output': Broken pipe\r\n",
      "sort: write error\r\n"
     ]
    }
   ],
   "source": [
    "!csvcut -c5,7,8 q1.csv| csvgrep -c1 -m 'Columbus Circle / Union Station' | csvcut -c3| sort | uniq -c | sort -rn| head -10"
   ]
  },
  {
   "cell_type": "code",
   "execution_count": 18,
   "metadata": {
    "collapsed": false
   },
   "outputs": [
    {
     "name": "stdout",
     "output_type": "stream",
     "text": [
      "     18 W00485\r\n",
      "     17 W22227\r\n",
      "     16 W22099\r\n",
      "     16 W22080\r\n",
      "     16 W21239\r\n",
      "     16 W21076\r\n",
      "     16 W20425\r\n",
      "     16 W00714\r\n",
      "     15 W21997\r\n",
      "     15 W21867\r\n",
      "sort: write failed: 'standard output': Broken pipe\r\n",
      "sort: write error\r\n"
     ]
    }
   ],
   "source": [
    "!csvcut -c5,7,8 q1.csv| csvgrep -c2 -m 'Columbus Circle / Union Station' | csvcut -c3| sort | uniq -c | sort -rn| head -10"
   ]
  },
  {
   "cell_type": "markdown",
   "metadata": {},
   "source": [
    "### Problem 3 Part A"
   ]
  },
  {
   "cell_type": "code",
   "execution_count": 19,
   "metadata": {
    "collapsed": false
   },
   "outputs": [],
   "source": [
    "!chmod +x linefilter.py"
   ]
  },
  {
   "cell_type": "code",
   "execution_count": 20,
   "metadata": {
    "collapsed": false
   },
   "outputs": [
    {
     "name": "stdout",
     "output_type": "stream",
     "text": [
      "The\r\n",
      "Project\r\n",
      "Gutenberg\r\n",
      "EBook\r\n",
      "of\r\n",
      "Little\r\n",
      "Women\r\n",
      "by\r\n",
      "Louisa\r\n",
      "May\r\n",
      "Alcott\r\n",
      "This\r\n",
      "eBook\r\n",
      "is\r\n",
      "for\r\n",
      "the\r\n",
      "use\r\n",
      "of\r\n",
      "anyone\r\n",
      "anywhere\r\n",
      "at\r\n",
      "no\r\n",
      "cost\r\n",
      "and\r\n",
      "with\r\n",
      "almost\r\n",
      "no\r\n",
      "restrictions\r\n",
      "whatsoever\r\n",
      "You\r\n",
      "may\r\n",
      "copy\r\n",
      "it\r\n",
      "give\r\n",
      "it\r\n",
      "away\r\n",
      "or\r\n",
      "re\r\n",
      "use\r\n",
      "it\r\n",
      "under\r\n",
      "the\r\n",
      "terms\r\n",
      "of\r\n",
      "the\r\n",
      "Project\r\n",
      "Gutenberg\r\n",
      "License\r\n",
      "included\r\n",
      "with\r\n",
      "this\r\n",
      "eBook\r\n",
      "or\r\n",
      "online\r\n",
      "at\r\n",
      "www\r\n",
      "gutenberg\r\n",
      "net\r\n",
      "Title\r\n",
      "Little\r\n",
      "Women\r\n"
     ]
    }
   ],
   "source": [
    "!head women.txt | ./linefilter.py"
   ]
  },
  {
   "cell_type": "code",
   "execution_count": 21,
   "metadata": {
    "collapsed": true
   },
   "outputs": [],
   "source": [
    "!chmod +x lowerfilter.py"
   ]
  },
  {
   "cell_type": "code",
   "execution_count": 22,
   "metadata": {
    "collapsed": false
   },
   "outputs": [
    {
     "name": "stdout",
     "output_type": "stream",
     "text": [
      "﻿the project gutenberg ebook of little women, by louisa may alcott\r",
      "\r\n",
      "\r\n",
      "\r",
      "\r\n",
      "\r\n",
      "this ebook is for the use of anyone anywhere at no cost and with\r",
      "\r\n",
      "\r\n",
      "almost no restrictions whatsoever.  you may copy it, give it away or\r",
      "\r\n",
      "\r\n",
      "re-use it under the terms of the project gutenberg license included\r",
      "\r\n",
      "\r\n",
      "with this ebook or online at www.gutenberg.net\r",
      "\r\n",
      "\r\n",
      "\r",
      "\r\n",
      "\r\n",
      "\r",
      "\r\n",
      "\r\n",
      "title: little women\r",
      "\r\n",
      "\r\n",
      "\r",
      "\r\n",
      "\r\n"
     ]
    }
   ],
   "source": [
    "!head women.txt | ./lowerfilter.py"
   ]
  },
  {
   "cell_type": "code",
   "execution_count": 23,
   "metadata": {
    "collapsed": false
   },
   "outputs": [
    {
     "name": "stdout",
     "output_type": "stream",
     "text": [
      "   8155 and\r\n",
      "   7689 the\r\n",
      "   5152 to\r\n",
      "   3523 of\r\n",
      "   3245 her\r\n",
      "   2774 it\r\n",
      "   2503 in\r\n",
      "   2447 you\r\n",
      "   2343 she\r\n",
      "   2233 for\r\n",
      "sort: write failed: 'standard output': Broken pipe\r\n",
      "sort: write error\r\n"
     ]
    }
   ],
   "source": [
    "!cat women.txt | grep -oE '\\w{{2,}}' | tr '[:upper:]' '[:lower:]' | sort | uniq -c | sort -rn | head -10"
   ]
  },
  {
   "cell_type": "code",
   "execution_count": 24,
   "metadata": {
    "collapsed": false
   },
   "outputs": [
    {
     "name": "stdout",
     "output_type": "stream",
     "text": [
      "   8155 and\r\n",
      "   7689 the\r\n",
      "   5152 to\r\n",
      "   3523 of\r\n",
      "   3245 her\r\n",
      "   2774 it\r\n",
      "   2503 in\r\n",
      "   2447 you\r\n",
      "   2343 she\r\n",
      "   2233 for\r\n",
      "sort: write failed: 'standard output': Broken pipe\r\n",
      "sort: write error\r\n"
     ]
    }
   ],
   "source": [
    "!cat women.txt| ./lowerfilter.py | ./linefilter.py  | sort | uniq -c | sort -rn | head -10"
   ]
  },
  {
   "cell_type": "markdown",
   "metadata": {
    "collapsed": true
   },
   "source": [
    "### Problem 3 Part B"
   ]
  },
  {
   "cell_type": "code",
   "execution_count": 25,
   "metadata": {
    "collapsed": true
   },
   "outputs": [],
   "source": [
    "!chmod +x stopfilter.py"
   ]
  },
  {
   "cell_type": "code",
   "execution_count": 26,
   "metadata": {
    "collapsed": false
   },
   "outputs": [
    {
     "name": "stdout",
     "output_type": "stream",
     "text": [
      "   2033 was\r\n",
      "   1978 as\r\n",
      "   1937 that\r\n",
      "   1854 with\r\n",
      "   1598 he\r\n",
      "   1469 but\r\n",
      "   1362 jo\r\n",
      "   1135 so\r\n",
      "   1118 his\r\n",
      "   1067 at\r\n",
      "   1063 had\r\n",
      "   1014 be\r\n",
      "    976 on\r\n",
      "    942 not\r\n",
      "    916 if\r\n",
      "    881 all\r\n",
      "    843 my\r\n",
      "    827 said\r\n",
      "    821 is\r\n",
      "    782 him\r\n",
      "    755 me\r\n",
      "    730 little\r\n",
      "    725 one\r\n",
      "    719 they\r\n",
      "    717 have\r\n",
      "sort: write failed: 'standard output': Broken pipe\r\n",
      "sort: write error\r\n"
     ]
    }
   ],
   "source": [
    "!cat women.txt | ./lowerfilter.py | ./linefilter.py  |./stopfilter.py  | sort | uniq -c | sort -rn | head -25"
   ]
  },
  {
   "cell_type": "markdown",
   "metadata": {
    "collapsed": true
   },
   "source": [
    "### Extra Credit"
   ]
  },
  {
   "cell_type": "code",
   "execution_count": 27,
   "metadata": {
    "collapsed": false
   },
   "outputs": [
    {
     "name": "stdout",
     "output_type": "stream",
     "text": [
      "--2016-09-22 23:18:44--  https://raw.githubusercontent.com/gwsb-istm-6212-fall-2016/syllabus-and-schedule/master/projects/project-01/texts.zip\n",
      "Resolving raw.githubusercontent.com (raw.githubusercontent.com)... 151.101.32.133\n",
      "Connecting to raw.githubusercontent.com (raw.githubusercontent.com)|151.101.32.133|:443... connected.\n",
      "HTTP request sent, awaiting response... 200 OK\n",
      "Length: 12668137 (12M) [application/octet-stream]\n",
      "Saving to: ‘texts.zip’\n",
      "\n",
      "texts.zip           100%[===================>]  12.08M  3.57MB/s    in 3.4s    \n",
      "\n",
      "2016-09-22 23:18:48 (3.56 MB/s) - ‘texts.zip’ saved [12668137/12668137]\n",
      "\n"
     ]
    }
   ],
   "source": [
    "!wget https://raw.githubusercontent.com/gwsb-istm-6212-fall-2016/syllabus-and-schedule/master/projects/project-01/texts.zip"
   ]
  },
  {
   "cell_type": "code",
   "execution_count": 28,
   "metadata": {
    "collapsed": false
   },
   "outputs": [
    {
     "name": "stdout",
     "output_type": "stream",
     "text": [
      "Archive:  texts.zip\n",
      "  inflating: many-texts/10001.txt    \n",
      "  inflating: many-texts/10002.txt    \n",
      "  inflating: many-texts/10003.txt    \n",
      "  inflating: many-texts/10004.txt    \n",
      "  inflating: many-texts/10005.txt    \n",
      "  inflating: many-texts/10006.txt    \n",
      "  inflating: many-texts/10007.txt    \n",
      "  inflating: many-texts/10008.txt    \n",
      "  inflating: many-texts/10009.txt    \n",
      "  inflating: many-texts/10010.txt    \n",
      "  inflating: many-texts/10011.txt    \n",
      "  inflating: many-texts/10012.txt    \n",
      "  inflating: many-texts/10013.txt    \n",
      "  inflating: many-texts/10014.txt    \n",
      "  inflating: many-texts/10015.txt    \n",
      "  inflating: many-texts/10016.txt    \n",
      "  inflating: many-texts/10017.txt    \n",
      "  inflating: many-texts/10018.txt    \n",
      "  inflating: many-texts/10019.txt    \n",
      "  inflating: many-texts/10020.txt    \n",
      "  inflating: many-texts/10021.txt    \n",
      "  inflating: many-texts/10023.txt    \n",
      "  inflating: many-texts/10024.txt    \n",
      "  inflating: many-texts/10025.txt    \n",
      "  inflating: many-texts/10026.txt    \n",
      "  inflating: many-texts/10027.txt    \n",
      "  inflating: many-texts/10028.txt    \n",
      "  inflating: many-texts/10029.txt    \n",
      "  inflating: many-texts/10030.txt    \n",
      "  inflating: many-texts/10031.txt    \n",
      "  inflating: many-texts/10032.txt    \n",
      "  inflating: many-texts/10033.txt    \n",
      "  inflating: many-texts/10034.txt    \n",
      "  inflating: many-texts/10035.txt    \n",
      "  inflating: many-texts/10036.txt    \n",
      "  inflating: many-texts/10037.txt    \n",
      "  inflating: many-texts/10038.txt    \n",
      "  inflating: many-texts/10039.txt    \n",
      "  inflating: many-texts/10040.txt    \n",
      "  inflating: many-texts/10041.txt    \n",
      "  inflating: many-texts/10042.txt    \n",
      "  inflating: many-texts/10043.txt    \n",
      "  inflating: many-texts/10045.txt    \n",
      "  inflating: many-texts/10046.txt    \n",
      "  inflating: many-texts/10047.txt    \n",
      "  inflating: many-texts/10048.txt    \n",
      "  inflating: many-texts/10049.txt    \n",
      "  inflating: many-texts/10050.txt    \n",
      "  inflating: many-texts/10051.txt    \n",
      "  inflating: many-texts/10052.txt    \n",
      "  inflating: many-texts/10056.txt    \n",
      "  inflating: many-texts/10059.txt    \n",
      "  inflating: many-texts/10060.txt    \n",
      "  inflating: many-texts/10062.txt    \n",
      "  inflating: many-texts/12370.txt    \n",
      "  inflating: many-texts/12372.txt    \n",
      "  inflating: many-texts/12373.txt    \n",
      "  inflating: many-texts/12374.txt    \n",
      "  inflating: many-texts/12375.txt    \n",
      "  inflating: many-texts/12376.txt    \n",
      "  inflating: many-texts/12377.txt    \n",
      "  inflating: many-texts/12378.txt    \n",
      "  inflating: many-texts/12380.txt    \n",
      "  inflating: many-texts/12381.txt    \n",
      "  inflating: many-texts/12383.txt    \n",
      "  inflating: many-texts/12384.txt    \n",
      "  inflating: many-texts/12385.txt    \n",
      "  inflating: many-texts/12386.txt    \n",
      "  inflating: many-texts/1jcfs10.txt  \n",
      "  inflating: many-texts/2babb10.txt  \n",
      "  inflating: many-texts/3babb10.txt  \n",
      "  inflating: many-texts/50bab10.txt  \n",
      "  inflating: many-texts/ajtl10.txt   \n",
      "  inflating: many-texts/allyr10.txt  \n",
      "  inflating: many-texts/alpsn10.txt  \n",
      "  inflating: many-texts/balen10.txt  \n",
      "  inflating: many-texts/baleng2.txt  \n",
      "  inflating: many-texts/batlf10.txt  \n",
      "  inflating: many-texts/bgopr10.txt  \n",
      "  inflating: many-texts/brnte10.txt  \n",
      "  inflating: many-texts/bstjg10.txt  \n",
      "  inflating: many-texts/cambp10.txt  \n",
      "  inflating: many-texts/canbe10.txt  \n",
      "  inflating: many-texts/cantp10.txt  \n",
      "  inflating: many-texts/cfrz10.txt   \n",
      "  inflating: many-texts/crsnk10.txt  \n",
      "  inflating: many-texts/esbio10.txt  \n",
      "  inflating: many-texts/grybr10.txt  \n",
      "  inflating: many-texts/mklmt10.txt  \n",
      "  inflating: many-texts/morem10.txt  \n",
      "  inflating: many-texts/mspcd10.txt  \n",
      "  inflating: many-texts/penbr10.txt  \n",
      "  inflating: many-texts/pgjr10.txt   \n",
      "  inflating: many-texts/pntvw10.txt  \n",
      "  inflating: many-texts/prcpg10.txt  \n",
      "  inflating: many-texts/prhg10.txt   \n",
      "  inflating: many-texts/prhsb10.txt  \n",
      "  inflating: many-texts/rlsl110.txt  \n",
      "  inflating: many-texts/rlsl210.txt  \n",
      "  inflating: many-texts/rmlav10.txt  \n",
      "  inflating: many-texts/sesli10.txt  \n",
      "  inflating: many-texts/svyrd10.txt  \n",
      "  inflating: many-texts/tecom10.txt  \n",
      "  inflating: many-texts/utrkj10.txt  \n",
      "  inflating: many-texts/vpasm10.txt  \n",
      "  inflating: many-texts/wldsp10.txt  \n",
      "  inflating: many-texts/wtrbs10.txt  \n",
      "  inflating: many-texts/zncli10.txt  \n"
     ]
    }
   ],
   "source": [
    "!unzip -d many-texts texts.zip"
   ]
  },
  {
   "cell_type": "code",
   "execution_count": 29,
   "metadata": {
    "collapsed": false
   },
   "outputs": [
    {
     "name": "stdout",
     "output_type": "stream",
     "text": [
      "109\r\n"
     ]
    }
   ],
   "source": [
    "!ls -l many-texts | wc -l"
   ]
  },
  {
   "cell_type": "code",
   "execution_count": 30,
   "metadata": {
    "collapsed": false
   },
   "outputs": [
    {
     "name": "stdout",
     "output_type": "stream",
     "text": [
      "     958     8807    52510 many-texts/10001.txt\n",
      "    5690    54201   306892 many-texts/10002.txt\n",
      "    6327    64594   380817 many-texts/10003.txt\n",
      "    5361    51300   302750 many-texts/10004.txt\n",
      "    7313    73656   434760 many-texts/10005.txt\n",
      "    1582    16512    95831 many-texts/10006.txt\n",
      "    3695    31295   180129 many-texts/10007.txt\n",
      "    9154    69542   407271 many-texts/10008.txt\n",
      "    8502    90180   504214 many-texts/10009.txt\n",
      "    1451    13938    86336 many-texts/10010.txt\n",
      "    3881    26555   155567 many-texts/10011.txt\n",
      "    9175    94007   561124 many-texts/10012.txt\n",
      "    2535    18202   136650 many-texts/10013.txt\n",
      "    2858    19257   142492 many-texts/10014.txt\n",
      "    2681    18382   138460 many-texts/10015.txt\n",
      "    2824    19782   147277 many-texts/10016.txt\n",
      "    2661    18392   136288 many-texts/10017.txt\n",
      "    2741    18548   139702 many-texts/10018.txt\n",
      "    2740    18474   138437 many-texts/10019.txt\n",
      "    5632    48315   280956 many-texts/10020.txt\n",
      "    7316    55174   318632 many-texts/10021.txt\n",
      "    3583    38245   214800 many-texts/10023.txt\n",
      "    6441    53315   306215 many-texts/10024.txt\n",
      "    9639    69686   404693 many-texts/10025.txt\n",
      "    1937    16222    99760 many-texts/10026.txt\n",
      "    9072    75404   439080 many-texts/10027.txt\n",
      "    5369    46349   276424 many-texts/10028.txt\n",
      "    6896    54856   316283 many-texts/10029.txt\n",
      "   10790   104068   587414 many-texts/10030.txt\n",
      "   10377    64146   410012 many-texts/10031.txt\n",
      "    2622    18401   136841 many-texts/10032.txt\n",
      "    2648    18820   138029 many-texts/10033.txt\n",
      "    2888    18082   137047 many-texts/10034.txt\n",
      "    2750    19139   142997 many-texts/10035.txt\n",
      "    2778    18691   142257 many-texts/10036.txt\n",
      "    8222    69786   396120 many-texts/10037.txt\n",
      "   21255   154845   895429 many-texts/10038.txt\n",
      "   23550   147559   884471 many-texts/10039.txt\n",
      "    1053     4683    42014 many-texts/10040.txt\n",
      "    9132    75482   449973 many-texts/10041.txt\n",
      "    8147    75355   450525 many-texts/10042.txt\n",
      "    3319    32326   186257 many-texts/10043.txt\n",
      "    6265    40441   242697 many-texts/10045.txt\n",
      "    9802    95425   514564 many-texts/10046.txt\n",
      "    2785    20103   148901 many-texts/10047.txt\n",
      "    6225    45314   261984 many-texts/10048.txt\n",
      "    2981    30351   169713 many-texts/10049.txt\n",
      "    2838    29895   161556 many-texts/10050.txt\n",
      "    4081    45376   246157 many-texts/10051.txt\n",
      "    3508    38255   210943 many-texts/10052.txt\n",
      "   12006    90235   531848 many-texts/10056.txt\n",
      "    6650    51775   305801 many-texts/10059.txt\n",
      "    9956    98940   600646 many-texts/10060.txt\n",
      "   15638   144792   830476 many-texts/10062.txt\n",
      "    9574   100603   569574 many-texts/12370.txt\n",
      "    9331    85819   503561 many-texts/12372.txt\n",
      "    8776    86268   511478 many-texts/12373.txt\n",
      "    8747    84637   499663 many-texts/12374.txt\n",
      "    6151    54689   335840 many-texts/12375.txt\n",
      "    9468    92699   556871 many-texts/12376.txt\n",
      "    3710    33010   190511 many-texts/12377.txt\n",
      "    1905    13876    86285 many-texts/12378.txt\n",
      "    9379    82181   478797 many-texts/12380.txt\n",
      "    5456    56619   343561 many-texts/12381.txt\n",
      "   20247   126872   834180 many-texts/12383.txt\n",
      "    6015    33748   211632 many-texts/12384.txt\n",
      "   14015   119266   706620 many-texts/12385.txt\n",
      "    7972    76744   418886 many-texts/12386.txt\n",
      "   13569   141089   864515 many-texts/1jcfs10.txt\n",
      "    4658    22391   133753 many-texts/2babb10.txt\n",
      "    4814    25104   148572 many-texts/3babb10.txt\n",
      "    5859    30669   179964 many-texts/50bab10.txt\n",
      "    5702    48306   273967 many-texts/ajtl10.txt\n",
      "    2752    24292   145780 many-texts/allyr10.txt\n",
      "    7758    76519   429807 many-texts/alpsn10.txt\n",
      "    2893    17536    98212 many-texts/balen10.txt\n",
      "   10930    67628   368952 many-texts/baleng2.txt\n",
      "    3897    31279   183018 many-texts/batlf10.txt\n",
      "    2844    19051   110426 many-texts/bgopr10.txt\n",
      "     824     6677    41155 many-texts/brnte10.txt\n",
      "    2187    20352   114878 many-texts/bstjg10.txt\n",
      "    2334    19883   114379 many-texts/cambp10.txt\n",
      "    6965    62419   360031 many-texts/canbe10.txt\n",
      "    1975    16461    97478 many-texts/cantp10.txt\n",
      "    7790    69450   392387 many-texts/cfrz10.txt\n",
      "    8070    81365   461521 many-texts/crsnk10.txt\n",
      "    3529    27169   166625 many-texts/esbio10.txt\n",
      "    2389    18359   105427 many-texts/grybr10.txt\n",
      "    6257    57131   325285 many-texts/mklmt10.txt\n",
      "    1275     6277    38273 many-texts/morem10.txt\n",
      "    2682    25522   149315 many-texts/mspcd10.txt\n",
      "    2719    21442   124367 many-texts/penbr10.txt\n",
      "    5968    54254   309320 many-texts/pgjr10.txt\n",
      "    2047    21858   123684 many-texts/pntvw10.txt\n",
      "    7689    68597   393344 many-texts/prcpg10.txt\n",
      "    2365    19728   116330 many-texts/prhg10.txt\n",
      "    4171    34653   202188 many-texts/prhsb10.txt\n",
      "   12644   103791   576111 many-texts/rlsl110.txt\n",
      "   13022   113937   629627 many-texts/rlsl210.txt\n",
      "    7687    48233   288195 many-texts/rmlav10.txt\n",
      "    4920    49931   285499 many-texts/sesli10.txt\n",
      "    4176    20935   119559 many-texts/svyrd10.txt\n",
      "    4796    47165   266759 many-texts/tecom10.txt\n",
      "   11757   114971   671233 many-texts/utrkj10.txt\n",
      "     902     5482    32586 many-texts/vpasm10.txt\n",
      "    1540    14174    82920 many-texts/wldsp10.txt\n",
      "    7991    70571   385159 many-texts/wtrbs10.txt\n",
      "   11144   100665   598020 many-texts/zncli10.txt\n",
      "  668517  5607822 33085102 total\n"
     ]
    }
   ],
   "source": [
    "!wc many-texts/*.txt"
   ]
  },
  {
   "cell_type": "markdown",
   "metadata": {},
   "source": [
    "The parallel sentence has already be executed, so I can run the next sentence. But, everytime I finish running the parallel sentence, the kernel died. So, I directly run the sort sentences to show the output"
   ]
  },
  {
   "cell_type": "code",
   "execution_count": null,
   "metadata": {
    "collapsed": false
   },
   "outputs": [
    {
     "name": "stdout",
     "output_type": "stream",
     "text": [
      "0.00user 0.00system 0:00.01elapsed 0%CPU (0avgtext+0avgdata 2268maxresident)k\n",
      "264inputs+0outputs (2major+117minor)pagefaults 0swaps\n",
      "When using programs that use GNU Parallel to process data for publication please cite:\n",
      "\n",
      "  O. Tange (2011): GNU Parallel - The Command-Line Power Tool,\n",
      "  ;login: The USENIX Magazine, February 2011:42-47.\n",
      "\n",
      "This helps funding further development; and it won't cost you a cent.\n",
      "Or you can get GNU Parallel without this requirement by paying 10000 EUR.\n",
      "\n",
      "To silence this citation notice run 'parallel --bibtex' once or use '--no-notice'.\n",
      "\n",
      "\u001b7\u001b[r\u001b[999;999H\u001b[6n\n",
      "Computers / CPU cores / Max jobs to run\n",
      "1:local / 1 / 1\n",
      "\u001b7\u001b[r\u001b[999;999H\u001b[6n\n",
      "Computer:jobs running/jobs completed/%of started jobs/Average seconds to complete\n",
      "ETA: 611s Left: 100 AVG: 8.89s  local:1/9/100%/12.3s \u001b7\u001b[r\u001b[999;999H\u001b[6n"
     ]
    }
   ],
   "source": [
    "!time ls many-texts/*.txt \\\n",
    "    | parallel --eta -j+0 \"./lowerfilter.py | ./linefilter.py   |./stopfilter.py >> many-texts/all-words.txt\""
   ]
  },
  {
   "cell_type": "code",
   "execution_count": 1,
   "metadata": {
    "collapsed": false
   },
   "outputs": [
    {
     "name": "stdout",
     "output_type": "stream",
     "text": [
      "0.76user 0.05system 0:01.12elapsed 72%CPU (0avgtext+0avgdata 32272maxresident)k\n",
      "6544inputs+0outputs (3major+2626minor)pagefaults 0swaps\n",
      "  15079 a\n",
      "   9242 I\n",
      "   6577 that\n",
      "   6154 with\n",
      "   6145 was\n",
      "   4997 is\n",
      "   4825 as\n",
      "   3822 he\n",
      "   3650 on\n",
      "   3627 his\n",
      "   3389 or\n",
      "   3314 had\n",
      "   3251 The\n",
      "   3187 at\n",
      "   3033 by\n",
      "   3002 be\n",
      "   2949 my\n",
      "   2875 from\n",
      "   2843 which\n",
      "   2838 not\n",
      "   2688 all\n",
      "   2441 are\n",
      "   2385 this\n",
      "   2320 but\n",
      "   2284 we\n",
      "sort: write failed: 'standard output': Broken pipe\n",
      "sort: write error\n"
     ]
    }
   ],
   "source": [
    "!time sort many-texts/all-words.txt \\\n",
    "    | uniq -c \\\n",
    "    | sort -rn \\\n",
    "    | head -25"
   ]
  },
  {
   "cell_type": "code",
   "execution_count": null,
   "metadata": {
    "collapsed": true
   },
   "outputs": [],
   "source": []
  }
 ],
 "metadata": {
  "anaconda-cloud": {},
  "kernelspec": {
   "display_name": "Python 3",
   "language": "python",
   "name": "python3"
  },
  "language_info": {
   "codemirror_mode": {
    "name": "ipython",
    "version": 3
   },
   "file_extension": ".py",
   "mimetype": "text/x-python",
   "name": "python",
   "nbconvert_exporter": "python",
   "pygments_lexer": "ipython3",
   "version": "3.5.2"
  }
 },
 "nbformat": 4,
 "nbformat_minor": 1
}
